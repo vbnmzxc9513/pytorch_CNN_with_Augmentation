{
 "cells": [
  {
   "cell_type": "code",
   "execution_count": 1,
   "metadata": {},
   "outputs": [],
   "source": [
    "from os import listdir\n",
    "from os.path import join, splitext, basename\n",
    "import glob\n",
    "\n",
    "import torch.utils.data as data\n",
    "import torchvision.transforms as transforms\n",
    "from torch.utils.data import DataLoader\n",
    "from PIL import Image\n",
    "import PIL\n",
    "import numpy as np\n",
    "import torch\n",
    "import torchvision\n",
    "import random\n",
    "import torchvision.models as models\n",
    "import torch.optim as optim\n",
    "import torch.nn as nn\n",
    "\n",
    "from imgaug import augmenters as iaa\n",
    "import imgaug as ia"
   ]
  },
  {
   "cell_type": "code",
   "execution_count": 2,
   "metadata": {},
   "outputs": [],
   "source": [
    "code2names = {\n",
    "    0:\"Bread\",\n",
    "    1:\"Dairy_product\",\n",
    "    2:\"Dessert\",\n",
    "    3:\"Egg\",\n",
    "    4:\"Fried_food\",\n",
    "    5:\"Meat\",\n",
    "    6:\"Noodles\",\n",
    "    7:\"Rice\",\n",
    "    8:\"Seafood\",\n",
    "    9:\"Soup\",\n",
    "    10:\"Vegetable_fruit\"\n",
    "}\n",
    "\n",
    "def is_image_file(filename):\n",
    "    return any(filename.endswith(extension) for extension in [\".png\", \".jpg\", \".jpeg\"])\n",
    "\n",
    "def load_img(filepath):\n",
    "    img = Image.open(filepath)\n",
    "    return img\n"
   ]
  },
  {
   "cell_type": "code",
   "execution_count": 3,
   "metadata": {},
   "outputs": [],
   "source": [
    "import matplotlib.pyplot as plt\n",
    "%matplotlib inline\n",
    "import matplotlib as mpl\n",
    "mpl.rcParams['axes.grid'] = False\n",
    "mpl.rcParams['image.interpolation'] = 'nearest'\n",
    "mpl.rcParams['figure.figsize'] = 15, 25\n",
    "def show_dataset(dataset, n=6):\n",
    "    img = np.vstack((np.hstack((np.asarray(dataset[i][0]) for _ in range(n))) for i in range(5)))\n",
    "    plt.imshow(img)\n",
    "    plt.axis('off')"
   ]
  },
  {
   "cell_type": "code",
   "execution_count": 4,
   "metadata": {},
   "outputs": [],
   "source": [
    "class ImgAugTransform:\n",
    "    def __init__(self):\n",
    "        self.aug = iaa.Sequential([\n",
    "            iaa.Scale((224, 224)),\n",
    "            iaa.Sometimes(0.25, iaa.GaussianBlur(sigma=(0, 3.0))),\n",
    "            iaa.Fliplr(0.5),\n",
    "            iaa.Affine(rotate=(-20, 20), mode='symmetric'),\n",
    "            iaa.Sometimes(0.25,\n",
    "                      iaa.OneOf([iaa.Dropout(p=(0, 0.1)),\n",
    "                                 iaa.CoarseDropout(0.1, size_percent=0.5)])),  # 對batch中的一部分圖片應用一部分Augmenters,剩下的圖片應用另外的Augmenters。\n",
    "            iaa.AddToHueAndSaturation(value=(-10, 10), per_channel=True)  # 即修改色調和飽和度\n",
    "        ])\n",
    "      \n",
    "    def __call__(self, img):\n",
    "        img = np.array(img)\n",
    "        return self.aug.augment_image(img)"
   ]
  },
  {
   "cell_type": "code",
   "execution_count": 5,
   "metadata": {},
   "outputs": [],
   "source": [
    "def input_transform():\n",
    "    return transforms.Compose([\n",
    "        ImgAugTransform(),\n",
    "        transforms.ToTensor(),\n",
    "        transforms.Normalize([0.485, 0.456, 0.406], [0.229, 0.224, 0.225]),\n",
    "    ])\n",
    "\n",
    "def not_train_transform():\n",
    "    return transforms.Compose([\n",
    "        transforms.Resize((224, 224)),\n",
    "        transforms.ToTensor(),\n",
    "        transforms.Normalize([0.485, 0.456, 0.406], [0.229, 0.224, 0.225]),\n",
    "    ])"
   ]
  },
  {
   "cell_type": "code",
   "execution_count": 6,
   "metadata": {},
   "outputs": [],
   "source": [
    "class Food11Dataset(data.Dataset):\n",
    "    def __init__(self, image_dir, input_transform=input_transform, is_train=False):\n",
    "        super(Food11Dataset, self).__init__()\n",
    "        self.path_pattern = image_dir + '/**/*.*'\n",
    "        self.files_list = glob.glob(self.path_pattern, recursive=True)\n",
    "        self.datapath = image_dir\n",
    "        self.image_filenames = []\n",
    "        self.classes_file_name = {}\n",
    "        self.num_per_classes = {}\n",
    "        self.class_name_list = []\n",
    "        for file in self.files_list:\n",
    "            if is_image_file(file):\n",
    "                self.image_filenames.append(file)\n",
    "                class_name = int(basename(file).split(\"_\")[0])\n",
    "                if class_name not in self.class_name_list:\n",
    "                    self.class_name_list.append(class_name)\n",
    "                if class_name in self.num_per_classes:\n",
    "                    self.num_per_classes[class_name] += 1\n",
    "                    self.classes_file_name[class_name].append(file)\n",
    "                else:\n",
    "                    self.num_per_classes[class_name] = 1\n",
    "                    self.classes_file_name[class_name] = []\n",
    "                    self.classes_file_name[class_name].append(file)\n",
    "                    \n",
    "\n",
    "        self.input_transform = input_transform\n",
    "        self.is_train = is_train\n",
    "\n",
    "    def __getitem__(self, index):\n",
    "        # TODO [Lab 2-1] Try to embed third-party augmentation functions into pytorch flow\n",
    "        input_file = self.image_filenames[index]\n",
    "        input = load_img(input_file)\n",
    "        if self.input_transform:\n",
    "            input = self.input_transform()(input)\n",
    "        label = basename(self.image_filenames[index])\n",
    "        label = int(label.split(\"_\")[0])\n",
    "        return input, label\n",
    "\n",
    "    def __len__(self):\n",
    "        return len(self.image_filenames)\n",
    "\n",
    "    def show_details(self):\n",
    "        for key in sorted(self.num_per_classes.keys()):\n",
    "            print(\"{:<8}|{:<20}|{:<12}\".format(\n",
    "                key,\n",
    "                code2names[key],\n",
    "                self.num_per_classes[key]\n",
    "            ))\n",
    "    \n",
    "    ''' TODO [Lab 2-1]\n",
    "    #please add a new function \"augmentation(self, wts)\"\n",
    "    #it can change the number of data according to weight of each category\n",
    "    #\"weight\" represents the ratio comparing with the amount of original set\n",
    "    #if the weight > 100, we create new data by copying\n",
    "    #if the weight < 100, we will delete the original data\n",
    "    #[hint]you only need to edit the \"self.image_filenames\" \n",
    "ODOT [Lab 2-1]'''\n",
    "    \n",
    "    def augmentation(self):\n",
    "        if self.is_train:\n",
    "            pass\n",
    "\n",
    "    def augmentation(self, wts): \n",
    "        outsample_num = {}\n",
    "        if self.is_train:\n",
    "            for w in range(len(wts)):\n",
    "                outsample_num[w] = (int(self.num_per_classes[w] * wts[w]))\n",
    "        \n",
    "            for class_name in self.class_name_list:\n",
    "                while self.num_per_classes[class_name] < outsample_num[class_name]:\n",
    "                    random_file = random.sample(self.classes_file_name[class_name], 1)[0]\n",
    "                    self.image_filenames.append(random_file)\n",
    "                    self.num_per_classes[class_name] += 1\n",
    "                    self.classes_file_name[class_name].append(random_file)\n",
    "                while self.num_per_classes[class_name] > outsample_num[class_name]:\n",
    "                    random_file = random.sample(self.classes_file_name[class_name], 1)[0]\n",
    "                    self.image_filenames.remove(random_file)\n",
    "                    self.num_per_classes[class_name] -= 1\n",
    "                    self.classes_file_name[class_name].remove(random_file)\n",
    "\n",
    "                    \n",
    "                       "
   ]
  },
  {
   "cell_type": "code",
   "execution_count": 7,
   "metadata": {},
   "outputs": [],
   "source": [
    "def WRSampler(dataset, wts):\n",
    "    class_name_list = dataset.class_name_list\n",
    "    num_per_classes = dataset.num_per_classes\n",
    "    \n",
    "    each_data_wts = []\n",
    "    for class_name in class_name_list:\n",
    "        class_item_num = num_per_classes[class_name]\n",
    "        for i in range(class_item_num):\n",
    "            each_data_wts.append(wts[class_name])\n",
    "    \n",
    "    sampler = torch.utils.data.sampler.WeightedRandomSampler(each_data_wts, len(each_data_wts), replacement=True)\n",
    "    \n",
    "    return sampler"
   ]
  },
  {
   "cell_type": "code",
   "execution_count": 8,
   "metadata": {},
   "outputs": [],
   "source": [
    "def data_loading(loader, dataset):\n",
    "\n",
    "    num_per_classes = {}\n",
    "    for batch_idx, (data, label) in enumerate(loader):\n",
    "        for l in label:\n",
    "            if l.item() in num_per_classes:\n",
    "                num_per_classes[l.item()] += 1\n",
    "            else:\n",
    "                num_per_classes[l.item()] = 1\n",
    "\n",
    "    print(\"----------------------------------------------------------------------------------\")\n",
    "    print(\"Dataset - \", dataset.datapath)\n",
    "    print(\"{:<20}|{:<15}|{:<15}\".format(\"class_name\", \"bf. loading\", \"af. loading\"))\n",
    "    for key in sorted(num_per_classes.keys()):\n",
    "        print(\"{:<20}|{:<15}|{:<15}\".format(\n",
    "            code2names[key],\n",
    "            dataset.num_per_classes[key],\n",
    "            num_per_classes[key]\n",
    "        ))\n"
   ]
  },
  {
   "cell_type": "code",
   "execution_count": 9,
   "metadata": {},
   "outputs": [],
   "source": [
    "def main():\n",
    "    train_datapath = \"./training\"\n",
    "    valid_datapath = \"./validation\"\n",
    "    test_datapath = \"./evaluation\"\n",
    "\n",
    "    train_dataset = Food11Dataset(train_datapath, input_transform=input_transform, is_train=True)\n",
    "    valid_dataset = Food11Dataset(valid_datapath, input_transform=not_train_transform, is_train=False)\n",
    "    test_dataset = Food11Dataset(test_datapath, input_transform=not_train_transform, is_train=False)\n",
    "\n",
    "    ''' For [Lab 2-1] debugging\n",
    "    train_dataset.augmentation()\n",
    "    '''\n",
    "    wts = [ 1.5, 3.5, 1, 1.52, 1.76, 1.13, 3.4, 5.35, 1.75, 1, 2.1 ]\n",
    "    \n",
    "    train_dataset.augmentation(wts)\n",
    "    #show_dataset(train_dataset)\n",
    "    \n",
    "    print(\"----------------------------------------------------------------------------------\")\n",
    "    print(\"Dataset bf. loading - \", train_datapath)\n",
    "    print(train_dataset.show_details())\n",
    "\n",
    "    print(\"----------------------------------------------------------------------------------\")\n",
    "    print(\"Dataset bf. loading - \", valid_datapath)\n",
    "    print(valid_dataset.show_details())\n",
    "\n",
    "    print(\"----------------------------------------------------------------------------------\")\n",
    "    print(\"Dataset bf. loading - \", test_datapath)\n",
    "    print(test_dataset.show_details())\n",
    "   \n",
    "    #sampler = WRSampler(train_dataset, wts)\n",
    "    #sampler = torch.utils.data.sampler.RandomSampler(data_source=train_dataset, replacement=True, num_samples=len(train_dataset))\n",
    "\n",
    "    train_loader = DataLoader(dataset=train_dataset, num_workers=4, batch_size=8)#, sampler = sampler)\n",
    "    valid_loader = DataLoader(dataset=valid_dataset, num_workers=4, batch_size=8, shuffle=False)\n",
    "    test_loader = DataLoader(dataset=test_dataset, num_workers=4, batch_size=8, shuffle=False)\n",
    "\n",
    "    data_loading(train_loader, train_dataset)\n",
    "    data_loading(valid_loader, valid_dataset)\n",
    "    data_loading(test_loader, test_dataset)\n",
    "\n"
   ]
  },
  {
   "cell_type": "code",
   "execution_count": 10,
   "metadata": {},
   "outputs": [],
   "source": [
    "if __name__ == '__main__':\n",
    "    #main()\n",
    "    pass"
   ]
  },
  {
   "cell_type": "code",
   "execution_count": null,
   "metadata": {},
   "outputs": [
    {
     "name": "stderr",
     "output_type": "stream",
     "text": [
      "/home/s1041549/anaconda3/envs/dlsystem/lib/python3.7/site-packages/imgaug/imgaug.py:184: DeprecationWarning: Function `Scale()` is deprecated. Use `Resize` instead. Resize has the exactly same interface as Scale.\n",
      "  warn_deprecated(msg, stacklevel=3)\n",
      "/home/s1041549/anaconda3/envs/dlsystem/lib/python3.7/site-packages/imgaug/imgaug.py:184: DeprecationWarning: Function `Scale()` is deprecated. Use `Resize` instead. Resize has the exactly same interface as Scale.\n",
      "  warn_deprecated(msg, stacklevel=3)\n",
      "/home/s1041549/anaconda3/envs/dlsystem/lib/python3.7/site-packages/imgaug/imgaug.py:184: DeprecationWarning: Function `Scale()` is deprecated. Use `Resize` instead. Resize has the exactly same interface as Scale.\n",
      "  warn_deprecated(msg, stacklevel=3)\n",
      "/home/s1041549/anaconda3/envs/dlsystem/lib/python3.7/site-packages/imgaug/imgaug.py:184: DeprecationWarning: Function `Scale()` is deprecated. Use `Resize` instead. Resize has the exactly same interface as Scale.\n",
      "  warn_deprecated(msg, stacklevel=3)\n"
     ]
    },
    {
     "name": "stdout",
     "output_type": "stream",
     "text": [
      "[1,   200] train_loss: 2.103\n",
      "[1,   200] validation_loss: 2.188\n",
      "1 epoch, training accuracy: 0.2605\n",
      "1 epoch, validation accuracy: 0.2312\n",
      "-----------------------------------------\n"
     ]
    },
    {
     "name": "stderr",
     "output_type": "stream",
     "text": [
      "/home/s1041549/anaconda3/envs/dlsystem/lib/python3.7/site-packages/imgaug/imgaug.py:184: DeprecationWarning: Function `Scale()` is deprecated. Use `Resize` instead. Resize has the exactly same interface as Scale.\n",
      "  warn_deprecated(msg, stacklevel=3)\n",
      "/home/s1041549/anaconda3/envs/dlsystem/lib/python3.7/site-packages/imgaug/imgaug.py:184: DeprecationWarning: Function `Scale()` is deprecated. Use `Resize` instead. Resize has the exactly same interface as Scale.\n",
      "  warn_deprecated(msg, stacklevel=3)\n",
      "/home/s1041549/anaconda3/envs/dlsystem/lib/python3.7/site-packages/imgaug/imgaug.py:184: DeprecationWarning: Function `Scale()` is deprecated. Use `Resize` instead. Resize has the exactly same interface as Scale.\n",
      "  warn_deprecated(msg, stacklevel=3)\n",
      "/home/s1041549/anaconda3/envs/dlsystem/lib/python3.7/site-packages/imgaug/imgaug.py:184: DeprecationWarning: Function `Scale()` is deprecated. Use `Resize` instead. Resize has the exactly same interface as Scale.\n",
      "  warn_deprecated(msg, stacklevel=3)\n"
     ]
    },
    {
     "name": "stdout",
     "output_type": "stream",
     "text": [
      "[2,   200] train_loss: 1.819\n",
      "[2,   200] validation_loss: 1.766\n",
      "2 epoch, training accuracy: 0.3689\n",
      "2 epoch, validation accuracy: 0.3840\n",
      "-----------------------------------------\n"
     ]
    },
    {
     "name": "stderr",
     "output_type": "stream",
     "text": [
      "/home/s1041549/anaconda3/envs/dlsystem/lib/python3.7/site-packages/imgaug/imgaug.py:184: DeprecationWarning: Function `Scale()` is deprecated. Use `Resize` instead. Resize has the exactly same interface as Scale.\n",
      "  warn_deprecated(msg, stacklevel=3)\n",
      "/home/s1041549/anaconda3/envs/dlsystem/lib/python3.7/site-packages/imgaug/imgaug.py:184: DeprecationWarning: Function `Scale()` is deprecated. Use `Resize` instead. Resize has the exactly same interface as Scale.\n",
      "  warn_deprecated(msg, stacklevel=3)\n",
      "/home/s1041549/anaconda3/envs/dlsystem/lib/python3.7/site-packages/imgaug/imgaug.py:184: DeprecationWarning: Function `Scale()` is deprecated. Use `Resize` instead. Resize has the exactly same interface as Scale.\n",
      "  warn_deprecated(msg, stacklevel=3)\n",
      "/home/s1041549/anaconda3/envs/dlsystem/lib/python3.7/site-packages/imgaug/imgaug.py:184: DeprecationWarning: Function `Scale()` is deprecated. Use `Resize` instead. Resize has the exactly same interface as Scale.\n",
      "  warn_deprecated(msg, stacklevel=3)\n"
     ]
    },
    {
     "name": "stdout",
     "output_type": "stream",
     "text": [
      "[3,   200] train_loss: 1.641\n",
      "[3,   200] validation_loss: 2.075\n",
      "3 epoch, training accuracy: 0.4332\n",
      "3 epoch, validation accuracy: 0.3303\n",
      "-----------------------------------------\n"
     ]
    },
    {
     "name": "stderr",
     "output_type": "stream",
     "text": [
      "/home/s1041549/anaconda3/envs/dlsystem/lib/python3.7/site-packages/imgaug/imgaug.py:184: DeprecationWarning: Function `Scale()` is deprecated. Use `Resize` instead. Resize has the exactly same interface as Scale.\n",
      "  warn_deprecated(msg, stacklevel=3)\n",
      "/home/s1041549/anaconda3/envs/dlsystem/lib/python3.7/site-packages/imgaug/imgaug.py:184: DeprecationWarning: Function `Scale()` is deprecated. Use `Resize` instead. Resize has the exactly same interface as Scale.\n",
      "  warn_deprecated(msg, stacklevel=3)\n",
      "/home/s1041549/anaconda3/envs/dlsystem/lib/python3.7/site-packages/imgaug/imgaug.py:184: DeprecationWarning: Function `Scale()` is deprecated. Use `Resize` instead. Resize has the exactly same interface as Scale.\n",
      "  warn_deprecated(msg, stacklevel=3)\n",
      "/home/s1041549/anaconda3/envs/dlsystem/lib/python3.7/site-packages/imgaug/imgaug.py:184: DeprecationWarning: Function `Scale()` is deprecated. Use `Resize` instead. Resize has the exactly same interface as Scale.\n",
      "  warn_deprecated(msg, stacklevel=3)\n"
     ]
    },
    {
     "name": "stdout",
     "output_type": "stream",
     "text": [
      "[4,   200] train_loss: 1.519\n",
      "[4,   200] validation_loss: 1.696\n",
      "4 epoch, training accuracy: 0.4744\n",
      "4 epoch, validation accuracy: 0.4143\n",
      "-----------------------------------------\n"
     ]
    },
    {
     "name": "stderr",
     "output_type": "stream",
     "text": [
      "/home/s1041549/anaconda3/envs/dlsystem/lib/python3.7/site-packages/imgaug/imgaug.py:184: DeprecationWarning: Function `Scale()` is deprecated. Use `Resize` instead. Resize has the exactly same interface as Scale.\n",
      "  warn_deprecated(msg, stacklevel=3)\n",
      "/home/s1041549/anaconda3/envs/dlsystem/lib/python3.7/site-packages/imgaug/imgaug.py:184: DeprecationWarning: Function `Scale()` is deprecated. Use `Resize` instead. Resize has the exactly same interface as Scale.\n",
      "  warn_deprecated(msg, stacklevel=3)\n",
      "/home/s1041549/anaconda3/envs/dlsystem/lib/python3.7/site-packages/imgaug/imgaug.py:184: DeprecationWarning: Function `Scale()` is deprecated. Use `Resize` instead. Resize has the exactly same interface as Scale.\n",
      "  warn_deprecated(msg, stacklevel=3)\n",
      "/home/s1041549/anaconda3/envs/dlsystem/lib/python3.7/site-packages/imgaug/imgaug.py:184: DeprecationWarning: Function `Scale()` is deprecated. Use `Resize` instead. Resize has the exactly same interface as Scale.\n",
      "  warn_deprecated(msg, stacklevel=3)\n"
     ]
    },
    {
     "name": "stdout",
     "output_type": "stream",
     "text": [
      "[5,   200] train_loss: 1.417\n",
      "[5,   200] validation_loss: 1.541\n",
      "5 epoch, training accuracy: 0.5182\n",
      "5 epoch, validation accuracy: 0.4889\n",
      "-----------------------------------------\n"
     ]
    },
    {
     "name": "stderr",
     "output_type": "stream",
     "text": [
      "/home/s1041549/anaconda3/envs/dlsystem/lib/python3.7/site-packages/imgaug/imgaug.py:184: DeprecationWarning: Function `Scale()` is deprecated. Use `Resize` instead. Resize has the exactly same interface as Scale.\n",
      "  warn_deprecated(msg, stacklevel=3)\n",
      "/home/s1041549/anaconda3/envs/dlsystem/lib/python3.7/site-packages/imgaug/imgaug.py:184: DeprecationWarning: Function `Scale()` is deprecated. Use `Resize` instead. Resize has the exactly same interface as Scale.\n",
      "  warn_deprecated(msg, stacklevel=3)\n",
      "/home/s1041549/anaconda3/envs/dlsystem/lib/python3.7/site-packages/imgaug/imgaug.py:184: DeprecationWarning: Function `Scale()` is deprecated. Use `Resize` instead. Resize has the exactly same interface as Scale.\n",
      "  warn_deprecated(msg, stacklevel=3)\n",
      "/home/s1041549/anaconda3/envs/dlsystem/lib/python3.7/site-packages/imgaug/imgaug.py:184: DeprecationWarning: Function `Scale()` is deprecated. Use `Resize` instead. Resize has the exactly same interface as Scale.\n",
      "  warn_deprecated(msg, stacklevel=3)\n"
     ]
    },
    {
     "name": "stdout",
     "output_type": "stream",
     "text": [
      "[6,   200] train_loss: 1.291\n",
      "[6,   200] validation_loss: 1.377\n",
      "6 epoch, training accuracy: 0.5615\n",
      "6 epoch, validation accuracy: 0.5327\n",
      "-----------------------------------------\n"
     ]
    },
    {
     "name": "stderr",
     "output_type": "stream",
     "text": [
      "/home/s1041549/anaconda3/envs/dlsystem/lib/python3.7/site-packages/imgaug/imgaug.py:184: DeprecationWarning: Function `Scale()` is deprecated. Use `Resize` instead. Resize has the exactly same interface as Scale.\n",
      "  warn_deprecated(msg, stacklevel=3)\n",
      "/home/s1041549/anaconda3/envs/dlsystem/lib/python3.7/site-packages/imgaug/imgaug.py:184: DeprecationWarning: Function `Scale()` is deprecated. Use `Resize` instead. Resize has the exactly same interface as Scale.\n",
      "  warn_deprecated(msg, stacklevel=3)\n",
      "/home/s1041549/anaconda3/envs/dlsystem/lib/python3.7/site-packages/imgaug/imgaug.py:184: DeprecationWarning: Function `Scale()` is deprecated. Use `Resize` instead. Resize has the exactly same interface as Scale.\n",
      "  warn_deprecated(msg, stacklevel=3)\n",
      "/home/s1041549/anaconda3/envs/dlsystem/lib/python3.7/site-packages/imgaug/imgaug.py:184: DeprecationWarning: Function `Scale()` is deprecated. Use `Resize` instead. Resize has the exactly same interface as Scale.\n",
      "  warn_deprecated(msg, stacklevel=3)\n"
     ]
    },
    {
     "name": "stdout",
     "output_type": "stream",
     "text": [
      "[7,   200] train_loss: 1.244\n",
      "[7,   200] validation_loss: 1.293\n",
      "7 epoch, training accuracy: 0.5797\n",
      "7 epoch, validation accuracy: 0.5633\n",
      "-----------------------------------------\n"
     ]
    },
    {
     "name": "stderr",
     "output_type": "stream",
     "text": [
      "/home/s1041549/anaconda3/envs/dlsystem/lib/python3.7/site-packages/imgaug/imgaug.py:184: DeprecationWarning: Function `Scale()` is deprecated. Use `Resize` instead. Resize has the exactly same interface as Scale.\n",
      "  warn_deprecated(msg, stacklevel=3)\n",
      "/home/s1041549/anaconda3/envs/dlsystem/lib/python3.7/site-packages/imgaug/imgaug.py:184: DeprecationWarning: Function `Scale()` is deprecated. Use `Resize` instead. Resize has the exactly same interface as Scale.\n",
      "  warn_deprecated(msg, stacklevel=3)\n",
      "/home/s1041549/anaconda3/envs/dlsystem/lib/python3.7/site-packages/imgaug/imgaug.py:184: DeprecationWarning: Function `Scale()` is deprecated. Use `Resize` instead. Resize has the exactly same interface as Scale.\n",
      "  warn_deprecated(msg, stacklevel=3)\n",
      "/home/s1041549/anaconda3/envs/dlsystem/lib/python3.7/site-packages/imgaug/imgaug.py:184: DeprecationWarning: Function `Scale()` is deprecated. Use `Resize` instead. Resize has the exactly same interface as Scale.\n",
      "  warn_deprecated(msg, stacklevel=3)\n"
     ]
    },
    {
     "name": "stdout",
     "output_type": "stream",
     "text": [
      "[8,   200] train_loss: 1.188\n",
      "[8,   200] validation_loss: 1.239\n",
      "8 epoch, training accuracy: 0.5957\n",
      "8 epoch, validation accuracy: 0.5819\n",
      "-----------------------------------------\n"
     ]
    },
    {
     "name": "stderr",
     "output_type": "stream",
     "text": [
      "/home/s1041549/anaconda3/envs/dlsystem/lib/python3.7/site-packages/imgaug/imgaug.py:184: DeprecationWarning: Function `Scale()` is deprecated. Use `Resize` instead. Resize has the exactly same interface as Scale.\n",
      "  warn_deprecated(msg, stacklevel=3)\n",
      "/home/s1041549/anaconda3/envs/dlsystem/lib/python3.7/site-packages/imgaug/imgaug.py:184: DeprecationWarning: Function `Scale()` is deprecated. Use `Resize` instead. Resize has the exactly same interface as Scale.\n",
      "  warn_deprecated(msg, stacklevel=3)\n",
      "/home/s1041549/anaconda3/envs/dlsystem/lib/python3.7/site-packages/imgaug/imgaug.py:184: DeprecationWarning: Function `Scale()` is deprecated. Use `Resize` instead. Resize has the exactly same interface as Scale.\n",
      "  warn_deprecated(msg, stacklevel=3)\n",
      "/home/s1041549/anaconda3/envs/dlsystem/lib/python3.7/site-packages/imgaug/imgaug.py:184: DeprecationWarning: Function `Scale()` is deprecated. Use `Resize` instead. Resize has the exactly same interface as Scale.\n",
      "  warn_deprecated(msg, stacklevel=3)\n"
     ]
    },
    {
     "name": "stdout",
     "output_type": "stream",
     "text": [
      "[9,   200] train_loss: 1.074\n",
      "[9,   200] validation_loss: 1.374\n",
      "9 epoch, training accuracy: 0.6373\n",
      "9 epoch, validation accuracy: 0.5580\n",
      "-----------------------------------------\n"
     ]
    },
    {
     "name": "stderr",
     "output_type": "stream",
     "text": [
      "/home/s1041549/anaconda3/envs/dlsystem/lib/python3.7/site-packages/imgaug/imgaug.py:184: DeprecationWarning: Function `Scale()` is deprecated. Use `Resize` instead. Resize has the exactly same interface as Scale.\n",
      "  warn_deprecated(msg, stacklevel=3)\n",
      "/home/s1041549/anaconda3/envs/dlsystem/lib/python3.7/site-packages/imgaug/imgaug.py:184: DeprecationWarning: Function `Scale()` is deprecated. Use `Resize` instead. Resize has the exactly same interface as Scale.\n",
      "  warn_deprecated(msg, stacklevel=3)\n",
      "/home/s1041549/anaconda3/envs/dlsystem/lib/python3.7/site-packages/imgaug/imgaug.py:184: DeprecationWarning: Function `Scale()` is deprecated. Use `Resize` instead. Resize has the exactly same interface as Scale.\n",
      "  warn_deprecated(msg, stacklevel=3)\n",
      "/home/s1041549/anaconda3/envs/dlsystem/lib/python3.7/site-packages/imgaug/imgaug.py:184: DeprecationWarning: Function `Scale()` is deprecated. Use `Resize` instead. Resize has the exactly same interface as Scale.\n",
      "  warn_deprecated(msg, stacklevel=3)\n"
     ]
    },
    {
     "name": "stdout",
     "output_type": "stream",
     "text": [
      "[10,   200] train_loss: 1.013\n",
      "[10,   200] validation_loss: 1.187\n",
      "10 epoch, training accuracy: 0.6623\n",
      "10 epoch, validation accuracy: 0.6140\n",
      "-----------------------------------------\n"
     ]
    },
    {
     "name": "stderr",
     "output_type": "stream",
     "text": [
      "/home/s1041549/anaconda3/envs/dlsystem/lib/python3.7/site-packages/imgaug/imgaug.py:184: DeprecationWarning: Function `Scale()` is deprecated. Use `Resize` instead. Resize has the exactly same interface as Scale.\n",
      "  warn_deprecated(msg, stacklevel=3)\n",
      "/home/s1041549/anaconda3/envs/dlsystem/lib/python3.7/site-packages/imgaug/imgaug.py:184: DeprecationWarning: Function `Scale()` is deprecated. Use `Resize` instead. Resize has the exactly same interface as Scale.\n",
      "  warn_deprecated(msg, stacklevel=3)\n",
      "/home/s1041549/anaconda3/envs/dlsystem/lib/python3.7/site-packages/imgaug/imgaug.py:184: DeprecationWarning: Function `Scale()` is deprecated. Use `Resize` instead. Resize has the exactly same interface as Scale.\n",
      "  warn_deprecated(msg, stacklevel=3)\n",
      "/home/s1041549/anaconda3/envs/dlsystem/lib/python3.7/site-packages/imgaug/imgaug.py:184: DeprecationWarning: Function `Scale()` is deprecated. Use `Resize` instead. Resize has the exactly same interface as Scale.\n",
      "  warn_deprecated(msg, stacklevel=3)\n"
     ]
    },
    {
     "name": "stdout",
     "output_type": "stream",
     "text": [
      "[11,   200] train_loss: 0.975\n",
      "[11,   200] validation_loss: 1.315\n",
      "11 epoch, training accuracy: 0.6677\n",
      "11 epoch, validation accuracy: 0.5761\n",
      "-----------------------------------------\n"
     ]
    },
    {
     "name": "stderr",
     "output_type": "stream",
     "text": [
      "/home/s1041549/anaconda3/envs/dlsystem/lib/python3.7/site-packages/imgaug/imgaug.py:184: DeprecationWarning: Function `Scale()` is deprecated. Use `Resize` instead. Resize has the exactly same interface as Scale.\n",
      "  warn_deprecated(msg, stacklevel=3)\n",
      "/home/s1041549/anaconda3/envs/dlsystem/lib/python3.7/site-packages/imgaug/imgaug.py:184: DeprecationWarning: Function `Scale()` is deprecated. Use `Resize` instead. Resize has the exactly same interface as Scale.\n",
      "  warn_deprecated(msg, stacklevel=3)\n",
      "/home/s1041549/anaconda3/envs/dlsystem/lib/python3.7/site-packages/imgaug/imgaug.py:184: DeprecationWarning: Function `Scale()` is deprecated. Use `Resize` instead. Resize has the exactly same interface as Scale.\n",
      "  warn_deprecated(msg, stacklevel=3)\n",
      "/home/s1041549/anaconda3/envs/dlsystem/lib/python3.7/site-packages/imgaug/imgaug.py:184: DeprecationWarning: Function `Scale()` is deprecated. Use `Resize` instead. Resize has the exactly same interface as Scale.\n",
      "  warn_deprecated(msg, stacklevel=3)\n"
     ]
    },
    {
     "name": "stdout",
     "output_type": "stream",
     "text": [
      "[12,   200] train_loss: 0.908\n",
      "[12,   200] validation_loss: 1.289\n",
      "12 epoch, training accuracy: 0.6926\n",
      "12 epoch, validation accuracy: 0.5816\n",
      "-----------------------------------------\n"
     ]
    },
    {
     "name": "stderr",
     "output_type": "stream",
     "text": [
      "/home/s1041549/anaconda3/envs/dlsystem/lib/python3.7/site-packages/imgaug/imgaug.py:184: DeprecationWarning: Function `Scale()` is deprecated. Use `Resize` instead. Resize has the exactly same interface as Scale.\n",
      "  warn_deprecated(msg, stacklevel=3)\n",
      "/home/s1041549/anaconda3/envs/dlsystem/lib/python3.7/site-packages/imgaug/imgaug.py:184: DeprecationWarning: Function `Scale()` is deprecated. Use `Resize` instead. Resize has the exactly same interface as Scale.\n",
      "  warn_deprecated(msg, stacklevel=3)\n",
      "/home/s1041549/anaconda3/envs/dlsystem/lib/python3.7/site-packages/imgaug/imgaug.py:184: DeprecationWarning: Function `Scale()` is deprecated. Use `Resize` instead. Resize has the exactly same interface as Scale.\n",
      "  warn_deprecated(msg, stacklevel=3)\n",
      "/home/s1041549/anaconda3/envs/dlsystem/lib/python3.7/site-packages/imgaug/imgaug.py:184: DeprecationWarning: Function `Scale()` is deprecated. Use `Resize` instead. Resize has the exactly same interface as Scale.\n",
      "  warn_deprecated(msg, stacklevel=3)\n"
     ]
    },
    {
     "name": "stdout",
     "output_type": "stream",
     "text": [
      "[13,   200] train_loss: 0.871\n",
      "[13,   200] validation_loss: 1.152\n",
      "13 epoch, training accuracy: 0.7068\n",
      "13 epoch, validation accuracy: 0.6318\n",
      "-----------------------------------------\n"
     ]
    },
    {
     "name": "stderr",
     "output_type": "stream",
     "text": [
      "/home/s1041549/anaconda3/envs/dlsystem/lib/python3.7/site-packages/imgaug/imgaug.py:184: DeprecationWarning: Function `Scale()` is deprecated. Use `Resize` instead. Resize has the exactly same interface as Scale.\n",
      "  warn_deprecated(msg, stacklevel=3)\n",
      "/home/s1041549/anaconda3/envs/dlsystem/lib/python3.7/site-packages/imgaug/imgaug.py:184: DeprecationWarning: Function `Scale()` is deprecated. Use `Resize` instead. Resize has the exactly same interface as Scale.\n",
      "  warn_deprecated(msg, stacklevel=3)\n",
      "/home/s1041549/anaconda3/envs/dlsystem/lib/python3.7/site-packages/imgaug/imgaug.py:184: DeprecationWarning: Function `Scale()` is deprecated. Use `Resize` instead. Resize has the exactly same interface as Scale.\n",
      "  warn_deprecated(msg, stacklevel=3)\n",
      "/home/s1041549/anaconda3/envs/dlsystem/lib/python3.7/site-packages/imgaug/imgaug.py:184: DeprecationWarning: Function `Scale()` is deprecated. Use `Resize` instead. Resize has the exactly same interface as Scale.\n",
      "  warn_deprecated(msg, stacklevel=3)\n"
     ]
    },
    {
     "name": "stdout",
     "output_type": "stream",
     "text": [
      "[14,   200] train_loss: 0.853\n",
      "[14,   200] validation_loss: 1.251\n",
      "14 epoch, training accuracy: 0.7143\n",
      "14 epoch, validation accuracy: 0.5907\n",
      "-----------------------------------------\n"
     ]
    },
    {
     "name": "stderr",
     "output_type": "stream",
     "text": [
      "/home/s1041549/anaconda3/envs/dlsystem/lib/python3.7/site-packages/imgaug/imgaug.py:184: DeprecationWarning: Function `Scale()` is deprecated. Use `Resize` instead. Resize has the exactly same interface as Scale.\n",
      "  warn_deprecated(msg, stacklevel=3)\n",
      "/home/s1041549/anaconda3/envs/dlsystem/lib/python3.7/site-packages/imgaug/imgaug.py:184: DeprecationWarning: Function `Scale()` is deprecated. Use `Resize` instead. Resize has the exactly same interface as Scale.\n",
      "  warn_deprecated(msg, stacklevel=3)\n",
      "/home/s1041549/anaconda3/envs/dlsystem/lib/python3.7/site-packages/imgaug/imgaug.py:184: DeprecationWarning: Function `Scale()` is deprecated. Use `Resize` instead. Resize has the exactly same interface as Scale.\n",
      "  warn_deprecated(msg, stacklevel=3)\n",
      "/home/s1041549/anaconda3/envs/dlsystem/lib/python3.7/site-packages/imgaug/imgaug.py:184: DeprecationWarning: Function `Scale()` is deprecated. Use `Resize` instead. Resize has the exactly same interface as Scale.\n",
      "  warn_deprecated(msg, stacklevel=3)\n"
     ]
    },
    {
     "name": "stdout",
     "output_type": "stream",
     "text": [
      "[15,   200] train_loss: 0.794\n",
      "[15,   200] validation_loss: 1.425\n",
      "15 epoch, training accuracy: 0.7301\n",
      "15 epoch, validation accuracy: 0.5630\n",
      "-----------------------------------------\n"
     ]
    },
    {
     "name": "stderr",
     "output_type": "stream",
     "text": [
      "/home/s1041549/anaconda3/envs/dlsystem/lib/python3.7/site-packages/imgaug/imgaug.py:184: DeprecationWarning: Function `Scale()` is deprecated. Use `Resize` instead. Resize has the exactly same interface as Scale.\n",
      "  warn_deprecated(msg, stacklevel=3)\n",
      "/home/s1041549/anaconda3/envs/dlsystem/lib/python3.7/site-packages/imgaug/imgaug.py:184: DeprecationWarning: Function `Scale()` is deprecated. Use `Resize` instead. Resize has the exactly same interface as Scale.\n",
      "  warn_deprecated(msg, stacklevel=3)\n",
      "/home/s1041549/anaconda3/envs/dlsystem/lib/python3.7/site-packages/imgaug/imgaug.py:184: DeprecationWarning: Function `Scale()` is deprecated. Use `Resize` instead. Resize has the exactly same interface as Scale.\n",
      "  warn_deprecated(msg, stacklevel=3)\n",
      "/home/s1041549/anaconda3/envs/dlsystem/lib/python3.7/site-packages/imgaug/imgaug.py:184: DeprecationWarning: Function `Scale()` is deprecated. Use `Resize` instead. Resize has the exactly same interface as Scale.\n",
      "  warn_deprecated(msg, stacklevel=3)\n"
     ]
    },
    {
     "name": "stdout",
     "output_type": "stream",
     "text": [
      "[16,   200] train_loss: 0.774\n",
      "[16,   200] validation_loss: 1.214\n",
      "16 epoch, training accuracy: 0.7397\n",
      "16 epoch, validation accuracy: 0.6265\n",
      "-----------------------------------------\n"
     ]
    },
    {
     "name": "stderr",
     "output_type": "stream",
     "text": [
      "/home/s1041549/anaconda3/envs/dlsystem/lib/python3.7/site-packages/imgaug/imgaug.py:184: DeprecationWarning: Function `Scale()` is deprecated. Use `Resize` instead. Resize has the exactly same interface as Scale.\n",
      "  warn_deprecated(msg, stacklevel=3)\n",
      "/home/s1041549/anaconda3/envs/dlsystem/lib/python3.7/site-packages/imgaug/imgaug.py:184: DeprecationWarning: Function `Scale()` is deprecated. Use `Resize` instead. Resize has the exactly same interface as Scale.\n",
      "  warn_deprecated(msg, stacklevel=3)\n",
      "/home/s1041549/anaconda3/envs/dlsystem/lib/python3.7/site-packages/imgaug/imgaug.py:184: DeprecationWarning: Function `Scale()` is deprecated. Use `Resize` instead. Resize has the exactly same interface as Scale.\n",
      "  warn_deprecated(msg, stacklevel=3)\n",
      "/home/s1041549/anaconda3/envs/dlsystem/lib/python3.7/site-packages/imgaug/imgaug.py:184: DeprecationWarning: Function `Scale()` is deprecated. Use `Resize` instead. Resize has the exactly same interface as Scale.\n",
      "  warn_deprecated(msg, stacklevel=3)\n"
     ]
    },
    {
     "name": "stdout",
     "output_type": "stream",
     "text": [
      "[17,   200] train_loss: 0.727\n",
      "[17,   200] validation_loss: 1.072\n",
      "17 epoch, training accuracy: 0.7558\n",
      "17 epoch, validation accuracy: 0.6493\n",
      "-----------------------------------------\n"
     ]
    },
    {
     "name": "stderr",
     "output_type": "stream",
     "text": [
      "/home/s1041549/anaconda3/envs/dlsystem/lib/python3.7/site-packages/imgaug/imgaug.py:184: DeprecationWarning: Function `Scale()` is deprecated. Use `Resize` instead. Resize has the exactly same interface as Scale.\n",
      "  warn_deprecated(msg, stacklevel=3)\n",
      "/home/s1041549/anaconda3/envs/dlsystem/lib/python3.7/site-packages/imgaug/imgaug.py:184: DeprecationWarning: Function `Scale()` is deprecated. Use `Resize` instead. Resize has the exactly same interface as Scale.\n",
      "  warn_deprecated(msg, stacklevel=3)\n",
      "/home/s1041549/anaconda3/envs/dlsystem/lib/python3.7/site-packages/imgaug/imgaug.py:184: DeprecationWarning: Function `Scale()` is deprecated. Use `Resize` instead. Resize has the exactly same interface as Scale.\n",
      "  warn_deprecated(msg, stacklevel=3)\n",
      "/home/s1041549/anaconda3/envs/dlsystem/lib/python3.7/site-packages/imgaug/imgaug.py:184: DeprecationWarning: Function `Scale()` is deprecated. Use `Resize` instead. Resize has the exactly same interface as Scale.\n",
      "  warn_deprecated(msg, stacklevel=3)\n"
     ]
    },
    {
     "name": "stdout",
     "output_type": "stream",
     "text": [
      "[18,   200] train_loss: 0.711\n",
      "[18,   200] validation_loss: 1.045\n",
      "18 epoch, training accuracy: 0.7601\n",
      "18 epoch, validation accuracy: 0.6714\n",
      "-----------------------------------------\n"
     ]
    },
    {
     "name": "stderr",
     "output_type": "stream",
     "text": [
      "/home/s1041549/anaconda3/envs/dlsystem/lib/python3.7/site-packages/imgaug/imgaug.py:184: DeprecationWarning: Function `Scale()` is deprecated. Use `Resize` instead. Resize has the exactly same interface as Scale.\n",
      "  warn_deprecated(msg, stacklevel=3)\n",
      "/home/s1041549/anaconda3/envs/dlsystem/lib/python3.7/site-packages/imgaug/imgaug.py:184: DeprecationWarning: Function `Scale()` is deprecated. Use `Resize` instead. Resize has the exactly same interface as Scale.\n",
      "  warn_deprecated(msg, stacklevel=3)\n",
      "/home/s1041549/anaconda3/envs/dlsystem/lib/python3.7/site-packages/imgaug/imgaug.py:184: DeprecationWarning: Function `Scale()` is deprecated. Use `Resize` instead. Resize has the exactly same interface as Scale.\n",
      "  warn_deprecated(msg, stacklevel=3)\n",
      "/home/s1041549/anaconda3/envs/dlsystem/lib/python3.7/site-packages/imgaug/imgaug.py:184: DeprecationWarning: Function `Scale()` is deprecated. Use `Resize` instead. Resize has the exactly same interface as Scale.\n",
      "  warn_deprecated(msg, stacklevel=3)\n"
     ]
    },
    {
     "name": "stdout",
     "output_type": "stream",
     "text": [
      "[19,   200] train_loss: 0.680\n",
      "[19,   200] validation_loss: 1.125\n",
      "19 epoch, training accuracy: 0.7676\n",
      "19 epoch, validation accuracy: 0.6466\n",
      "-----------------------------------------\n"
     ]
    },
    {
     "name": "stderr",
     "output_type": "stream",
     "text": [
      "/home/s1041549/anaconda3/envs/dlsystem/lib/python3.7/site-packages/imgaug/imgaug.py:184: DeprecationWarning: Function `Scale()` is deprecated. Use `Resize` instead. Resize has the exactly same interface as Scale.\n",
      "  warn_deprecated(msg, stacklevel=3)\n",
      "/home/s1041549/anaconda3/envs/dlsystem/lib/python3.7/site-packages/imgaug/imgaug.py:184: DeprecationWarning: Function `Scale()` is deprecated. Use `Resize` instead. Resize has the exactly same interface as Scale.\n",
      "  warn_deprecated(msg, stacklevel=3)\n",
      "/home/s1041549/anaconda3/envs/dlsystem/lib/python3.7/site-packages/imgaug/imgaug.py:184: DeprecationWarning: Function `Scale()` is deprecated. Use `Resize` instead. Resize has the exactly same interface as Scale.\n",
      "  warn_deprecated(msg, stacklevel=3)\n",
      "/home/s1041549/anaconda3/envs/dlsystem/lib/python3.7/site-packages/imgaug/imgaug.py:184: DeprecationWarning: Function `Scale()` is deprecated. Use `Resize` instead. Resize has the exactly same interface as Scale.\n",
      "  warn_deprecated(msg, stacklevel=3)\n"
     ]
    },
    {
     "name": "stdout",
     "output_type": "stream",
     "text": [
      "[20,   200] train_loss: 0.660\n",
      "[20,   200] validation_loss: 1.094\n",
      "20 epoch, training accuracy: 0.7774\n",
      "20 epoch, validation accuracy: 0.6647\n",
      "-----------------------------------------\n"
     ]
    },
    {
     "name": "stderr",
     "output_type": "stream",
     "text": [
      "/home/s1041549/anaconda3/envs/dlsystem/lib/python3.7/site-packages/imgaug/imgaug.py:184: DeprecationWarning: Function `Scale()` is deprecated. Use `Resize` instead. Resize has the exactly same interface as Scale.\n",
      "  warn_deprecated(msg, stacklevel=3)\n",
      "/home/s1041549/anaconda3/envs/dlsystem/lib/python3.7/site-packages/imgaug/imgaug.py:184: DeprecationWarning: Function `Scale()` is deprecated. Use `Resize` instead. Resize has the exactly same interface as Scale.\n",
      "  warn_deprecated(msg, stacklevel=3)\n",
      "/home/s1041549/anaconda3/envs/dlsystem/lib/python3.7/site-packages/imgaug/imgaug.py:184: DeprecationWarning: Function `Scale()` is deprecated. Use `Resize` instead. Resize has the exactly same interface as Scale.\n",
      "  warn_deprecated(msg, stacklevel=3)\n",
      "/home/s1041549/anaconda3/envs/dlsystem/lib/python3.7/site-packages/imgaug/imgaug.py:184: DeprecationWarning: Function `Scale()` is deprecated. Use `Resize` instead. Resize has the exactly same interface as Scale.\n",
      "  warn_deprecated(msg, stacklevel=3)\n"
     ]
    },
    {
     "name": "stdout",
     "output_type": "stream",
     "text": [
      "[21,   200] train_loss: 0.608\n",
      "[21,   200] validation_loss: 1.226\n",
      "21 epoch, training accuracy: 0.7981\n",
      "21 epoch, validation accuracy: 0.6198\n",
      "-----------------------------------------\n"
     ]
    },
    {
     "name": "stderr",
     "output_type": "stream",
     "text": [
      "/home/s1041549/anaconda3/envs/dlsystem/lib/python3.7/site-packages/imgaug/imgaug.py:184: DeprecationWarning: Function `Scale()` is deprecated. Use `Resize` instead. Resize has the exactly same interface as Scale.\n",
      "  warn_deprecated(msg, stacklevel=3)\n",
      "/home/s1041549/anaconda3/envs/dlsystem/lib/python3.7/site-packages/imgaug/imgaug.py:184: DeprecationWarning: Function `Scale()` is deprecated. Use `Resize` instead. Resize has the exactly same interface as Scale.\n",
      "  warn_deprecated(msg, stacklevel=3)\n",
      "/home/s1041549/anaconda3/envs/dlsystem/lib/python3.7/site-packages/imgaug/imgaug.py:184: DeprecationWarning: Function `Scale()` is deprecated. Use `Resize` instead. Resize has the exactly same interface as Scale.\n",
      "  warn_deprecated(msg, stacklevel=3)\n",
      "/home/s1041549/anaconda3/envs/dlsystem/lib/python3.7/site-packages/imgaug/imgaug.py:184: DeprecationWarning: Function `Scale()` is deprecated. Use `Resize` instead. Resize has the exactly same interface as Scale.\n",
      "  warn_deprecated(msg, stacklevel=3)\n"
     ]
    },
    {
     "name": "stdout",
     "output_type": "stream",
     "text": [
      "[22,   200] train_loss: 0.582\n",
      "[22,   200] validation_loss: 1.084\n",
      "22 epoch, training accuracy: 0.8037\n",
      "22 epoch, validation accuracy: 0.6659\n",
      "-----------------------------------------\n"
     ]
    },
    {
     "name": "stderr",
     "output_type": "stream",
     "text": [
      "/home/s1041549/anaconda3/envs/dlsystem/lib/python3.7/site-packages/imgaug/imgaug.py:184: DeprecationWarning: Function `Scale()` is deprecated. Use `Resize` instead. Resize has the exactly same interface as Scale.\n",
      "  warn_deprecated(msg, stacklevel=3)\n",
      "/home/s1041549/anaconda3/envs/dlsystem/lib/python3.7/site-packages/imgaug/imgaug.py:184: DeprecationWarning: Function `Scale()` is deprecated. Use `Resize` instead. Resize has the exactly same interface as Scale.\n",
      "  warn_deprecated(msg, stacklevel=3)\n",
      "/home/s1041549/anaconda3/envs/dlsystem/lib/python3.7/site-packages/imgaug/imgaug.py:184: DeprecationWarning: Function `Scale()` is deprecated. Use `Resize` instead. Resize has the exactly same interface as Scale.\n",
      "  warn_deprecated(msg, stacklevel=3)\n",
      "/home/s1041549/anaconda3/envs/dlsystem/lib/python3.7/site-packages/imgaug/imgaug.py:184: DeprecationWarning: Function `Scale()` is deprecated. Use `Resize` instead. Resize has the exactly same interface as Scale.\n",
      "  warn_deprecated(msg, stacklevel=3)\n"
     ]
    },
    {
     "name": "stdout",
     "output_type": "stream",
     "text": [
      "[23,   200] train_loss: 0.580\n",
      "[23,   200] validation_loss: 1.129\n",
      "23 epoch, training accuracy: 0.8060\n",
      "23 epoch, validation accuracy: 0.6569\n",
      "-----------------------------------------\n"
     ]
    },
    {
     "name": "stderr",
     "output_type": "stream",
     "text": [
      "/home/s1041549/anaconda3/envs/dlsystem/lib/python3.7/site-packages/imgaug/imgaug.py:184: DeprecationWarning: Function `Scale()` is deprecated. Use `Resize` instead. Resize has the exactly same interface as Scale.\n",
      "  warn_deprecated(msg, stacklevel=3)\n",
      "/home/s1041549/anaconda3/envs/dlsystem/lib/python3.7/site-packages/imgaug/imgaug.py:184: DeprecationWarning: Function `Scale()` is deprecated. Use `Resize` instead. Resize has the exactly same interface as Scale.\n",
      "  warn_deprecated(msg, stacklevel=3)\n",
      "/home/s1041549/anaconda3/envs/dlsystem/lib/python3.7/site-packages/imgaug/imgaug.py:184: DeprecationWarning: Function `Scale()` is deprecated. Use `Resize` instead. Resize has the exactly same interface as Scale.\n",
      "  warn_deprecated(msg, stacklevel=3)\n",
      "/home/s1041549/anaconda3/envs/dlsystem/lib/python3.7/site-packages/imgaug/imgaug.py:184: DeprecationWarning: Function `Scale()` is deprecated. Use `Resize` instead. Resize has the exactly same interface as Scale.\n",
      "  warn_deprecated(msg, stacklevel=3)\n"
     ]
    },
    {
     "name": "stdout",
     "output_type": "stream",
     "text": [
      "[24,   200] train_loss: 0.565\n",
      "[24,   200] validation_loss: 1.066\n",
      "24 epoch, training accuracy: 0.8116\n",
      "24 epoch, validation accuracy: 0.6851\n",
      "-----------------------------------------\n"
     ]
    },
    {
     "name": "stderr",
     "output_type": "stream",
     "text": [
      "/home/s1041549/anaconda3/envs/dlsystem/lib/python3.7/site-packages/imgaug/imgaug.py:184: DeprecationWarning: Function `Scale()` is deprecated. Use `Resize` instead. Resize has the exactly same interface as Scale.\n",
      "  warn_deprecated(msg, stacklevel=3)\n",
      "/home/s1041549/anaconda3/envs/dlsystem/lib/python3.7/site-packages/imgaug/imgaug.py:184: DeprecationWarning: Function `Scale()` is deprecated. Use `Resize` instead. Resize has the exactly same interface as Scale.\n",
      "  warn_deprecated(msg, stacklevel=3)\n",
      "/home/s1041549/anaconda3/envs/dlsystem/lib/python3.7/site-packages/imgaug/imgaug.py:184: DeprecationWarning: Function `Scale()` is deprecated. Use `Resize` instead. Resize has the exactly same interface as Scale.\n",
      "  warn_deprecated(msg, stacklevel=3)\n",
      "/home/s1041549/anaconda3/envs/dlsystem/lib/python3.7/site-packages/imgaug/imgaug.py:184: DeprecationWarning: Function `Scale()` is deprecated. Use `Resize` instead. Resize has the exactly same interface as Scale.\n",
      "  warn_deprecated(msg, stacklevel=3)\n"
     ]
    },
    {
     "name": "stdout",
     "output_type": "stream",
     "text": [
      "[25,   200] train_loss: 0.526\n",
      "[25,   200] validation_loss: 1.081\n",
      "25 epoch, training accuracy: 0.8239\n",
      "25 epoch, validation accuracy: 0.6776\n",
      "-----------------------------------------\n"
     ]
    },
    {
     "name": "stderr",
     "output_type": "stream",
     "text": [
      "/home/s1041549/anaconda3/envs/dlsystem/lib/python3.7/site-packages/imgaug/imgaug.py:184: DeprecationWarning: Function `Scale()` is deprecated. Use `Resize` instead. Resize has the exactly same interface as Scale.\n",
      "  warn_deprecated(msg, stacklevel=3)\n",
      "/home/s1041549/anaconda3/envs/dlsystem/lib/python3.7/site-packages/imgaug/imgaug.py:184: DeprecationWarning: Function `Scale()` is deprecated. Use `Resize` instead. Resize has the exactly same interface as Scale.\n",
      "  warn_deprecated(msg, stacklevel=3)\n",
      "/home/s1041549/anaconda3/envs/dlsystem/lib/python3.7/site-packages/imgaug/imgaug.py:184: DeprecationWarning: Function `Scale()` is deprecated. Use `Resize` instead. Resize has the exactly same interface as Scale.\n",
      "  warn_deprecated(msg, stacklevel=3)\n",
      "/home/s1041549/anaconda3/envs/dlsystem/lib/python3.7/site-packages/imgaug/imgaug.py:184: DeprecationWarning: Function `Scale()` is deprecated. Use `Resize` instead. Resize has the exactly same interface as Scale.\n",
      "  warn_deprecated(msg, stacklevel=3)\n"
     ]
    },
    {
     "name": "stdout",
     "output_type": "stream",
     "text": [
      "[26,   200] train_loss: 0.512\n",
      "[26,   200] validation_loss: 1.161\n",
      "26 epoch, training accuracy: 0.8257\n",
      "26 epoch, validation accuracy: 0.6618\n",
      "-----------------------------------------\n"
     ]
    },
    {
     "name": "stderr",
     "output_type": "stream",
     "text": [
      "/home/s1041549/anaconda3/envs/dlsystem/lib/python3.7/site-packages/imgaug/imgaug.py:184: DeprecationWarning: Function `Scale()` is deprecated. Use `Resize` instead. Resize has the exactly same interface as Scale.\n",
      "  warn_deprecated(msg, stacklevel=3)\n",
      "/home/s1041549/anaconda3/envs/dlsystem/lib/python3.7/site-packages/imgaug/imgaug.py:184: DeprecationWarning: Function `Scale()` is deprecated. Use `Resize` instead. Resize has the exactly same interface as Scale.\n",
      "  warn_deprecated(msg, stacklevel=3)\n",
      "/home/s1041549/anaconda3/envs/dlsystem/lib/python3.7/site-packages/imgaug/imgaug.py:184: DeprecationWarning: Function `Scale()` is deprecated. Use `Resize` instead. Resize has the exactly same interface as Scale.\n",
      "  warn_deprecated(msg, stacklevel=3)\n",
      "/home/s1041549/anaconda3/envs/dlsystem/lib/python3.7/site-packages/imgaug/imgaug.py:184: DeprecationWarning: Function `Scale()` is deprecated. Use `Resize` instead. Resize has the exactly same interface as Scale.\n",
      "  warn_deprecated(msg, stacklevel=3)\n"
     ]
    },
    {
     "name": "stdout",
     "output_type": "stream",
     "text": [
      "[27,   200] train_loss: 0.497\n",
      "[27,   200] validation_loss: 1.036\n",
      "27 epoch, training accuracy: 0.8317\n",
      "27 epoch, validation accuracy: 0.6898\n",
      "-----------------------------------------\n"
     ]
    },
    {
     "name": "stderr",
     "output_type": "stream",
     "text": [
      "/home/s1041549/anaconda3/envs/dlsystem/lib/python3.7/site-packages/imgaug/imgaug.py:184: DeprecationWarning: Function `Scale()` is deprecated. Use `Resize` instead. Resize has the exactly same interface as Scale.\n",
      "  warn_deprecated(msg, stacklevel=3)\n",
      "/home/s1041549/anaconda3/envs/dlsystem/lib/python3.7/site-packages/imgaug/imgaug.py:184: DeprecationWarning: Function `Scale()` is deprecated. Use `Resize` instead. Resize has the exactly same interface as Scale.\n",
      "  warn_deprecated(msg, stacklevel=3)\n",
      "/home/s1041549/anaconda3/envs/dlsystem/lib/python3.7/site-packages/imgaug/imgaug.py:184: DeprecationWarning: Function `Scale()` is deprecated. Use `Resize` instead. Resize has the exactly same interface as Scale.\n",
      "  warn_deprecated(msg, stacklevel=3)\n",
      "/home/s1041549/anaconda3/envs/dlsystem/lib/python3.7/site-packages/imgaug/imgaug.py:184: DeprecationWarning: Function `Scale()` is deprecated. Use `Resize` instead. Resize has the exactly same interface as Scale.\n",
      "  warn_deprecated(msg, stacklevel=3)\n"
     ]
    },
    {
     "name": "stdout",
     "output_type": "stream",
     "text": [
      "[28,   200] train_loss: 0.460\n",
      "[28,   200] validation_loss: 1.148\n",
      "28 epoch, training accuracy: 0.8417\n",
      "28 epoch, validation accuracy: 0.6714\n",
      "-----------------------------------------\n"
     ]
    },
    {
     "name": "stderr",
     "output_type": "stream",
     "text": [
      "/home/s1041549/anaconda3/envs/dlsystem/lib/python3.7/site-packages/imgaug/imgaug.py:184: DeprecationWarning: Function `Scale()` is deprecated. Use `Resize` instead. Resize has the exactly same interface as Scale.\n",
      "  warn_deprecated(msg, stacklevel=3)\n",
      "/home/s1041549/anaconda3/envs/dlsystem/lib/python3.7/site-packages/imgaug/imgaug.py:184: DeprecationWarning: Function `Scale()` is deprecated. Use `Resize` instead. Resize has the exactly same interface as Scale.\n",
      "  warn_deprecated(msg, stacklevel=3)\n",
      "/home/s1041549/anaconda3/envs/dlsystem/lib/python3.7/site-packages/imgaug/imgaug.py:184: DeprecationWarning: Function `Scale()` is deprecated. Use `Resize` instead. Resize has the exactly same interface as Scale.\n",
      "  warn_deprecated(msg, stacklevel=3)\n",
      "/home/s1041549/anaconda3/envs/dlsystem/lib/python3.7/site-packages/imgaug/imgaug.py:184: DeprecationWarning: Function `Scale()` is deprecated. Use `Resize` instead. Resize has the exactly same interface as Scale.\n",
      "  warn_deprecated(msg, stacklevel=3)\n"
     ]
    },
    {
     "name": "stdout",
     "output_type": "stream",
     "text": [
      "[29,   200] train_loss: 0.452\n",
      "[29,   200] validation_loss: 1.108\n",
      "29 epoch, training accuracy: 0.8455\n",
      "29 epoch, validation accuracy: 0.6758\n",
      "-----------------------------------------\n"
     ]
    },
    {
     "name": "stderr",
     "output_type": "stream",
     "text": [
      "/home/s1041549/anaconda3/envs/dlsystem/lib/python3.7/site-packages/imgaug/imgaug.py:184: DeprecationWarning: Function `Scale()` is deprecated. Use `Resize` instead. Resize has the exactly same interface as Scale.\n",
      "  warn_deprecated(msg, stacklevel=3)\n",
      "/home/s1041549/anaconda3/envs/dlsystem/lib/python3.7/site-packages/imgaug/imgaug.py:184: DeprecationWarning: Function `Scale()` is deprecated. Use `Resize` instead. Resize has the exactly same interface as Scale.\n",
      "  warn_deprecated(msg, stacklevel=3)\n",
      "/home/s1041549/anaconda3/envs/dlsystem/lib/python3.7/site-packages/imgaug/imgaug.py:184: DeprecationWarning: Function `Scale()` is deprecated. Use `Resize` instead. Resize has the exactly same interface as Scale.\n",
      "  warn_deprecated(msg, stacklevel=3)\n",
      "/home/s1041549/anaconda3/envs/dlsystem/lib/python3.7/site-packages/imgaug/imgaug.py:184: DeprecationWarning: Function `Scale()` is deprecated. Use `Resize` instead. Resize has the exactly same interface as Scale.\n",
      "  warn_deprecated(msg, stacklevel=3)\n"
     ]
    },
    {
     "name": "stdout",
     "output_type": "stream",
     "text": [
      "[30,   200] train_loss: 0.460\n",
      "[30,   200] validation_loss: 1.187\n",
      "30 epoch, training accuracy: 0.8439\n",
      "30 epoch, validation accuracy: 0.6554\n",
      "-----------------------------------------\n"
     ]
    },
    {
     "name": "stderr",
     "output_type": "stream",
     "text": [
      "/home/s1041549/anaconda3/envs/dlsystem/lib/python3.7/site-packages/imgaug/imgaug.py:184: DeprecationWarning: Function `Scale()` is deprecated. Use `Resize` instead. Resize has the exactly same interface as Scale.\n",
      "  warn_deprecated(msg, stacklevel=3)\n",
      "/home/s1041549/anaconda3/envs/dlsystem/lib/python3.7/site-packages/imgaug/imgaug.py:184: DeprecationWarning: Function `Scale()` is deprecated. Use `Resize` instead. Resize has the exactly same interface as Scale.\n",
      "  warn_deprecated(msg, stacklevel=3)\n",
      "/home/s1041549/anaconda3/envs/dlsystem/lib/python3.7/site-packages/imgaug/imgaug.py:184: DeprecationWarning: Function `Scale()` is deprecated. Use `Resize` instead. Resize has the exactly same interface as Scale.\n",
      "  warn_deprecated(msg, stacklevel=3)\n",
      "/home/s1041549/anaconda3/envs/dlsystem/lib/python3.7/site-packages/imgaug/imgaug.py:184: DeprecationWarning: Function `Scale()` is deprecated. Use `Resize` instead. Resize has the exactly same interface as Scale.\n",
      "  warn_deprecated(msg, stacklevel=3)\n"
     ]
    },
    {
     "name": "stdout",
     "output_type": "stream",
     "text": [
      "[31,   200] train_loss: 0.413\n",
      "[31,   200] validation_loss: 1.115\n",
      "31 epoch, training accuracy: 0.8581\n",
      "31 epoch, validation accuracy: 0.6810\n",
      "-----------------------------------------\n"
     ]
    },
    {
     "name": "stderr",
     "output_type": "stream",
     "text": [
      "/home/s1041549/anaconda3/envs/dlsystem/lib/python3.7/site-packages/imgaug/imgaug.py:184: DeprecationWarning: Function `Scale()` is deprecated. Use `Resize` instead. Resize has the exactly same interface as Scale.\n",
      "  warn_deprecated(msg, stacklevel=3)\n",
      "/home/s1041549/anaconda3/envs/dlsystem/lib/python3.7/site-packages/imgaug/imgaug.py:184: DeprecationWarning: Function `Scale()` is deprecated. Use `Resize` instead. Resize has the exactly same interface as Scale.\n",
      "  warn_deprecated(msg, stacklevel=3)\n",
      "/home/s1041549/anaconda3/envs/dlsystem/lib/python3.7/site-packages/imgaug/imgaug.py:184: DeprecationWarning: Function `Scale()` is deprecated. Use `Resize` instead. Resize has the exactly same interface as Scale.\n",
      "  warn_deprecated(msg, stacklevel=3)\n",
      "/home/s1041549/anaconda3/envs/dlsystem/lib/python3.7/site-packages/imgaug/imgaug.py:184: DeprecationWarning: Function `Scale()` is deprecated. Use `Resize` instead. Resize has the exactly same interface as Scale.\n",
      "  warn_deprecated(msg, stacklevel=3)\n"
     ]
    },
    {
     "name": "stdout",
     "output_type": "stream",
     "text": [
      "[32,   200] train_loss: 0.398\n",
      "[32,   200] validation_loss: 1.160\n",
      "32 epoch, training accuracy: 0.8631\n",
      "32 epoch, validation accuracy: 0.6726\n",
      "-----------------------------------------\n"
     ]
    },
    {
     "name": "stderr",
     "output_type": "stream",
     "text": [
      "/home/s1041549/anaconda3/envs/dlsystem/lib/python3.7/site-packages/imgaug/imgaug.py:184: DeprecationWarning: Function `Scale()` is deprecated. Use `Resize` instead. Resize has the exactly same interface as Scale.\n",
      "  warn_deprecated(msg, stacklevel=3)\n",
      "/home/s1041549/anaconda3/envs/dlsystem/lib/python3.7/site-packages/imgaug/imgaug.py:184: DeprecationWarning: Function `Scale()` is deprecated. Use `Resize` instead. Resize has the exactly same interface as Scale.\n",
      "  warn_deprecated(msg, stacklevel=3)\n",
      "/home/s1041549/anaconda3/envs/dlsystem/lib/python3.7/site-packages/imgaug/imgaug.py:184: DeprecationWarning: Function `Scale()` is deprecated. Use `Resize` instead. Resize has the exactly same interface as Scale.\n",
      "  warn_deprecated(msg, stacklevel=3)\n",
      "/home/s1041549/anaconda3/envs/dlsystem/lib/python3.7/site-packages/imgaug/imgaug.py:184: DeprecationWarning: Function `Scale()` is deprecated. Use `Resize` instead. Resize has the exactly same interface as Scale.\n",
      "  warn_deprecated(msg, stacklevel=3)\n"
     ]
    },
    {
     "name": "stdout",
     "output_type": "stream",
     "text": [
      "[33,   200] train_loss: 0.422\n",
      "[33,   200] validation_loss: 1.143\n",
      "33 epoch, training accuracy: 0.8587\n",
      "33 epoch, validation accuracy: 0.6650\n",
      "-----------------------------------------\n"
     ]
    },
    {
     "name": "stderr",
     "output_type": "stream",
     "text": [
      "/home/s1041549/anaconda3/envs/dlsystem/lib/python3.7/site-packages/imgaug/imgaug.py:184: DeprecationWarning: Function `Scale()` is deprecated. Use `Resize` instead. Resize has the exactly same interface as Scale.\n",
      "  warn_deprecated(msg, stacklevel=3)\n",
      "/home/s1041549/anaconda3/envs/dlsystem/lib/python3.7/site-packages/imgaug/imgaug.py:184: DeprecationWarning: Function `Scale()` is deprecated. Use `Resize` instead. Resize has the exactly same interface as Scale.\n",
      "  warn_deprecated(msg, stacklevel=3)\n",
      "/home/s1041549/anaconda3/envs/dlsystem/lib/python3.7/site-packages/imgaug/imgaug.py:184: DeprecationWarning: Function `Scale()` is deprecated. Use `Resize` instead. Resize has the exactly same interface as Scale.\n",
      "  warn_deprecated(msg, stacklevel=3)\n",
      "/home/s1041549/anaconda3/envs/dlsystem/lib/python3.7/site-packages/imgaug/imgaug.py:184: DeprecationWarning: Function `Scale()` is deprecated. Use `Resize` instead. Resize has the exactly same interface as Scale.\n",
      "  warn_deprecated(msg, stacklevel=3)\n"
     ]
    },
    {
     "name": "stdout",
     "output_type": "stream",
     "text": [
      "[34,   200] train_loss: 0.375\n",
      "[34,   200] validation_loss: 1.061\n",
      "34 epoch, training accuracy: 0.8726\n",
      "34 epoch, validation accuracy: 0.7000\n",
      "-----------------------------------------\n"
     ]
    },
    {
     "name": "stderr",
     "output_type": "stream",
     "text": [
      "/home/s1041549/anaconda3/envs/dlsystem/lib/python3.7/site-packages/imgaug/imgaug.py:184: DeprecationWarning: Function `Scale()` is deprecated. Use `Resize` instead. Resize has the exactly same interface as Scale.\n",
      "  warn_deprecated(msg, stacklevel=3)\n",
      "/home/s1041549/anaconda3/envs/dlsystem/lib/python3.7/site-packages/imgaug/imgaug.py:184: DeprecationWarning: Function `Scale()` is deprecated. Use `Resize` instead. Resize has the exactly same interface as Scale.\n",
      "  warn_deprecated(msg, stacklevel=3)\n",
      "/home/s1041549/anaconda3/envs/dlsystem/lib/python3.7/site-packages/imgaug/imgaug.py:184: DeprecationWarning: Function `Scale()` is deprecated. Use `Resize` instead. Resize has the exactly same interface as Scale.\n",
      "  warn_deprecated(msg, stacklevel=3)\n",
      "/home/s1041549/anaconda3/envs/dlsystem/lib/python3.7/site-packages/imgaug/imgaug.py:184: DeprecationWarning: Function `Scale()` is deprecated. Use `Resize` instead. Resize has the exactly same interface as Scale.\n",
      "  warn_deprecated(msg, stacklevel=3)\n"
     ]
    },
    {
     "name": "stdout",
     "output_type": "stream",
     "text": [
      "[35,   200] train_loss: 0.353\n",
      "[35,   200] validation_loss: 1.183\n",
      "35 epoch, training accuracy: 0.8803\n",
      "35 epoch, validation accuracy: 0.6700\n",
      "-----------------------------------------\n"
     ]
    },
    {
     "name": "stderr",
     "output_type": "stream",
     "text": [
      "/home/s1041549/anaconda3/envs/dlsystem/lib/python3.7/site-packages/imgaug/imgaug.py:184: DeprecationWarning: Function `Scale()` is deprecated. Use `Resize` instead. Resize has the exactly same interface as Scale.\n",
      "  warn_deprecated(msg, stacklevel=3)\n",
      "/home/s1041549/anaconda3/envs/dlsystem/lib/python3.7/site-packages/imgaug/imgaug.py:184: DeprecationWarning: Function `Scale()` is deprecated. Use `Resize` instead. Resize has the exactly same interface as Scale.\n",
      "  warn_deprecated(msg, stacklevel=3)\n",
      "/home/s1041549/anaconda3/envs/dlsystem/lib/python3.7/site-packages/imgaug/imgaug.py:184: DeprecationWarning: Function `Scale()` is deprecated. Use `Resize` instead. Resize has the exactly same interface as Scale.\n",
      "  warn_deprecated(msg, stacklevel=3)\n",
      "/home/s1041549/anaconda3/envs/dlsystem/lib/python3.7/site-packages/imgaug/imgaug.py:184: DeprecationWarning: Function `Scale()` is deprecated. Use `Resize` instead. Resize has the exactly same interface as Scale.\n",
      "  warn_deprecated(msg, stacklevel=3)\n"
     ]
    },
    {
     "name": "stdout",
     "output_type": "stream",
     "text": [
      "[36,   200] train_loss: 0.349\n",
      "[36,   200] validation_loss: 1.138\n",
      "36 epoch, training accuracy: 0.8819\n",
      "36 epoch, validation accuracy: 0.6889\n",
      "-----------------------------------------\n"
     ]
    },
    {
     "name": "stderr",
     "output_type": "stream",
     "text": [
      "/home/s1041549/anaconda3/envs/dlsystem/lib/python3.7/site-packages/imgaug/imgaug.py:184: DeprecationWarning: Function `Scale()` is deprecated. Use `Resize` instead. Resize has the exactly same interface as Scale.\n",
      "  warn_deprecated(msg, stacklevel=3)\n",
      "/home/s1041549/anaconda3/envs/dlsystem/lib/python3.7/site-packages/imgaug/imgaug.py:184: DeprecationWarning: Function `Scale()` is deprecated. Use `Resize` instead. Resize has the exactly same interface as Scale.\n",
      "  warn_deprecated(msg, stacklevel=3)\n",
      "/home/s1041549/anaconda3/envs/dlsystem/lib/python3.7/site-packages/imgaug/imgaug.py:184: DeprecationWarning: Function `Scale()` is deprecated. Use `Resize` instead. Resize has the exactly same interface as Scale.\n",
      "  warn_deprecated(msg, stacklevel=3)\n",
      "/home/s1041549/anaconda3/envs/dlsystem/lib/python3.7/site-packages/imgaug/imgaug.py:184: DeprecationWarning: Function `Scale()` is deprecated. Use `Resize` instead. Resize has the exactly same interface as Scale.\n",
      "  warn_deprecated(msg, stacklevel=3)\n"
     ]
    },
    {
     "name": "stdout",
     "output_type": "stream",
     "text": [
      "[37,   200] train_loss: 0.355\n",
      "[37,   200] validation_loss: 1.125\n",
      "37 epoch, training accuracy: 0.8771\n",
      "37 epoch, validation accuracy: 0.6895\n",
      "-----------------------------------------\n"
     ]
    },
    {
     "name": "stderr",
     "output_type": "stream",
     "text": [
      "/home/s1041549/anaconda3/envs/dlsystem/lib/python3.7/site-packages/imgaug/imgaug.py:184: DeprecationWarning: Function `Scale()` is deprecated. Use `Resize` instead. Resize has the exactly same interface as Scale.\n",
      "  warn_deprecated(msg, stacklevel=3)\n",
      "/home/s1041549/anaconda3/envs/dlsystem/lib/python3.7/site-packages/imgaug/imgaug.py:184: DeprecationWarning: Function `Scale()` is deprecated. Use `Resize` instead. Resize has the exactly same interface as Scale.\n",
      "  warn_deprecated(msg, stacklevel=3)\n",
      "/home/s1041549/anaconda3/envs/dlsystem/lib/python3.7/site-packages/imgaug/imgaug.py:184: DeprecationWarning: Function `Scale()` is deprecated. Use `Resize` instead. Resize has the exactly same interface as Scale.\n",
      "  warn_deprecated(msg, stacklevel=3)\n",
      "/home/s1041549/anaconda3/envs/dlsystem/lib/python3.7/site-packages/imgaug/imgaug.py:184: DeprecationWarning: Function `Scale()` is deprecated. Use `Resize` instead. Resize has the exactly same interface as Scale.\n",
      "  warn_deprecated(msg, stacklevel=3)\n"
     ]
    },
    {
     "name": "stdout",
     "output_type": "stream",
     "text": [
      "[38,   200] train_loss: 0.339\n",
      "[38,   200] validation_loss: 1.278\n",
      "38 epoch, training accuracy: 0.8826\n",
      "38 epoch, validation accuracy: 0.6665\n",
      "-----------------------------------------\n"
     ]
    },
    {
     "name": "stderr",
     "output_type": "stream",
     "text": [
      "/home/s1041549/anaconda3/envs/dlsystem/lib/python3.7/site-packages/imgaug/imgaug.py:184: DeprecationWarning: Function `Scale()` is deprecated. Use `Resize` instead. Resize has the exactly same interface as Scale.\n",
      "  warn_deprecated(msg, stacklevel=3)\n",
      "/home/s1041549/anaconda3/envs/dlsystem/lib/python3.7/site-packages/imgaug/imgaug.py:184: DeprecationWarning: Function `Scale()` is deprecated. Use `Resize` instead. Resize has the exactly same interface as Scale.\n",
      "  warn_deprecated(msg, stacklevel=3)\n",
      "/home/s1041549/anaconda3/envs/dlsystem/lib/python3.7/site-packages/imgaug/imgaug.py:184: DeprecationWarning: Function `Scale()` is deprecated. Use `Resize` instead. Resize has the exactly same interface as Scale.\n",
      "  warn_deprecated(msg, stacklevel=3)\n",
      "/home/s1041549/anaconda3/envs/dlsystem/lib/python3.7/site-packages/imgaug/imgaug.py:184: DeprecationWarning: Function `Scale()` is deprecated. Use `Resize` instead. Resize has the exactly same interface as Scale.\n",
      "  warn_deprecated(msg, stacklevel=3)\n"
     ]
    },
    {
     "name": "stdout",
     "output_type": "stream",
     "text": [
      "[39,   200] train_loss: 0.311\n",
      "[39,   200] validation_loss: 1.366\n",
      "39 epoch, training accuracy: 0.8991\n",
      "39 epoch, validation accuracy: 0.6481\n",
      "-----------------------------------------\n"
     ]
    },
    {
     "name": "stderr",
     "output_type": "stream",
     "text": [
      "/home/s1041549/anaconda3/envs/dlsystem/lib/python3.7/site-packages/imgaug/imgaug.py:184: DeprecationWarning: Function `Scale()` is deprecated. Use `Resize` instead. Resize has the exactly same interface as Scale.\n",
      "  warn_deprecated(msg, stacklevel=3)\n",
      "/home/s1041549/anaconda3/envs/dlsystem/lib/python3.7/site-packages/imgaug/imgaug.py:184: DeprecationWarning: Function `Scale()` is deprecated. Use `Resize` instead. Resize has the exactly same interface as Scale.\n",
      "  warn_deprecated(msg, stacklevel=3)\n",
      "/home/s1041549/anaconda3/envs/dlsystem/lib/python3.7/site-packages/imgaug/imgaug.py:184: DeprecationWarning: Function `Scale()` is deprecated. Use `Resize` instead. Resize has the exactly same interface as Scale.\n",
      "  warn_deprecated(msg, stacklevel=3)\n",
      "/home/s1041549/anaconda3/envs/dlsystem/lib/python3.7/site-packages/imgaug/imgaug.py:184: DeprecationWarning: Function `Scale()` is deprecated. Use `Resize` instead. Resize has the exactly same interface as Scale.\n",
      "  warn_deprecated(msg, stacklevel=3)\n"
     ]
    },
    {
     "name": "stdout",
     "output_type": "stream",
     "text": [
      "[40,   200] train_loss: 0.331\n",
      "[40,   200] validation_loss: 1.251\n",
      "40 epoch, training accuracy: 0.8893\n",
      "40 epoch, validation accuracy: 0.6743\n",
      "-----------------------------------------\n"
     ]
    },
    {
     "name": "stderr",
     "output_type": "stream",
     "text": [
      "/home/s1041549/anaconda3/envs/dlsystem/lib/python3.7/site-packages/imgaug/imgaug.py:184: DeprecationWarning: Function `Scale()` is deprecated. Use `Resize` instead. Resize has the exactly same interface as Scale.\n",
      "  warn_deprecated(msg, stacklevel=3)\n",
      "/home/s1041549/anaconda3/envs/dlsystem/lib/python3.7/site-packages/imgaug/imgaug.py:184: DeprecationWarning: Function `Scale()` is deprecated. Use `Resize` instead. Resize has the exactly same interface as Scale.\n",
      "  warn_deprecated(msg, stacklevel=3)\n",
      "/home/s1041549/anaconda3/envs/dlsystem/lib/python3.7/site-packages/imgaug/imgaug.py:184: DeprecationWarning: Function `Scale()` is deprecated. Use `Resize` instead. Resize has the exactly same interface as Scale.\n",
      "  warn_deprecated(msg, stacklevel=3)\n",
      "/home/s1041549/anaconda3/envs/dlsystem/lib/python3.7/site-packages/imgaug/imgaug.py:184: DeprecationWarning: Function `Scale()` is deprecated. Use `Resize` instead. Resize has the exactly same interface as Scale.\n",
      "  warn_deprecated(msg, stacklevel=3)\n"
     ]
    },
    {
     "name": "stdout",
     "output_type": "stream",
     "text": [
      "[41,   200] train_loss: 0.296\n",
      "[41,   200] validation_loss: 1.264\n",
      "41 epoch, training accuracy: 0.8969\n",
      "41 epoch, validation accuracy: 0.6741\n",
      "-----------------------------------------\n"
     ]
    },
    {
     "name": "stderr",
     "output_type": "stream",
     "text": [
      "/home/s1041549/anaconda3/envs/dlsystem/lib/python3.7/site-packages/imgaug/imgaug.py:184: DeprecationWarning: Function `Scale()` is deprecated. Use `Resize` instead. Resize has the exactly same interface as Scale.\n",
      "  warn_deprecated(msg, stacklevel=3)\n",
      "/home/s1041549/anaconda3/envs/dlsystem/lib/python3.7/site-packages/imgaug/imgaug.py:184: DeprecationWarning: Function `Scale()` is deprecated. Use `Resize` instead. Resize has the exactly same interface as Scale.\n",
      "  warn_deprecated(msg, stacklevel=3)\n",
      "/home/s1041549/anaconda3/envs/dlsystem/lib/python3.7/site-packages/imgaug/imgaug.py:184: DeprecationWarning: Function `Scale()` is deprecated. Use `Resize` instead. Resize has the exactly same interface as Scale.\n",
      "  warn_deprecated(msg, stacklevel=3)\n",
      "/home/s1041549/anaconda3/envs/dlsystem/lib/python3.7/site-packages/imgaug/imgaug.py:184: DeprecationWarning: Function `Scale()` is deprecated. Use `Resize` instead. Resize has the exactly same interface as Scale.\n",
      "  warn_deprecated(msg, stacklevel=3)\n"
     ]
    },
    {
     "name": "stdout",
     "output_type": "stream",
     "text": [
      "[42,   200] train_loss: 0.303\n",
      "[42,   200] validation_loss: 1.098\n",
      "42 epoch, training accuracy: 0.8977\n",
      "42 epoch, validation accuracy: 0.7093\n",
      "-----------------------------------------\n"
     ]
    },
    {
     "name": "stderr",
     "output_type": "stream",
     "text": [
      "/home/s1041549/anaconda3/envs/dlsystem/lib/python3.7/site-packages/imgaug/imgaug.py:184: DeprecationWarning: Function `Scale()` is deprecated. Use `Resize` instead. Resize has the exactly same interface as Scale.\n",
      "  warn_deprecated(msg, stacklevel=3)\n",
      "/home/s1041549/anaconda3/envs/dlsystem/lib/python3.7/site-packages/imgaug/imgaug.py:184: DeprecationWarning: Function `Scale()` is deprecated. Use `Resize` instead. Resize has the exactly same interface as Scale.\n",
      "  warn_deprecated(msg, stacklevel=3)\n",
      "/home/s1041549/anaconda3/envs/dlsystem/lib/python3.7/site-packages/imgaug/imgaug.py:184: DeprecationWarning: Function `Scale()` is deprecated. Use `Resize` instead. Resize has the exactly same interface as Scale.\n",
      "  warn_deprecated(msg, stacklevel=3)\n",
      "/home/s1041549/anaconda3/envs/dlsystem/lib/python3.7/site-packages/imgaug/imgaug.py:184: DeprecationWarning: Function `Scale()` is deprecated. Use `Resize` instead. Resize has the exactly same interface as Scale.\n",
      "  warn_deprecated(msg, stacklevel=3)\n"
     ]
    },
    {
     "name": "stdout",
     "output_type": "stream",
     "text": [
      "[43,   200] train_loss: 0.293\n",
      "[43,   200] validation_loss: 1.264\n",
      "43 epoch, training accuracy: 0.9033\n",
      "43 epoch, validation accuracy: 0.6810\n",
      "-----------------------------------------\n"
     ]
    },
    {
     "name": "stderr",
     "output_type": "stream",
     "text": [
      "/home/s1041549/anaconda3/envs/dlsystem/lib/python3.7/site-packages/imgaug/imgaug.py:184: DeprecationWarning: Function `Scale()` is deprecated. Use `Resize` instead. Resize has the exactly same interface as Scale.\n",
      "  warn_deprecated(msg, stacklevel=3)\n",
      "/home/s1041549/anaconda3/envs/dlsystem/lib/python3.7/site-packages/imgaug/imgaug.py:184: DeprecationWarning: Function `Scale()` is deprecated. Use `Resize` instead. Resize has the exactly same interface as Scale.\n",
      "  warn_deprecated(msg, stacklevel=3)\n",
      "/home/s1041549/anaconda3/envs/dlsystem/lib/python3.7/site-packages/imgaug/imgaug.py:184: DeprecationWarning: Function `Scale()` is deprecated. Use `Resize` instead. Resize has the exactly same interface as Scale.\n",
      "  warn_deprecated(msg, stacklevel=3)\n",
      "/home/s1041549/anaconda3/envs/dlsystem/lib/python3.7/site-packages/imgaug/imgaug.py:184: DeprecationWarning: Function `Scale()` is deprecated. Use `Resize` instead. Resize has the exactly same interface as Scale.\n",
      "  warn_deprecated(msg, stacklevel=3)\n"
     ]
    },
    {
     "name": "stdout",
     "output_type": "stream",
     "text": [
      "[44,   200] train_loss: 0.269\n",
      "[44,   200] validation_loss: 1.226\n",
      "44 epoch, training accuracy: 0.9098\n",
      "44 epoch, validation accuracy: 0.6895\n",
      "-----------------------------------------\n"
     ]
    },
    {
     "name": "stderr",
     "output_type": "stream",
     "text": [
      "/home/s1041549/anaconda3/envs/dlsystem/lib/python3.7/site-packages/imgaug/imgaug.py:184: DeprecationWarning: Function `Scale()` is deprecated. Use `Resize` instead. Resize has the exactly same interface as Scale.\n",
      "  warn_deprecated(msg, stacklevel=3)\n",
      "/home/s1041549/anaconda3/envs/dlsystem/lib/python3.7/site-packages/imgaug/imgaug.py:184: DeprecationWarning: Function `Scale()` is deprecated. Use `Resize` instead. Resize has the exactly same interface as Scale.\n",
      "  warn_deprecated(msg, stacklevel=3)\n",
      "/home/s1041549/anaconda3/envs/dlsystem/lib/python3.7/site-packages/imgaug/imgaug.py:184: DeprecationWarning: Function `Scale()` is deprecated. Use `Resize` instead. Resize has the exactly same interface as Scale.\n",
      "  warn_deprecated(msg, stacklevel=3)\n",
      "/home/s1041549/anaconda3/envs/dlsystem/lib/python3.7/site-packages/imgaug/imgaug.py:184: DeprecationWarning: Function `Scale()` is deprecated. Use `Resize` instead. Resize has the exactly same interface as Scale.\n",
      "  warn_deprecated(msg, stacklevel=3)\n"
     ]
    },
    {
     "name": "stdout",
     "output_type": "stream",
     "text": [
      "[45,   200] train_loss: 0.267\n",
      "[45,   200] validation_loss: 1.364\n",
      "45 epoch, training accuracy: 0.9081\n",
      "45 epoch, validation accuracy: 0.6729\n",
      "-----------------------------------------\n"
     ]
    },
    {
     "name": "stderr",
     "output_type": "stream",
     "text": [
      "/home/s1041549/anaconda3/envs/dlsystem/lib/python3.7/site-packages/imgaug/imgaug.py:184: DeprecationWarning: Function `Scale()` is deprecated. Use `Resize` instead. Resize has the exactly same interface as Scale.\n",
      "  warn_deprecated(msg, stacklevel=3)\n",
      "/home/s1041549/anaconda3/envs/dlsystem/lib/python3.7/site-packages/imgaug/imgaug.py:184: DeprecationWarning: Function `Scale()` is deprecated. Use `Resize` instead. Resize has the exactly same interface as Scale.\n",
      "  warn_deprecated(msg, stacklevel=3)\n",
      "/home/s1041549/anaconda3/envs/dlsystem/lib/python3.7/site-packages/imgaug/imgaug.py:184: DeprecationWarning: Function `Scale()` is deprecated. Use `Resize` instead. Resize has the exactly same interface as Scale.\n",
      "  warn_deprecated(msg, stacklevel=3)\n",
      "/home/s1041549/anaconda3/envs/dlsystem/lib/python3.7/site-packages/imgaug/imgaug.py:184: DeprecationWarning: Function `Scale()` is deprecated. Use `Resize` instead. Resize has the exactly same interface as Scale.\n",
      "  warn_deprecated(msg, stacklevel=3)\n"
     ]
    },
    {
     "name": "stdout",
     "output_type": "stream",
     "text": [
      "[46,   200] train_loss: 0.256\n",
      "[46,   200] validation_loss: 1.195\n",
      "46 epoch, training accuracy: 0.9130\n",
      "46 epoch, validation accuracy: 0.6828\n",
      "-----------------------------------------\n"
     ]
    },
    {
     "name": "stderr",
     "output_type": "stream",
     "text": [
      "/home/s1041549/anaconda3/envs/dlsystem/lib/python3.7/site-packages/imgaug/imgaug.py:184: DeprecationWarning: Function `Scale()` is deprecated. Use `Resize` instead. Resize has the exactly same interface as Scale.\n",
      "  warn_deprecated(msg, stacklevel=3)\n",
      "/home/s1041549/anaconda3/envs/dlsystem/lib/python3.7/site-packages/imgaug/imgaug.py:184: DeprecationWarning: Function `Scale()` is deprecated. Use `Resize` instead. Resize has the exactly same interface as Scale.\n",
      "  warn_deprecated(msg, stacklevel=3)\n",
      "/home/s1041549/anaconda3/envs/dlsystem/lib/python3.7/site-packages/imgaug/imgaug.py:184: DeprecationWarning: Function `Scale()` is deprecated. Use `Resize` instead. Resize has the exactly same interface as Scale.\n",
      "  warn_deprecated(msg, stacklevel=3)\n",
      "/home/s1041549/anaconda3/envs/dlsystem/lib/python3.7/site-packages/imgaug/imgaug.py:184: DeprecationWarning: Function `Scale()` is deprecated. Use `Resize` instead. Resize has the exactly same interface as Scale.\n",
      "  warn_deprecated(msg, stacklevel=3)\n"
     ]
    },
    {
     "name": "stdout",
     "output_type": "stream",
     "text": [
      "[47,   200] train_loss: 0.246\n",
      "[47,   200] validation_loss: 1.124\n",
      "47 epoch, training accuracy: 0.9160\n",
      "47 epoch, validation accuracy: 0.7152\n",
      "-----------------------------------------\n"
     ]
    },
    {
     "name": "stderr",
     "output_type": "stream",
     "text": [
      "/home/s1041549/anaconda3/envs/dlsystem/lib/python3.7/site-packages/imgaug/imgaug.py:184: DeprecationWarning: Function `Scale()` is deprecated. Use `Resize` instead. Resize has the exactly same interface as Scale.\n",
      "  warn_deprecated(msg, stacklevel=3)\n",
      "/home/s1041549/anaconda3/envs/dlsystem/lib/python3.7/site-packages/imgaug/imgaug.py:184: DeprecationWarning: Function `Scale()` is deprecated. Use `Resize` instead. Resize has the exactly same interface as Scale.\n",
      "  warn_deprecated(msg, stacklevel=3)\n",
      "/home/s1041549/anaconda3/envs/dlsystem/lib/python3.7/site-packages/imgaug/imgaug.py:184: DeprecationWarning: Function `Scale()` is deprecated. Use `Resize` instead. Resize has the exactly same interface as Scale.\n",
      "  warn_deprecated(msg, stacklevel=3)\n",
      "/home/s1041549/anaconda3/envs/dlsystem/lib/python3.7/site-packages/imgaug/imgaug.py:184: DeprecationWarning: Function `Scale()` is deprecated. Use `Resize` instead. Resize has the exactly same interface as Scale.\n",
      "  warn_deprecated(msg, stacklevel=3)\n"
     ]
    },
    {
     "name": "stdout",
     "output_type": "stream",
     "text": [
      "[48,   200] train_loss: 0.234\n",
      "[48,   200] validation_loss: 1.232\n",
      "48 epoch, training accuracy: 0.9206\n",
      "48 epoch, validation accuracy: 0.7038\n",
      "-----------------------------------------\n"
     ]
    },
    {
     "name": "stderr",
     "output_type": "stream",
     "text": [
      "/home/s1041549/anaconda3/envs/dlsystem/lib/python3.7/site-packages/imgaug/imgaug.py:184: DeprecationWarning: Function `Scale()` is deprecated. Use `Resize` instead. Resize has the exactly same interface as Scale.\n",
      "  warn_deprecated(msg, stacklevel=3)\n",
      "/home/s1041549/anaconda3/envs/dlsystem/lib/python3.7/site-packages/imgaug/imgaug.py:184: DeprecationWarning: Function `Scale()` is deprecated. Use `Resize` instead. Resize has the exactly same interface as Scale.\n",
      "  warn_deprecated(msg, stacklevel=3)\n",
      "/home/s1041549/anaconda3/envs/dlsystem/lib/python3.7/site-packages/imgaug/imgaug.py:184: DeprecationWarning: Function `Scale()` is deprecated. Use `Resize` instead. Resize has the exactly same interface as Scale.\n",
      "  warn_deprecated(msg, stacklevel=3)\n",
      "/home/s1041549/anaconda3/envs/dlsystem/lib/python3.7/site-packages/imgaug/imgaug.py:184: DeprecationWarning: Function `Scale()` is deprecated. Use `Resize` instead. Resize has the exactly same interface as Scale.\n",
      "  warn_deprecated(msg, stacklevel=3)\n"
     ]
    },
    {
     "name": "stdout",
     "output_type": "stream",
     "text": [
      "[49,   200] train_loss: 0.242\n",
      "[49,   200] validation_loss: 1.198\n",
      "49 epoch, training accuracy: 0.9191\n",
      "49 epoch, validation accuracy: 0.7131\n",
      "-----------------------------------------\n"
     ]
    },
    {
     "name": "stderr",
     "output_type": "stream",
     "text": [
      "/home/s1041549/anaconda3/envs/dlsystem/lib/python3.7/site-packages/imgaug/imgaug.py:184: DeprecationWarning: Function `Scale()` is deprecated. Use `Resize` instead. Resize has the exactly same interface as Scale.\n",
      "  warn_deprecated(msg, stacklevel=3)\n",
      "/home/s1041549/anaconda3/envs/dlsystem/lib/python3.7/site-packages/imgaug/imgaug.py:184: DeprecationWarning: Function `Scale()` is deprecated. Use `Resize` instead. Resize has the exactly same interface as Scale.\n",
      "  warn_deprecated(msg, stacklevel=3)\n",
      "/home/s1041549/anaconda3/envs/dlsystem/lib/python3.7/site-packages/imgaug/imgaug.py:184: DeprecationWarning: Function `Scale()` is deprecated. Use `Resize` instead. Resize has the exactly same interface as Scale.\n",
      "  warn_deprecated(msg, stacklevel=3)\n",
      "/home/s1041549/anaconda3/envs/dlsystem/lib/python3.7/site-packages/imgaug/imgaug.py:184: DeprecationWarning: Function `Scale()` is deprecated. Use `Resize` instead. Resize has the exactly same interface as Scale.\n",
      "  warn_deprecated(msg, stacklevel=3)\n"
     ]
    },
    {
     "name": "stdout",
     "output_type": "stream",
     "text": [
      "[50,   200] train_loss: 0.231\n",
      "[50,   200] validation_loss: 1.290\n",
      "50 epoch, training accuracy: 0.9208\n",
      "50 epoch, validation accuracy: 0.6878\n",
      "-----------------------------------------\n"
     ]
    },
    {
     "name": "stderr",
     "output_type": "stream",
     "text": [
      "/home/s1041549/anaconda3/envs/dlsystem/lib/python3.7/site-packages/imgaug/imgaug.py:184: DeprecationWarning: Function `Scale()` is deprecated. Use `Resize` instead. Resize has the exactly same interface as Scale.\n",
      "  warn_deprecated(msg, stacklevel=3)\n",
      "/home/s1041549/anaconda3/envs/dlsystem/lib/python3.7/site-packages/imgaug/imgaug.py:184: DeprecationWarning: Function `Scale()` is deprecated. Use `Resize` instead. Resize has the exactly same interface as Scale.\n",
      "  warn_deprecated(msg, stacklevel=3)\n",
      "/home/s1041549/anaconda3/envs/dlsystem/lib/python3.7/site-packages/imgaug/imgaug.py:184: DeprecationWarning: Function `Scale()` is deprecated. Use `Resize` instead. Resize has the exactly same interface as Scale.\n",
      "  warn_deprecated(msg, stacklevel=3)\n",
      "/home/s1041549/anaconda3/envs/dlsystem/lib/python3.7/site-packages/imgaug/imgaug.py:184: DeprecationWarning: Function `Scale()` is deprecated. Use `Resize` instead. Resize has the exactly same interface as Scale.\n",
      "  warn_deprecated(msg, stacklevel=3)\n"
     ]
    },
    {
     "name": "stdout",
     "output_type": "stream",
     "text": [
      "[51,   200] train_loss: 0.234\n",
      "[51,   200] validation_loss: 1.372\n",
      "51 epoch, training accuracy: 0.9187\n",
      "51 epoch, validation accuracy: 0.6764\n",
      "-----------------------------------------\n"
     ]
    },
    {
     "name": "stderr",
     "output_type": "stream",
     "text": [
      "/home/s1041549/anaconda3/envs/dlsystem/lib/python3.7/site-packages/imgaug/imgaug.py:184: DeprecationWarning: Function `Scale()` is deprecated. Use `Resize` instead. Resize has the exactly same interface as Scale.\n",
      "  warn_deprecated(msg, stacklevel=3)\n",
      "/home/s1041549/anaconda3/envs/dlsystem/lib/python3.7/site-packages/imgaug/imgaug.py:184: DeprecationWarning: Function `Scale()` is deprecated. Use `Resize` instead. Resize has the exactly same interface as Scale.\n",
      "  warn_deprecated(msg, stacklevel=3)\n",
      "/home/s1041549/anaconda3/envs/dlsystem/lib/python3.7/site-packages/imgaug/imgaug.py:184: DeprecationWarning: Function `Scale()` is deprecated. Use `Resize` instead. Resize has the exactly same interface as Scale.\n",
      "  warn_deprecated(msg, stacklevel=3)\n",
      "/home/s1041549/anaconda3/envs/dlsystem/lib/python3.7/site-packages/imgaug/imgaug.py:184: DeprecationWarning: Function `Scale()` is deprecated. Use `Resize` instead. Resize has the exactly same interface as Scale.\n",
      "  warn_deprecated(msg, stacklevel=3)\n"
     ]
    },
    {
     "name": "stdout",
     "output_type": "stream",
     "text": [
      "[52,   200] train_loss: 0.215\n",
      "[52,   200] validation_loss: 1.427\n",
      "52 epoch, training accuracy: 0.9285\n",
      "52 epoch, validation accuracy: 0.6694\n",
      "-----------------------------------------\n"
     ]
    },
    {
     "name": "stderr",
     "output_type": "stream",
     "text": [
      "/home/s1041549/anaconda3/envs/dlsystem/lib/python3.7/site-packages/imgaug/imgaug.py:184: DeprecationWarning: Function `Scale()` is deprecated. Use `Resize` instead. Resize has the exactly same interface as Scale.\n",
      "  warn_deprecated(msg, stacklevel=3)\n",
      "/home/s1041549/anaconda3/envs/dlsystem/lib/python3.7/site-packages/imgaug/imgaug.py:184: DeprecationWarning: Function `Scale()` is deprecated. Use `Resize` instead. Resize has the exactly same interface as Scale.\n",
      "  warn_deprecated(msg, stacklevel=3)\n",
      "/home/s1041549/anaconda3/envs/dlsystem/lib/python3.7/site-packages/imgaug/imgaug.py:184: DeprecationWarning: Function `Scale()` is deprecated. Use `Resize` instead. Resize has the exactly same interface as Scale.\n",
      "  warn_deprecated(msg, stacklevel=3)\n",
      "/home/s1041549/anaconda3/envs/dlsystem/lib/python3.7/site-packages/imgaug/imgaug.py:184: DeprecationWarning: Function `Scale()` is deprecated. Use `Resize` instead. Resize has the exactly same interface as Scale.\n",
      "  warn_deprecated(msg, stacklevel=3)\n"
     ]
    },
    {
     "name": "stdout",
     "output_type": "stream",
     "text": [
      "[53,   200] train_loss: 0.233\n",
      "[53,   200] validation_loss: 1.226\n",
      "53 epoch, training accuracy: 0.9226\n",
      "53 epoch, validation accuracy: 0.7015\n",
      "-----------------------------------------\n"
     ]
    },
    {
     "name": "stderr",
     "output_type": "stream",
     "text": [
      "/home/s1041549/anaconda3/envs/dlsystem/lib/python3.7/site-packages/imgaug/imgaug.py:184: DeprecationWarning: Function `Scale()` is deprecated. Use `Resize` instead. Resize has the exactly same interface as Scale.\n",
      "  warn_deprecated(msg, stacklevel=3)\n",
      "/home/s1041549/anaconda3/envs/dlsystem/lib/python3.7/site-packages/imgaug/imgaug.py:184: DeprecationWarning: Function `Scale()` is deprecated. Use `Resize` instead. Resize has the exactly same interface as Scale.\n",
      "  warn_deprecated(msg, stacklevel=3)\n",
      "/home/s1041549/anaconda3/envs/dlsystem/lib/python3.7/site-packages/imgaug/imgaug.py:184: DeprecationWarning: Function `Scale()` is deprecated. Use `Resize` instead. Resize has the exactly same interface as Scale.\n",
      "  warn_deprecated(msg, stacklevel=3)\n",
      "/home/s1041549/anaconda3/envs/dlsystem/lib/python3.7/site-packages/imgaug/imgaug.py:184: DeprecationWarning: Function `Scale()` is deprecated. Use `Resize` instead. Resize has the exactly same interface as Scale.\n",
      "  warn_deprecated(msg, stacklevel=3)\n"
     ]
    },
    {
     "name": "stdout",
     "output_type": "stream",
     "text": [
      "[54,   200] train_loss: 0.200\n",
      "[54,   200] validation_loss: 1.267\n",
      "54 epoch, training accuracy: 0.9319\n",
      "54 epoch, validation accuracy: 0.7023\n",
      "-----------------------------------------\n"
     ]
    },
    {
     "name": "stderr",
     "output_type": "stream",
     "text": [
      "/home/s1041549/anaconda3/envs/dlsystem/lib/python3.7/site-packages/imgaug/imgaug.py:184: DeprecationWarning: Function `Scale()` is deprecated. Use `Resize` instead. Resize has the exactly same interface as Scale.\n",
      "  warn_deprecated(msg, stacklevel=3)\n",
      "/home/s1041549/anaconda3/envs/dlsystem/lib/python3.7/site-packages/imgaug/imgaug.py:184: DeprecationWarning: Function `Scale()` is deprecated. Use `Resize` instead. Resize has the exactly same interface as Scale.\n",
      "  warn_deprecated(msg, stacklevel=3)\n",
      "/home/s1041549/anaconda3/envs/dlsystem/lib/python3.7/site-packages/imgaug/imgaug.py:184: DeprecationWarning: Function `Scale()` is deprecated. Use `Resize` instead. Resize has the exactly same interface as Scale.\n",
      "  warn_deprecated(msg, stacklevel=3)\n",
      "/home/s1041549/anaconda3/envs/dlsystem/lib/python3.7/site-packages/imgaug/imgaug.py:184: DeprecationWarning: Function `Scale()` is deprecated. Use `Resize` instead. Resize has the exactly same interface as Scale.\n",
      "  warn_deprecated(msg, stacklevel=3)\n"
     ]
    },
    {
     "name": "stdout",
     "output_type": "stream",
     "text": [
      "[55,   200] train_loss: 0.208\n",
      "[55,   200] validation_loss: 1.297\n",
      "55 epoch, training accuracy: 0.9303\n",
      "55 epoch, validation accuracy: 0.7000\n",
      "-----------------------------------------\n"
     ]
    },
    {
     "name": "stderr",
     "output_type": "stream",
     "text": [
      "/home/s1041549/anaconda3/envs/dlsystem/lib/python3.7/site-packages/imgaug/imgaug.py:184: DeprecationWarning: Function `Scale()` is deprecated. Use `Resize` instead. Resize has the exactly same interface as Scale.\n",
      "  warn_deprecated(msg, stacklevel=3)\n",
      "/home/s1041549/anaconda3/envs/dlsystem/lib/python3.7/site-packages/imgaug/imgaug.py:184: DeprecationWarning: Function `Scale()` is deprecated. Use `Resize` instead. Resize has the exactly same interface as Scale.\n",
      "  warn_deprecated(msg, stacklevel=3)\n",
      "/home/s1041549/anaconda3/envs/dlsystem/lib/python3.7/site-packages/imgaug/imgaug.py:184: DeprecationWarning: Function `Scale()` is deprecated. Use `Resize` instead. Resize has the exactly same interface as Scale.\n",
      "  warn_deprecated(msg, stacklevel=3)\n",
      "/home/s1041549/anaconda3/envs/dlsystem/lib/python3.7/site-packages/imgaug/imgaug.py:184: DeprecationWarning: Function `Scale()` is deprecated. Use `Resize` instead. Resize has the exactly same interface as Scale.\n",
      "  warn_deprecated(msg, stacklevel=3)\n"
     ]
    },
    {
     "name": "stdout",
     "output_type": "stream",
     "text": [
      "[56,   200] train_loss: 0.215\n",
      "[56,   200] validation_loss: 1.349\n",
      "56 epoch, training accuracy: 0.9261\n",
      "56 epoch, validation accuracy: 0.6950\n",
      "-----------------------------------------\n"
     ]
    },
    {
     "name": "stderr",
     "output_type": "stream",
     "text": [
      "/home/s1041549/anaconda3/envs/dlsystem/lib/python3.7/site-packages/imgaug/imgaug.py:184: DeprecationWarning: Function `Scale()` is deprecated. Use `Resize` instead. Resize has the exactly same interface as Scale.\n",
      "  warn_deprecated(msg, stacklevel=3)\n",
      "/home/s1041549/anaconda3/envs/dlsystem/lib/python3.7/site-packages/imgaug/imgaug.py:184: DeprecationWarning: Function `Scale()` is deprecated. Use `Resize` instead. Resize has the exactly same interface as Scale.\n",
      "  warn_deprecated(msg, stacklevel=3)\n",
      "/home/s1041549/anaconda3/envs/dlsystem/lib/python3.7/site-packages/imgaug/imgaug.py:184: DeprecationWarning: Function `Scale()` is deprecated. Use `Resize` instead. Resize has the exactly same interface as Scale.\n",
      "  warn_deprecated(msg, stacklevel=3)\n",
      "/home/s1041549/anaconda3/envs/dlsystem/lib/python3.7/site-packages/imgaug/imgaug.py:184: DeprecationWarning: Function `Scale()` is deprecated. Use `Resize` instead. Resize has the exactly same interface as Scale.\n",
      "  warn_deprecated(msg, stacklevel=3)\n"
     ]
    },
    {
     "name": "stdout",
     "output_type": "stream",
     "text": [
      "[57,   200] train_loss: 0.174\n",
      "[57,   200] validation_loss: 1.333\n",
      "57 epoch, training accuracy: 0.9428\n",
      "57 epoch, validation accuracy: 0.6837\n",
      "-----------------------------------------\n"
     ]
    },
    {
     "name": "stderr",
     "output_type": "stream",
     "text": [
      "/home/s1041549/anaconda3/envs/dlsystem/lib/python3.7/site-packages/imgaug/imgaug.py:184: DeprecationWarning: Function `Scale()` is deprecated. Use `Resize` instead. Resize has the exactly same interface as Scale.\n",
      "  warn_deprecated(msg, stacklevel=3)\n",
      "/home/s1041549/anaconda3/envs/dlsystem/lib/python3.7/site-packages/imgaug/imgaug.py:184: DeprecationWarning: Function `Scale()` is deprecated. Use `Resize` instead. Resize has the exactly same interface as Scale.\n",
      "  warn_deprecated(msg, stacklevel=3)\n",
      "/home/s1041549/anaconda3/envs/dlsystem/lib/python3.7/site-packages/imgaug/imgaug.py:184: DeprecationWarning: Function `Scale()` is deprecated. Use `Resize` instead. Resize has the exactly same interface as Scale.\n",
      "  warn_deprecated(msg, stacklevel=3)\n",
      "/home/s1041549/anaconda3/envs/dlsystem/lib/python3.7/site-packages/imgaug/imgaug.py:184: DeprecationWarning: Function `Scale()` is deprecated. Use `Resize` instead. Resize has the exactly same interface as Scale.\n",
      "  warn_deprecated(msg, stacklevel=3)\n"
     ]
    },
    {
     "name": "stdout",
     "output_type": "stream",
     "text": [
      "[58,   200] train_loss: 0.194\n",
      "[58,   200] validation_loss: 1.227\n",
      "58 epoch, training accuracy: 0.9345\n",
      "58 epoch, validation accuracy: 0.7210\n",
      "-----------------------------------------\n"
     ]
    },
    {
     "name": "stderr",
     "output_type": "stream",
     "text": [
      "/home/s1041549/anaconda3/envs/dlsystem/lib/python3.7/site-packages/imgaug/imgaug.py:184: DeprecationWarning: Function `Scale()` is deprecated. Use `Resize` instead. Resize has the exactly same interface as Scale.\n",
      "  warn_deprecated(msg, stacklevel=3)\n",
      "/home/s1041549/anaconda3/envs/dlsystem/lib/python3.7/site-packages/imgaug/imgaug.py:184: DeprecationWarning: Function `Scale()` is deprecated. Use `Resize` instead. Resize has the exactly same interface as Scale.\n",
      "  warn_deprecated(msg, stacklevel=3)\n",
      "/home/s1041549/anaconda3/envs/dlsystem/lib/python3.7/site-packages/imgaug/imgaug.py:184: DeprecationWarning: Function `Scale()` is deprecated. Use `Resize` instead. Resize has the exactly same interface as Scale.\n",
      "  warn_deprecated(msg, stacklevel=3)\n",
      "/home/s1041549/anaconda3/envs/dlsystem/lib/python3.7/site-packages/imgaug/imgaug.py:184: DeprecationWarning: Function `Scale()` is deprecated. Use `Resize` instead. Resize has the exactly same interface as Scale.\n",
      "  warn_deprecated(msg, stacklevel=3)\n"
     ]
    },
    {
     "name": "stdout",
     "output_type": "stream",
     "text": [
      "[59,   200] train_loss: 0.179\n",
      "[59,   200] validation_loss: 1.397\n",
      "59 epoch, training accuracy: 0.9362\n",
      "59 epoch, validation accuracy: 0.6913\n",
      "-----------------------------------------\n"
     ]
    },
    {
     "name": "stderr",
     "output_type": "stream",
     "text": [
      "/home/s1041549/anaconda3/envs/dlsystem/lib/python3.7/site-packages/imgaug/imgaug.py:184: DeprecationWarning: Function `Scale()` is deprecated. Use `Resize` instead. Resize has the exactly same interface as Scale.\n",
      "  warn_deprecated(msg, stacklevel=3)\n",
      "/home/s1041549/anaconda3/envs/dlsystem/lib/python3.7/site-packages/imgaug/imgaug.py:184: DeprecationWarning: Function `Scale()` is deprecated. Use `Resize` instead. Resize has the exactly same interface as Scale.\n",
      "  warn_deprecated(msg, stacklevel=3)\n",
      "/home/s1041549/anaconda3/envs/dlsystem/lib/python3.7/site-packages/imgaug/imgaug.py:184: DeprecationWarning: Function `Scale()` is deprecated. Use `Resize` instead. Resize has the exactly same interface as Scale.\n",
      "  warn_deprecated(msg, stacklevel=3)\n",
      "/home/s1041549/anaconda3/envs/dlsystem/lib/python3.7/site-packages/imgaug/imgaug.py:184: DeprecationWarning: Function `Scale()` is deprecated. Use `Resize` instead. Resize has the exactly same interface as Scale.\n",
      "  warn_deprecated(msg, stacklevel=3)\n"
     ]
    },
    {
     "name": "stdout",
     "output_type": "stream",
     "text": [
      "[60,   200] train_loss: 0.181\n",
      "[60,   200] validation_loss: 1.365\n",
      "60 epoch, training accuracy: 0.9385\n",
      "60 epoch, validation accuracy: 0.6913\n",
      "-----------------------------------------\n"
     ]
    },
    {
     "name": "stderr",
     "output_type": "stream",
     "text": [
      "/home/s1041549/anaconda3/envs/dlsystem/lib/python3.7/site-packages/imgaug/imgaug.py:184: DeprecationWarning: Function `Scale()` is deprecated. Use `Resize` instead. Resize has the exactly same interface as Scale.\n",
      "  warn_deprecated(msg, stacklevel=3)\n",
      "/home/s1041549/anaconda3/envs/dlsystem/lib/python3.7/site-packages/imgaug/imgaug.py:184: DeprecationWarning: Function `Scale()` is deprecated. Use `Resize` instead. Resize has the exactly same interface as Scale.\n",
      "  warn_deprecated(msg, stacklevel=3)\n",
      "/home/s1041549/anaconda3/envs/dlsystem/lib/python3.7/site-packages/imgaug/imgaug.py:184: DeprecationWarning: Function `Scale()` is deprecated. Use `Resize` instead. Resize has the exactly same interface as Scale.\n",
      "  warn_deprecated(msg, stacklevel=3)\n",
      "/home/s1041549/anaconda3/envs/dlsystem/lib/python3.7/site-packages/imgaug/imgaug.py:184: DeprecationWarning: Function `Scale()` is deprecated. Use `Resize` instead. Resize has the exactly same interface as Scale.\n",
      "  warn_deprecated(msg, stacklevel=3)\n"
     ]
    },
    {
     "name": "stdout",
     "output_type": "stream",
     "text": [
      "[61,   200] train_loss: 0.178\n",
      "[61,   200] validation_loss: 1.288\n",
      "61 epoch, training accuracy: 0.9401\n",
      "61 epoch, validation accuracy: 0.7111\n",
      "-----------------------------------------\n"
     ]
    },
    {
     "name": "stderr",
     "output_type": "stream",
     "text": [
      "/home/s1041549/anaconda3/envs/dlsystem/lib/python3.7/site-packages/imgaug/imgaug.py:184: DeprecationWarning: Function `Scale()` is deprecated. Use `Resize` instead. Resize has the exactly same interface as Scale.\n",
      "  warn_deprecated(msg, stacklevel=3)\n",
      "/home/s1041549/anaconda3/envs/dlsystem/lib/python3.7/site-packages/imgaug/imgaug.py:184: DeprecationWarning: Function `Scale()` is deprecated. Use `Resize` instead. Resize has the exactly same interface as Scale.\n",
      "  warn_deprecated(msg, stacklevel=3)\n",
      "/home/s1041549/anaconda3/envs/dlsystem/lib/python3.7/site-packages/imgaug/imgaug.py:184: DeprecationWarning: Function `Scale()` is deprecated. Use `Resize` instead. Resize has the exactly same interface as Scale.\n",
      "  warn_deprecated(msg, stacklevel=3)\n",
      "/home/s1041549/anaconda3/envs/dlsystem/lib/python3.7/site-packages/imgaug/imgaug.py:184: DeprecationWarning: Function `Scale()` is deprecated. Use `Resize` instead. Resize has the exactly same interface as Scale.\n",
      "  warn_deprecated(msg, stacklevel=3)\n"
     ]
    },
    {
     "name": "stdout",
     "output_type": "stream",
     "text": [
      "[62,   200] train_loss: 0.164\n",
      "[62,   200] validation_loss: 1.353\n",
      "62 epoch, training accuracy: 0.9444\n",
      "62 epoch, validation accuracy: 0.6936\n",
      "-----------------------------------------\n"
     ]
    },
    {
     "name": "stderr",
     "output_type": "stream",
     "text": [
      "/home/s1041549/anaconda3/envs/dlsystem/lib/python3.7/site-packages/imgaug/imgaug.py:184: DeprecationWarning: Function `Scale()` is deprecated. Use `Resize` instead. Resize has the exactly same interface as Scale.\n",
      "  warn_deprecated(msg, stacklevel=3)\n",
      "/home/s1041549/anaconda3/envs/dlsystem/lib/python3.7/site-packages/imgaug/imgaug.py:184: DeprecationWarning: Function `Scale()` is deprecated. Use `Resize` instead. Resize has the exactly same interface as Scale.\n",
      "  warn_deprecated(msg, stacklevel=3)\n",
      "/home/s1041549/anaconda3/envs/dlsystem/lib/python3.7/site-packages/imgaug/imgaug.py:184: DeprecationWarning: Function `Scale()` is deprecated. Use `Resize` instead. Resize has the exactly same interface as Scale.\n",
      "  warn_deprecated(msg, stacklevel=3)\n",
      "/home/s1041549/anaconda3/envs/dlsystem/lib/python3.7/site-packages/imgaug/imgaug.py:184: DeprecationWarning: Function `Scale()` is deprecated. Use `Resize` instead. Resize has the exactly same interface as Scale.\n",
      "  warn_deprecated(msg, stacklevel=3)\n"
     ]
    },
    {
     "name": "stdout",
     "output_type": "stream",
     "text": [
      "[63,   200] train_loss: 0.167\n",
      "[63,   200] validation_loss: 1.312\n",
      "63 epoch, training accuracy: 0.9416\n",
      "63 epoch, validation accuracy: 0.6971\n",
      "-----------------------------------------\n"
     ]
    },
    {
     "name": "stderr",
     "output_type": "stream",
     "text": [
      "/home/s1041549/anaconda3/envs/dlsystem/lib/python3.7/site-packages/imgaug/imgaug.py:184: DeprecationWarning: Function `Scale()` is deprecated. Use `Resize` instead. Resize has the exactly same interface as Scale.\n",
      "  warn_deprecated(msg, stacklevel=3)\n",
      "/home/s1041549/anaconda3/envs/dlsystem/lib/python3.7/site-packages/imgaug/imgaug.py:184: DeprecationWarning: Function `Scale()` is deprecated. Use `Resize` instead. Resize has the exactly same interface as Scale.\n",
      "  warn_deprecated(msg, stacklevel=3)\n",
      "/home/s1041549/anaconda3/envs/dlsystem/lib/python3.7/site-packages/imgaug/imgaug.py:184: DeprecationWarning: Function `Scale()` is deprecated. Use `Resize` instead. Resize has the exactly same interface as Scale.\n",
      "  warn_deprecated(msg, stacklevel=3)\n",
      "/home/s1041549/anaconda3/envs/dlsystem/lib/python3.7/site-packages/imgaug/imgaug.py:184: DeprecationWarning: Function `Scale()` is deprecated. Use `Resize` instead. Resize has the exactly same interface as Scale.\n",
      "  warn_deprecated(msg, stacklevel=3)\n"
     ]
    },
    {
     "name": "stdout",
     "output_type": "stream",
     "text": [
      "[64,   200] train_loss: 0.165\n",
      "[64,   200] validation_loss: 1.317\n",
      "64 epoch, training accuracy: 0.9469\n",
      "64 epoch, validation accuracy: 0.7009\n",
      "-----------------------------------------\n"
     ]
    },
    {
     "name": "stderr",
     "output_type": "stream",
     "text": [
      "/home/s1041549/anaconda3/envs/dlsystem/lib/python3.7/site-packages/imgaug/imgaug.py:184: DeprecationWarning: Function `Scale()` is deprecated. Use `Resize` instead. Resize has the exactly same interface as Scale.\n",
      "  warn_deprecated(msg, stacklevel=3)\n",
      "/home/s1041549/anaconda3/envs/dlsystem/lib/python3.7/site-packages/imgaug/imgaug.py:184: DeprecationWarning: Function `Scale()` is deprecated. Use `Resize` instead. Resize has the exactly same interface as Scale.\n",
      "  warn_deprecated(msg, stacklevel=3)\n",
      "/home/s1041549/anaconda3/envs/dlsystem/lib/python3.7/site-packages/imgaug/imgaug.py:184: DeprecationWarning: Function `Scale()` is deprecated. Use `Resize` instead. Resize has the exactly same interface as Scale.\n",
      "  warn_deprecated(msg, stacklevel=3)\n",
      "/home/s1041549/anaconda3/envs/dlsystem/lib/python3.7/site-packages/imgaug/imgaug.py:184: DeprecationWarning: Function `Scale()` is deprecated. Use `Resize` instead. Resize has the exactly same interface as Scale.\n",
      "  warn_deprecated(msg, stacklevel=3)\n"
     ]
    },
    {
     "name": "stdout",
     "output_type": "stream",
     "text": [
      "[65,   200] train_loss: 0.162\n",
      "[65,   200] validation_loss: 1.320\n",
      "65 epoch, training accuracy: 0.9468\n",
      "65 epoch, validation accuracy: 0.7000\n",
      "-----------------------------------------\n"
     ]
    },
    {
     "name": "stderr",
     "output_type": "stream",
     "text": [
      "/home/s1041549/anaconda3/envs/dlsystem/lib/python3.7/site-packages/imgaug/imgaug.py:184: DeprecationWarning: Function `Scale()` is deprecated. Use `Resize` instead. Resize has the exactly same interface as Scale.\n",
      "  warn_deprecated(msg, stacklevel=3)\n",
      "/home/s1041549/anaconda3/envs/dlsystem/lib/python3.7/site-packages/imgaug/imgaug.py:184: DeprecationWarning: Function `Scale()` is deprecated. Use `Resize` instead. Resize has the exactly same interface as Scale.\n",
      "  warn_deprecated(msg, stacklevel=3)\n",
      "/home/s1041549/anaconda3/envs/dlsystem/lib/python3.7/site-packages/imgaug/imgaug.py:184: DeprecationWarning: Function `Scale()` is deprecated. Use `Resize` instead. Resize has the exactly same interface as Scale.\n",
      "  warn_deprecated(msg, stacklevel=3)\n",
      "/home/s1041549/anaconda3/envs/dlsystem/lib/python3.7/site-packages/imgaug/imgaug.py:184: DeprecationWarning: Function `Scale()` is deprecated. Use `Resize` instead. Resize has the exactly same interface as Scale.\n",
      "  warn_deprecated(msg, stacklevel=3)\n"
     ]
    },
    {
     "name": "stdout",
     "output_type": "stream",
     "text": [
      "[66,   200] train_loss: 0.169\n",
      "[66,   200] validation_loss: 1.392\n",
      "66 epoch, training accuracy: 0.9423\n",
      "66 epoch, validation accuracy: 0.6883\n",
      "-----------------------------------------\n"
     ]
    },
    {
     "name": "stderr",
     "output_type": "stream",
     "text": [
      "/home/s1041549/anaconda3/envs/dlsystem/lib/python3.7/site-packages/imgaug/imgaug.py:184: DeprecationWarning: Function `Scale()` is deprecated. Use `Resize` instead. Resize has the exactly same interface as Scale.\n",
      "  warn_deprecated(msg, stacklevel=3)\n",
      "/home/s1041549/anaconda3/envs/dlsystem/lib/python3.7/site-packages/imgaug/imgaug.py:184: DeprecationWarning: Function `Scale()` is deprecated. Use `Resize` instead. Resize has the exactly same interface as Scale.\n",
      "  warn_deprecated(msg, stacklevel=3)\n",
      "/home/s1041549/anaconda3/envs/dlsystem/lib/python3.7/site-packages/imgaug/imgaug.py:184: DeprecationWarning: Function `Scale()` is deprecated. Use `Resize` instead. Resize has the exactly same interface as Scale.\n",
      "  warn_deprecated(msg, stacklevel=3)\n",
      "/home/s1041549/anaconda3/envs/dlsystem/lib/python3.7/site-packages/imgaug/imgaug.py:184: DeprecationWarning: Function `Scale()` is deprecated. Use `Resize` instead. Resize has the exactly same interface as Scale.\n",
      "  warn_deprecated(msg, stacklevel=3)\n"
     ]
    },
    {
     "name": "stdout",
     "output_type": "stream",
     "text": [
      "[67,   200] train_loss: 0.153\n",
      "[67,   200] validation_loss: 1.383\n",
      "67 epoch, training accuracy: 0.9506\n",
      "67 epoch, validation accuracy: 0.6878\n",
      "-----------------------------------------\n"
     ]
    },
    {
     "name": "stderr",
     "output_type": "stream",
     "text": [
      "/home/s1041549/anaconda3/envs/dlsystem/lib/python3.7/site-packages/imgaug/imgaug.py:184: DeprecationWarning: Function `Scale()` is deprecated. Use `Resize` instead. Resize has the exactly same interface as Scale.\n",
      "  warn_deprecated(msg, stacklevel=3)\n",
      "/home/s1041549/anaconda3/envs/dlsystem/lib/python3.7/site-packages/imgaug/imgaug.py:184: DeprecationWarning: Function `Scale()` is deprecated. Use `Resize` instead. Resize has the exactly same interface as Scale.\n",
      "  warn_deprecated(msg, stacklevel=3)\n",
      "/home/s1041549/anaconda3/envs/dlsystem/lib/python3.7/site-packages/imgaug/imgaug.py:184: DeprecationWarning: Function `Scale()` is deprecated. Use `Resize` instead. Resize has the exactly same interface as Scale.\n",
      "  warn_deprecated(msg, stacklevel=3)\n",
      "/home/s1041549/anaconda3/envs/dlsystem/lib/python3.7/site-packages/imgaug/imgaug.py:184: DeprecationWarning: Function `Scale()` is deprecated. Use `Resize` instead. Resize has the exactly same interface as Scale.\n",
      "  warn_deprecated(msg, stacklevel=3)\n"
     ]
    },
    {
     "name": "stdout",
     "output_type": "stream",
     "text": [
      "[68,   200] train_loss: 0.154\n",
      "[68,   200] validation_loss: 1.296\n",
      "68 epoch, training accuracy: 0.9524\n",
      "68 epoch, validation accuracy: 0.7120\n",
      "-----------------------------------------\n"
     ]
    },
    {
     "name": "stderr",
     "output_type": "stream",
     "text": [
      "/home/s1041549/anaconda3/envs/dlsystem/lib/python3.7/site-packages/imgaug/imgaug.py:184: DeprecationWarning: Function `Scale()` is deprecated. Use `Resize` instead. Resize has the exactly same interface as Scale.\n",
      "  warn_deprecated(msg, stacklevel=3)\n",
      "/home/s1041549/anaconda3/envs/dlsystem/lib/python3.7/site-packages/imgaug/imgaug.py:184: DeprecationWarning: Function `Scale()` is deprecated. Use `Resize` instead. Resize has the exactly same interface as Scale.\n",
      "  warn_deprecated(msg, stacklevel=3)\n",
      "/home/s1041549/anaconda3/envs/dlsystem/lib/python3.7/site-packages/imgaug/imgaug.py:184: DeprecationWarning: Function `Scale()` is deprecated. Use `Resize` instead. Resize has the exactly same interface as Scale.\n",
      "  warn_deprecated(msg, stacklevel=3)\n",
      "/home/s1041549/anaconda3/envs/dlsystem/lib/python3.7/site-packages/imgaug/imgaug.py:184: DeprecationWarning: Function `Scale()` is deprecated. Use `Resize` instead. Resize has the exactly same interface as Scale.\n",
      "  warn_deprecated(msg, stacklevel=3)\n"
     ]
    },
    {
     "name": "stdout",
     "output_type": "stream",
     "text": [
      "[69,   200] train_loss: 0.149\n",
      "[69,   200] validation_loss: 1.491\n",
      "69 epoch, training accuracy: 0.9493\n",
      "69 epoch, validation accuracy: 0.6892\n",
      "-----------------------------------------\n"
     ]
    },
    {
     "name": "stderr",
     "output_type": "stream",
     "text": [
      "/home/s1041549/anaconda3/envs/dlsystem/lib/python3.7/site-packages/imgaug/imgaug.py:184: DeprecationWarning: Function `Scale()` is deprecated. Use `Resize` instead. Resize has the exactly same interface as Scale.\n",
      "  warn_deprecated(msg, stacklevel=3)\n",
      "/home/s1041549/anaconda3/envs/dlsystem/lib/python3.7/site-packages/imgaug/imgaug.py:184: DeprecationWarning: Function `Scale()` is deprecated. Use `Resize` instead. Resize has the exactly same interface as Scale.\n",
      "  warn_deprecated(msg, stacklevel=3)\n",
      "/home/s1041549/anaconda3/envs/dlsystem/lib/python3.7/site-packages/imgaug/imgaug.py:184: DeprecationWarning: Function `Scale()` is deprecated. Use `Resize` instead. Resize has the exactly same interface as Scale.\n",
      "  warn_deprecated(msg, stacklevel=3)\n",
      "/home/s1041549/anaconda3/envs/dlsystem/lib/python3.7/site-packages/imgaug/imgaug.py:184: DeprecationWarning: Function `Scale()` is deprecated. Use `Resize` instead. Resize has the exactly same interface as Scale.\n",
      "  warn_deprecated(msg, stacklevel=3)\n"
     ]
    },
    {
     "name": "stdout",
     "output_type": "stream",
     "text": [
      "[70,   200] train_loss: 0.157\n",
      "[70,   200] validation_loss: 1.349\n",
      "70 epoch, training accuracy: 0.9463\n",
      "70 epoch, validation accuracy: 0.6918\n",
      "-----------------------------------------\n"
     ]
    },
    {
     "name": "stderr",
     "output_type": "stream",
     "text": [
      "/home/s1041549/anaconda3/envs/dlsystem/lib/python3.7/site-packages/imgaug/imgaug.py:184: DeprecationWarning: Function `Scale()` is deprecated. Use `Resize` instead. Resize has the exactly same interface as Scale.\n",
      "  warn_deprecated(msg, stacklevel=3)\n",
      "/home/s1041549/anaconda3/envs/dlsystem/lib/python3.7/site-packages/imgaug/imgaug.py:184: DeprecationWarning: Function `Scale()` is deprecated. Use `Resize` instead. Resize has the exactly same interface as Scale.\n",
      "  warn_deprecated(msg, stacklevel=3)\n",
      "/home/s1041549/anaconda3/envs/dlsystem/lib/python3.7/site-packages/imgaug/imgaug.py:184: DeprecationWarning: Function `Scale()` is deprecated. Use `Resize` instead. Resize has the exactly same interface as Scale.\n",
      "  warn_deprecated(msg, stacklevel=3)\n",
      "/home/s1041549/anaconda3/envs/dlsystem/lib/python3.7/site-packages/imgaug/imgaug.py:184: DeprecationWarning: Function `Scale()` is deprecated. Use `Resize` instead. Resize has the exactly same interface as Scale.\n",
      "  warn_deprecated(msg, stacklevel=3)\n"
     ]
    },
    {
     "name": "stdout",
     "output_type": "stream",
     "text": [
      "[71,   200] train_loss: 0.133\n",
      "[71,   200] validation_loss: 1.441\n",
      "71 epoch, training accuracy: 0.9555\n",
      "71 epoch, validation accuracy: 0.6866\n",
      "-----------------------------------------\n"
     ]
    },
    {
     "name": "stderr",
     "output_type": "stream",
     "text": [
      "/home/s1041549/anaconda3/envs/dlsystem/lib/python3.7/site-packages/imgaug/imgaug.py:184: DeprecationWarning: Function `Scale()` is deprecated. Use `Resize` instead. Resize has the exactly same interface as Scale.\n",
      "  warn_deprecated(msg, stacklevel=3)\n",
      "/home/s1041549/anaconda3/envs/dlsystem/lib/python3.7/site-packages/imgaug/imgaug.py:184: DeprecationWarning: Function `Scale()` is deprecated. Use `Resize` instead. Resize has the exactly same interface as Scale.\n",
      "  warn_deprecated(msg, stacklevel=3)\n",
      "/home/s1041549/anaconda3/envs/dlsystem/lib/python3.7/site-packages/imgaug/imgaug.py:184: DeprecationWarning: Function `Scale()` is deprecated. Use `Resize` instead. Resize has the exactly same interface as Scale.\n",
      "  warn_deprecated(msg, stacklevel=3)\n",
      "/home/s1041549/anaconda3/envs/dlsystem/lib/python3.7/site-packages/imgaug/imgaug.py:184: DeprecationWarning: Function `Scale()` is deprecated. Use `Resize` instead. Resize has the exactly same interface as Scale.\n",
      "  warn_deprecated(msg, stacklevel=3)\n"
     ]
    },
    {
     "name": "stdout",
     "output_type": "stream",
     "text": [
      "[72,   200] train_loss: 0.145\n",
      "[72,   200] validation_loss: 1.900\n",
      "72 epoch, training accuracy: 0.9499\n",
      "72 epoch, validation accuracy: 0.6385\n",
      "-----------------------------------------\n"
     ]
    },
    {
     "name": "stderr",
     "output_type": "stream",
     "text": [
      "/home/s1041549/anaconda3/envs/dlsystem/lib/python3.7/site-packages/imgaug/imgaug.py:184: DeprecationWarning: Function `Scale()` is deprecated. Use `Resize` instead. Resize has the exactly same interface as Scale.\n",
      "  warn_deprecated(msg, stacklevel=3)\n",
      "/home/s1041549/anaconda3/envs/dlsystem/lib/python3.7/site-packages/imgaug/imgaug.py:184: DeprecationWarning: Function `Scale()` is deprecated. Use `Resize` instead. Resize has the exactly same interface as Scale.\n",
      "  warn_deprecated(msg, stacklevel=3)\n",
      "/home/s1041549/anaconda3/envs/dlsystem/lib/python3.7/site-packages/imgaug/imgaug.py:184: DeprecationWarning: Function `Scale()` is deprecated. Use `Resize` instead. Resize has the exactly same interface as Scale.\n",
      "  warn_deprecated(msg, stacklevel=3)\n",
      "/home/s1041549/anaconda3/envs/dlsystem/lib/python3.7/site-packages/imgaug/imgaug.py:184: DeprecationWarning: Function `Scale()` is deprecated. Use `Resize` instead. Resize has the exactly same interface as Scale.\n",
      "  warn_deprecated(msg, stacklevel=3)\n"
     ]
    },
    {
     "name": "stdout",
     "output_type": "stream",
     "text": [
      "[73,   200] train_loss: 0.146\n",
      "[73,   200] validation_loss: 1.345\n",
      "73 epoch, training accuracy: 0.9493\n",
      "73 epoch, validation accuracy: 0.7082\n",
      "-----------------------------------------\n"
     ]
    },
    {
     "name": "stderr",
     "output_type": "stream",
     "text": [
      "/home/s1041549/anaconda3/envs/dlsystem/lib/python3.7/site-packages/imgaug/imgaug.py:184: DeprecationWarning: Function `Scale()` is deprecated. Use `Resize` instead. Resize has the exactly same interface as Scale.\n",
      "  warn_deprecated(msg, stacklevel=3)\n",
      "/home/s1041549/anaconda3/envs/dlsystem/lib/python3.7/site-packages/imgaug/imgaug.py:184: DeprecationWarning: Function `Scale()` is deprecated. Use `Resize` instead. Resize has the exactly same interface as Scale.\n",
      "  warn_deprecated(msg, stacklevel=3)\n",
      "/home/s1041549/anaconda3/envs/dlsystem/lib/python3.7/site-packages/imgaug/imgaug.py:184: DeprecationWarning: Function `Scale()` is deprecated. Use `Resize` instead. Resize has the exactly same interface as Scale.\n",
      "  warn_deprecated(msg, stacklevel=3)\n",
      "/home/s1041549/anaconda3/envs/dlsystem/lib/python3.7/site-packages/imgaug/imgaug.py:184: DeprecationWarning: Function `Scale()` is deprecated. Use `Resize` instead. Resize has the exactly same interface as Scale.\n",
      "  warn_deprecated(msg, stacklevel=3)\n"
     ]
    },
    {
     "name": "stdout",
     "output_type": "stream",
     "text": [
      "[74,   200] train_loss: 0.140\n",
      "[74,   200] validation_loss: 1.376\n",
      "74 epoch, training accuracy: 0.9528\n",
      "74 epoch, validation accuracy: 0.7017\n",
      "-----------------------------------------\n"
     ]
    },
    {
     "name": "stderr",
     "output_type": "stream",
     "text": [
      "/home/s1041549/anaconda3/envs/dlsystem/lib/python3.7/site-packages/imgaug/imgaug.py:184: DeprecationWarning: Function `Scale()` is deprecated. Use `Resize` instead. Resize has the exactly same interface as Scale.\n",
      "  warn_deprecated(msg, stacklevel=3)\n",
      "/home/s1041549/anaconda3/envs/dlsystem/lib/python3.7/site-packages/imgaug/imgaug.py:184: DeprecationWarning: Function `Scale()` is deprecated. Use `Resize` instead. Resize has the exactly same interface as Scale.\n",
      "  warn_deprecated(msg, stacklevel=3)\n",
      "/home/s1041549/anaconda3/envs/dlsystem/lib/python3.7/site-packages/imgaug/imgaug.py:184: DeprecationWarning: Function `Scale()` is deprecated. Use `Resize` instead. Resize has the exactly same interface as Scale.\n",
      "  warn_deprecated(msg, stacklevel=3)\n",
      "/home/s1041549/anaconda3/envs/dlsystem/lib/python3.7/site-packages/imgaug/imgaug.py:184: DeprecationWarning: Function `Scale()` is deprecated. Use `Resize` instead. Resize has the exactly same interface as Scale.\n",
      "  warn_deprecated(msg, stacklevel=3)\n"
     ]
    },
    {
     "name": "stdout",
     "output_type": "stream",
     "text": [
      "[75,   200] train_loss: 0.126\n",
      "[75,   200] validation_loss: 1.456\n",
      "75 epoch, training accuracy: 0.9558\n",
      "75 epoch, validation accuracy: 0.6988\n",
      "-----------------------------------------\n"
     ]
    },
    {
     "name": "stderr",
     "output_type": "stream",
     "text": [
      "/home/s1041549/anaconda3/envs/dlsystem/lib/python3.7/site-packages/imgaug/imgaug.py:184: DeprecationWarning: Function `Scale()` is deprecated. Use `Resize` instead. Resize has the exactly same interface as Scale.\n",
      "  warn_deprecated(msg, stacklevel=3)\n",
      "/home/s1041549/anaconda3/envs/dlsystem/lib/python3.7/site-packages/imgaug/imgaug.py:184: DeprecationWarning: Function `Scale()` is deprecated. Use `Resize` instead. Resize has the exactly same interface as Scale.\n",
      "  warn_deprecated(msg, stacklevel=3)\n",
      "/home/s1041549/anaconda3/envs/dlsystem/lib/python3.7/site-packages/imgaug/imgaug.py:184: DeprecationWarning: Function `Scale()` is deprecated. Use `Resize` instead. Resize has the exactly same interface as Scale.\n",
      "  warn_deprecated(msg, stacklevel=3)\n",
      "/home/s1041549/anaconda3/envs/dlsystem/lib/python3.7/site-packages/imgaug/imgaug.py:184: DeprecationWarning: Function `Scale()` is deprecated. Use `Resize` instead. Resize has the exactly same interface as Scale.\n",
      "  warn_deprecated(msg, stacklevel=3)\n"
     ]
    },
    {
     "name": "stdout",
     "output_type": "stream",
     "text": [
      "[76,   200] train_loss: 0.129\n",
      "[76,   200] validation_loss: 1.446\n",
      "76 epoch, training accuracy: 0.9563\n",
      "76 epoch, validation accuracy: 0.6939\n",
      "-----------------------------------------\n"
     ]
    },
    {
     "name": "stderr",
     "output_type": "stream",
     "text": [
      "/home/s1041549/anaconda3/envs/dlsystem/lib/python3.7/site-packages/imgaug/imgaug.py:184: DeprecationWarning: Function `Scale()` is deprecated. Use `Resize` instead. Resize has the exactly same interface as Scale.\n",
      "  warn_deprecated(msg, stacklevel=3)\n",
      "/home/s1041549/anaconda3/envs/dlsystem/lib/python3.7/site-packages/imgaug/imgaug.py:184: DeprecationWarning: Function `Scale()` is deprecated. Use `Resize` instead. Resize has the exactly same interface as Scale.\n",
      "  warn_deprecated(msg, stacklevel=3)\n",
      "/home/s1041549/anaconda3/envs/dlsystem/lib/python3.7/site-packages/imgaug/imgaug.py:184: DeprecationWarning: Function `Scale()` is deprecated. Use `Resize` instead. Resize has the exactly same interface as Scale.\n",
      "  warn_deprecated(msg, stacklevel=3)\n",
      "/home/s1041549/anaconda3/envs/dlsystem/lib/python3.7/site-packages/imgaug/imgaug.py:184: DeprecationWarning: Function `Scale()` is deprecated. Use `Resize` instead. Resize has the exactly same interface as Scale.\n",
      "  warn_deprecated(msg, stacklevel=3)\n"
     ]
    },
    {
     "name": "stdout",
     "output_type": "stream",
     "text": [
      "[77,   200] train_loss: 0.131\n",
      "[77,   200] validation_loss: 1.388\n",
      "77 epoch, training accuracy: 0.9560\n",
      "77 epoch, validation accuracy: 0.7038\n",
      "-----------------------------------------\n"
     ]
    },
    {
     "name": "stderr",
     "output_type": "stream",
     "text": [
      "/home/s1041549/anaconda3/envs/dlsystem/lib/python3.7/site-packages/imgaug/imgaug.py:184: DeprecationWarning: Function `Scale()` is deprecated. Use `Resize` instead. Resize has the exactly same interface as Scale.\n",
      "  warn_deprecated(msg, stacklevel=3)\n",
      "/home/s1041549/anaconda3/envs/dlsystem/lib/python3.7/site-packages/imgaug/imgaug.py:184: DeprecationWarning: Function `Scale()` is deprecated. Use `Resize` instead. Resize has the exactly same interface as Scale.\n",
      "  warn_deprecated(msg, stacklevel=3)\n",
      "/home/s1041549/anaconda3/envs/dlsystem/lib/python3.7/site-packages/imgaug/imgaug.py:184: DeprecationWarning: Function `Scale()` is deprecated. Use `Resize` instead. Resize has the exactly same interface as Scale.\n",
      "  warn_deprecated(msg, stacklevel=3)\n",
      "/home/s1041549/anaconda3/envs/dlsystem/lib/python3.7/site-packages/imgaug/imgaug.py:184: DeprecationWarning: Function `Scale()` is deprecated. Use `Resize` instead. Resize has the exactly same interface as Scale.\n",
      "  warn_deprecated(msg, stacklevel=3)\n"
     ]
    },
    {
     "name": "stdout",
     "output_type": "stream",
     "text": [
      "[78,   200] train_loss: 0.127\n",
      "[78,   200] validation_loss: 1.365\n",
      "78 epoch, training accuracy: 0.9572\n",
      "78 epoch, validation accuracy: 0.7140\n",
      "-----------------------------------------\n"
     ]
    },
    {
     "name": "stderr",
     "output_type": "stream",
     "text": [
      "/home/s1041549/anaconda3/envs/dlsystem/lib/python3.7/site-packages/imgaug/imgaug.py:184: DeprecationWarning: Function `Scale()` is deprecated. Use `Resize` instead. Resize has the exactly same interface as Scale.\n",
      "  warn_deprecated(msg, stacklevel=3)\n",
      "/home/s1041549/anaconda3/envs/dlsystem/lib/python3.7/site-packages/imgaug/imgaug.py:184: DeprecationWarning: Function `Scale()` is deprecated. Use `Resize` instead. Resize has the exactly same interface as Scale.\n",
      "  warn_deprecated(msg, stacklevel=3)\n",
      "/home/s1041549/anaconda3/envs/dlsystem/lib/python3.7/site-packages/imgaug/imgaug.py:184: DeprecationWarning: Function `Scale()` is deprecated. Use `Resize` instead. Resize has the exactly same interface as Scale.\n",
      "  warn_deprecated(msg, stacklevel=3)\n",
      "/home/s1041549/anaconda3/envs/dlsystem/lib/python3.7/site-packages/imgaug/imgaug.py:184: DeprecationWarning: Function `Scale()` is deprecated. Use `Resize` instead. Resize has the exactly same interface as Scale.\n",
      "  warn_deprecated(msg, stacklevel=3)\n"
     ]
    },
    {
     "name": "stdout",
     "output_type": "stream",
     "text": [
      "[79,   200] train_loss: 0.122\n",
      "[79,   200] validation_loss: 1.337\n",
      "79 epoch, training accuracy: 0.9568\n",
      "79 epoch, validation accuracy: 0.7120\n",
      "-----------------------------------------\n"
     ]
    },
    {
     "name": "stderr",
     "output_type": "stream",
     "text": [
      "/home/s1041549/anaconda3/envs/dlsystem/lib/python3.7/site-packages/imgaug/imgaug.py:184: DeprecationWarning: Function `Scale()` is deprecated. Use `Resize` instead. Resize has the exactly same interface as Scale.\n",
      "  warn_deprecated(msg, stacklevel=3)\n",
      "/home/s1041549/anaconda3/envs/dlsystem/lib/python3.7/site-packages/imgaug/imgaug.py:184: DeprecationWarning: Function `Scale()` is deprecated. Use `Resize` instead. Resize has the exactly same interface as Scale.\n",
      "  warn_deprecated(msg, stacklevel=3)\n",
      "/home/s1041549/anaconda3/envs/dlsystem/lib/python3.7/site-packages/imgaug/imgaug.py:184: DeprecationWarning: Function `Scale()` is deprecated. Use `Resize` instead. Resize has the exactly same interface as Scale.\n",
      "  warn_deprecated(msg, stacklevel=3)\n",
      "/home/s1041549/anaconda3/envs/dlsystem/lib/python3.7/site-packages/imgaug/imgaug.py:184: DeprecationWarning: Function `Scale()` is deprecated. Use `Resize` instead. Resize has the exactly same interface as Scale.\n",
      "  warn_deprecated(msg, stacklevel=3)\n"
     ]
    },
    {
     "name": "stdout",
     "output_type": "stream",
     "text": [
      "[80,   200] train_loss: 0.115\n",
      "[80,   200] validation_loss: 1.331\n",
      "80 epoch, training accuracy: 0.9623\n",
      "80 epoch, validation accuracy: 0.7155\n",
      "-----------------------------------------\n"
     ]
    },
    {
     "name": "stderr",
     "output_type": "stream",
     "text": [
      "/home/s1041549/anaconda3/envs/dlsystem/lib/python3.7/site-packages/imgaug/imgaug.py:184: DeprecationWarning: Function `Scale()` is deprecated. Use `Resize` instead. Resize has the exactly same interface as Scale.\n",
      "  warn_deprecated(msg, stacklevel=3)\n",
      "/home/s1041549/anaconda3/envs/dlsystem/lib/python3.7/site-packages/imgaug/imgaug.py:184: DeprecationWarning: Function `Scale()` is deprecated. Use `Resize` instead. Resize has the exactly same interface as Scale.\n",
      "  warn_deprecated(msg, stacklevel=3)\n",
      "/home/s1041549/anaconda3/envs/dlsystem/lib/python3.7/site-packages/imgaug/imgaug.py:184: DeprecationWarning: Function `Scale()` is deprecated. Use `Resize` instead. Resize has the exactly same interface as Scale.\n",
      "  warn_deprecated(msg, stacklevel=3)\n",
      "/home/s1041549/anaconda3/envs/dlsystem/lib/python3.7/site-packages/imgaug/imgaug.py:184: DeprecationWarning: Function `Scale()` is deprecated. Use `Resize` instead. Resize has the exactly same interface as Scale.\n",
      "  warn_deprecated(msg, stacklevel=3)\n"
     ]
    },
    {
     "name": "stdout",
     "output_type": "stream",
     "text": [
      "[81,   200] train_loss: 0.111\n",
      "[81,   200] validation_loss: 1.370\n",
      "81 epoch, training accuracy: 0.9612\n",
      "81 epoch, validation accuracy: 0.7169\n",
      "-----------------------------------------\n"
     ]
    },
    {
     "name": "stderr",
     "output_type": "stream",
     "text": [
      "/home/s1041549/anaconda3/envs/dlsystem/lib/python3.7/site-packages/imgaug/imgaug.py:184: DeprecationWarning: Function `Scale()` is deprecated. Use `Resize` instead. Resize has the exactly same interface as Scale.\n",
      "  warn_deprecated(msg, stacklevel=3)\n",
      "/home/s1041549/anaconda3/envs/dlsystem/lib/python3.7/site-packages/imgaug/imgaug.py:184: DeprecationWarning: Function `Scale()` is deprecated. Use `Resize` instead. Resize has the exactly same interface as Scale.\n",
      "  warn_deprecated(msg, stacklevel=3)\n",
      "/home/s1041549/anaconda3/envs/dlsystem/lib/python3.7/site-packages/imgaug/imgaug.py:184: DeprecationWarning: Function `Scale()` is deprecated. Use `Resize` instead. Resize has the exactly same interface as Scale.\n",
      "  warn_deprecated(msg, stacklevel=3)\n",
      "/home/s1041549/anaconda3/envs/dlsystem/lib/python3.7/site-packages/imgaug/imgaug.py:184: DeprecationWarning: Function `Scale()` is deprecated. Use `Resize` instead. Resize has the exactly same interface as Scale.\n",
      "  warn_deprecated(msg, stacklevel=3)\n"
     ]
    },
    {
     "name": "stdout",
     "output_type": "stream",
     "text": [
      "[82,   200] train_loss: 0.117\n",
      "[82,   200] validation_loss: 1.409\n",
      "82 epoch, training accuracy: 0.9599\n",
      "82 epoch, validation accuracy: 0.6939\n",
      "-----------------------------------------\n"
     ]
    },
    {
     "name": "stderr",
     "output_type": "stream",
     "text": [
      "/home/s1041549/anaconda3/envs/dlsystem/lib/python3.7/site-packages/imgaug/imgaug.py:184: DeprecationWarning: Function `Scale()` is deprecated. Use `Resize` instead. Resize has the exactly same interface as Scale.\n",
      "  warn_deprecated(msg, stacklevel=3)\n",
      "/home/s1041549/anaconda3/envs/dlsystem/lib/python3.7/site-packages/imgaug/imgaug.py:184: DeprecationWarning: Function `Scale()` is deprecated. Use `Resize` instead. Resize has the exactly same interface as Scale.\n",
      "  warn_deprecated(msg, stacklevel=3)\n",
      "/home/s1041549/anaconda3/envs/dlsystem/lib/python3.7/site-packages/imgaug/imgaug.py:184: DeprecationWarning: Function `Scale()` is deprecated. Use `Resize` instead. Resize has the exactly same interface as Scale.\n",
      "  warn_deprecated(msg, stacklevel=3)\n",
      "/home/s1041549/anaconda3/envs/dlsystem/lib/python3.7/site-packages/imgaug/imgaug.py:184: DeprecationWarning: Function `Scale()` is deprecated. Use `Resize` instead. Resize has the exactly same interface as Scale.\n",
      "  warn_deprecated(msg, stacklevel=3)\n"
     ]
    },
    {
     "name": "stdout",
     "output_type": "stream",
     "text": [
      "[83,   200] train_loss: 0.125\n",
      "[83,   200] validation_loss: 1.404\n",
      "83 epoch, training accuracy: 0.9591\n",
      "83 epoch, validation accuracy: 0.7058\n",
      "-----------------------------------------\n"
     ]
    },
    {
     "name": "stderr",
     "output_type": "stream",
     "text": [
      "/home/s1041549/anaconda3/envs/dlsystem/lib/python3.7/site-packages/imgaug/imgaug.py:184: DeprecationWarning: Function `Scale()` is deprecated. Use `Resize` instead. Resize has the exactly same interface as Scale.\n",
      "  warn_deprecated(msg, stacklevel=3)\n",
      "/home/s1041549/anaconda3/envs/dlsystem/lib/python3.7/site-packages/imgaug/imgaug.py:184: DeprecationWarning: Function `Scale()` is deprecated. Use `Resize` instead. Resize has the exactly same interface as Scale.\n",
      "  warn_deprecated(msg, stacklevel=3)\n",
      "/home/s1041549/anaconda3/envs/dlsystem/lib/python3.7/site-packages/imgaug/imgaug.py:184: DeprecationWarning: Function `Scale()` is deprecated. Use `Resize` instead. Resize has the exactly same interface as Scale.\n",
      "  warn_deprecated(msg, stacklevel=3)\n",
      "/home/s1041549/anaconda3/envs/dlsystem/lib/python3.7/site-packages/imgaug/imgaug.py:184: DeprecationWarning: Function `Scale()` is deprecated. Use `Resize` instead. Resize has the exactly same interface as Scale.\n",
      "  warn_deprecated(msg, stacklevel=3)\n"
     ]
    },
    {
     "name": "stdout",
     "output_type": "stream",
     "text": [
      "[84,   200] train_loss: 0.119\n",
      "[84,   200] validation_loss: 1.622\n",
      "84 epoch, training accuracy: 0.9605\n",
      "84 epoch, validation accuracy: 0.6810\n",
      "-----------------------------------------\n"
     ]
    },
    {
     "name": "stderr",
     "output_type": "stream",
     "text": [
      "/home/s1041549/anaconda3/envs/dlsystem/lib/python3.7/site-packages/imgaug/imgaug.py:184: DeprecationWarning: Function `Scale()` is deprecated. Use `Resize` instead. Resize has the exactly same interface as Scale.\n",
      "  warn_deprecated(msg, stacklevel=3)\n",
      "/home/s1041549/anaconda3/envs/dlsystem/lib/python3.7/site-packages/imgaug/imgaug.py:184: DeprecationWarning: Function `Scale()` is deprecated. Use `Resize` instead. Resize has the exactly same interface as Scale.\n",
      "  warn_deprecated(msg, stacklevel=3)\n",
      "/home/s1041549/anaconda3/envs/dlsystem/lib/python3.7/site-packages/imgaug/imgaug.py:184: DeprecationWarning: Function `Scale()` is deprecated. Use `Resize` instead. Resize has the exactly same interface as Scale.\n",
      "  warn_deprecated(msg, stacklevel=3)\n",
      "/home/s1041549/anaconda3/envs/dlsystem/lib/python3.7/site-packages/imgaug/imgaug.py:184: DeprecationWarning: Function `Scale()` is deprecated. Use `Resize` instead. Resize has the exactly same interface as Scale.\n",
      "  warn_deprecated(msg, stacklevel=3)\n"
     ]
    },
    {
     "name": "stdout",
     "output_type": "stream",
     "text": [
      "[85,   200] train_loss: 0.113\n",
      "[85,   200] validation_loss: 1.367\n",
      "85 epoch, training accuracy: 0.9631\n",
      "85 epoch, validation accuracy: 0.7181\n",
      "-----------------------------------------\n"
     ]
    },
    {
     "name": "stderr",
     "output_type": "stream",
     "text": [
      "/home/s1041549/anaconda3/envs/dlsystem/lib/python3.7/site-packages/imgaug/imgaug.py:184: DeprecationWarning: Function `Scale()` is deprecated. Use `Resize` instead. Resize has the exactly same interface as Scale.\n",
      "  warn_deprecated(msg, stacklevel=3)\n",
      "/home/s1041549/anaconda3/envs/dlsystem/lib/python3.7/site-packages/imgaug/imgaug.py:184: DeprecationWarning: Function `Scale()` is deprecated. Use `Resize` instead. Resize has the exactly same interface as Scale.\n",
      "  warn_deprecated(msg, stacklevel=3)\n",
      "/home/s1041549/anaconda3/envs/dlsystem/lib/python3.7/site-packages/imgaug/imgaug.py:184: DeprecationWarning: Function `Scale()` is deprecated. Use `Resize` instead. Resize has the exactly same interface as Scale.\n",
      "  warn_deprecated(msg, stacklevel=3)\n",
      "/home/s1041549/anaconda3/envs/dlsystem/lib/python3.7/site-packages/imgaug/imgaug.py:184: DeprecationWarning: Function `Scale()` is deprecated. Use `Resize` instead. Resize has the exactly same interface as Scale.\n",
      "  warn_deprecated(msg, stacklevel=3)\n"
     ]
    },
    {
     "name": "stdout",
     "output_type": "stream",
     "text": [
      "[86,   200] train_loss: 0.116\n",
      "[86,   200] validation_loss: 1.452\n",
      "86 epoch, training accuracy: 0.9622\n",
      "86 epoch, validation accuracy: 0.7026\n",
      "-----------------------------------------\n"
     ]
    },
    {
     "name": "stderr",
     "output_type": "stream",
     "text": [
      "/home/s1041549/anaconda3/envs/dlsystem/lib/python3.7/site-packages/imgaug/imgaug.py:184: DeprecationWarning: Function `Scale()` is deprecated. Use `Resize` instead. Resize has the exactly same interface as Scale.\n",
      "  warn_deprecated(msg, stacklevel=3)\n",
      "/home/s1041549/anaconda3/envs/dlsystem/lib/python3.7/site-packages/imgaug/imgaug.py:184: DeprecationWarning: Function `Scale()` is deprecated. Use `Resize` instead. Resize has the exactly same interface as Scale.\n",
      "  warn_deprecated(msg, stacklevel=3)\n",
      "/home/s1041549/anaconda3/envs/dlsystem/lib/python3.7/site-packages/imgaug/imgaug.py:184: DeprecationWarning: Function `Scale()` is deprecated. Use `Resize` instead. Resize has the exactly same interface as Scale.\n",
      "  warn_deprecated(msg, stacklevel=3)\n",
      "/home/s1041549/anaconda3/envs/dlsystem/lib/python3.7/site-packages/imgaug/imgaug.py:184: DeprecationWarning: Function `Scale()` is deprecated. Use `Resize` instead. Resize has the exactly same interface as Scale.\n",
      "  warn_deprecated(msg, stacklevel=3)\n"
     ]
    },
    {
     "name": "stdout",
     "output_type": "stream",
     "text": [
      "[87,   200] train_loss: 0.116\n",
      "[87,   200] validation_loss: 1.366\n",
      "87 epoch, training accuracy: 0.9596\n",
      "87 epoch, validation accuracy: 0.7079\n",
      "-----------------------------------------\n"
     ]
    },
    {
     "name": "stderr",
     "output_type": "stream",
     "text": [
      "/home/s1041549/anaconda3/envs/dlsystem/lib/python3.7/site-packages/imgaug/imgaug.py:184: DeprecationWarning: Function `Scale()` is deprecated. Use `Resize` instead. Resize has the exactly same interface as Scale.\n",
      "  warn_deprecated(msg, stacklevel=3)\n",
      "/home/s1041549/anaconda3/envs/dlsystem/lib/python3.7/site-packages/imgaug/imgaug.py:184: DeprecationWarning: Function `Scale()` is deprecated. Use `Resize` instead. Resize has the exactly same interface as Scale.\n",
      "  warn_deprecated(msg, stacklevel=3)\n",
      "/home/s1041549/anaconda3/envs/dlsystem/lib/python3.7/site-packages/imgaug/imgaug.py:184: DeprecationWarning: Function `Scale()` is deprecated. Use `Resize` instead. Resize has the exactly same interface as Scale.\n",
      "  warn_deprecated(msg, stacklevel=3)\n",
      "/home/s1041549/anaconda3/envs/dlsystem/lib/python3.7/site-packages/imgaug/imgaug.py:184: DeprecationWarning: Function `Scale()` is deprecated. Use `Resize` instead. Resize has the exactly same interface as Scale.\n",
      "  warn_deprecated(msg, stacklevel=3)\n"
     ]
    },
    {
     "name": "stdout",
     "output_type": "stream",
     "text": [
      "[88,   200] train_loss: 0.112\n",
      "[88,   200] validation_loss: 1.395\n",
      "88 epoch, training accuracy: 0.9620\n",
      "88 epoch, validation accuracy: 0.7096\n",
      "-----------------------------------------\n"
     ]
    },
    {
     "name": "stderr",
     "output_type": "stream",
     "text": [
      "/home/s1041549/anaconda3/envs/dlsystem/lib/python3.7/site-packages/imgaug/imgaug.py:184: DeprecationWarning: Function `Scale()` is deprecated. Use `Resize` instead. Resize has the exactly same interface as Scale.\n",
      "  warn_deprecated(msg, stacklevel=3)\n",
      "/home/s1041549/anaconda3/envs/dlsystem/lib/python3.7/site-packages/imgaug/imgaug.py:184: DeprecationWarning: Function `Scale()` is deprecated. Use `Resize` instead. Resize has the exactly same interface as Scale.\n",
      "  warn_deprecated(msg, stacklevel=3)\n",
      "/home/s1041549/anaconda3/envs/dlsystem/lib/python3.7/site-packages/imgaug/imgaug.py:184: DeprecationWarning: Function `Scale()` is deprecated. Use `Resize` instead. Resize has the exactly same interface as Scale.\n",
      "  warn_deprecated(msg, stacklevel=3)\n",
      "/home/s1041549/anaconda3/envs/dlsystem/lib/python3.7/site-packages/imgaug/imgaug.py:184: DeprecationWarning: Function `Scale()` is deprecated. Use `Resize` instead. Resize has the exactly same interface as Scale.\n",
      "  warn_deprecated(msg, stacklevel=3)\n"
     ]
    },
    {
     "name": "stdout",
     "output_type": "stream",
     "text": [
      "[89,   200] train_loss: 0.098\n",
      "[89,   200] validation_loss: 1.419\n",
      "89 epoch, training accuracy: 0.9656\n",
      "89 epoch, validation accuracy: 0.7082\n",
      "-----------------------------------------\n"
     ]
    },
    {
     "name": "stderr",
     "output_type": "stream",
     "text": [
      "/home/s1041549/anaconda3/envs/dlsystem/lib/python3.7/site-packages/imgaug/imgaug.py:184: DeprecationWarning: Function `Scale()` is deprecated. Use `Resize` instead. Resize has the exactly same interface as Scale.\n",
      "  warn_deprecated(msg, stacklevel=3)\n",
      "/home/s1041549/anaconda3/envs/dlsystem/lib/python3.7/site-packages/imgaug/imgaug.py:184: DeprecationWarning: Function `Scale()` is deprecated. Use `Resize` instead. Resize has the exactly same interface as Scale.\n",
      "  warn_deprecated(msg, stacklevel=3)\n",
      "/home/s1041549/anaconda3/envs/dlsystem/lib/python3.7/site-packages/imgaug/imgaug.py:184: DeprecationWarning: Function `Scale()` is deprecated. Use `Resize` instead. Resize has the exactly same interface as Scale.\n",
      "  warn_deprecated(msg, stacklevel=3)\n",
      "/home/s1041549/anaconda3/envs/dlsystem/lib/python3.7/site-packages/imgaug/imgaug.py:184: DeprecationWarning: Function `Scale()` is deprecated. Use `Resize` instead. Resize has the exactly same interface as Scale.\n",
      "  warn_deprecated(msg, stacklevel=3)\n"
     ]
    },
    {
     "name": "stdout",
     "output_type": "stream",
     "text": [
      "[90,   200] train_loss: 0.100\n",
      "[90,   200] validation_loss: 1.537\n",
      "90 epoch, training accuracy: 0.9651\n",
      "90 epoch, validation accuracy: 0.6875\n",
      "-----------------------------------------\n"
     ]
    },
    {
     "name": "stderr",
     "output_type": "stream",
     "text": [
      "/home/s1041549/anaconda3/envs/dlsystem/lib/python3.7/site-packages/imgaug/imgaug.py:184: DeprecationWarning: Function `Scale()` is deprecated. Use `Resize` instead. Resize has the exactly same interface as Scale.\n",
      "  warn_deprecated(msg, stacklevel=3)\n",
      "/home/s1041549/anaconda3/envs/dlsystem/lib/python3.7/site-packages/imgaug/imgaug.py:184: DeprecationWarning: Function `Scale()` is deprecated. Use `Resize` instead. Resize has the exactly same interface as Scale.\n",
      "  warn_deprecated(msg, stacklevel=3)\n",
      "/home/s1041549/anaconda3/envs/dlsystem/lib/python3.7/site-packages/imgaug/imgaug.py:184: DeprecationWarning: Function `Scale()` is deprecated. Use `Resize` instead. Resize has the exactly same interface as Scale.\n",
      "  warn_deprecated(msg, stacklevel=3)\n",
      "/home/s1041549/anaconda3/envs/dlsystem/lib/python3.7/site-packages/imgaug/imgaug.py:184: DeprecationWarning: Function `Scale()` is deprecated. Use `Resize` instead. Resize has the exactly same interface as Scale.\n",
      "  warn_deprecated(msg, stacklevel=3)\n"
     ]
    },
    {
     "name": "stdout",
     "output_type": "stream",
     "text": [
      "[91,   200] train_loss: 0.109\n",
      "[91,   200] validation_loss: 1.435\n",
      "91 epoch, training accuracy: 0.9640\n",
      "91 epoch, validation accuracy: 0.7003\n",
      "-----------------------------------------\n"
     ]
    },
    {
     "name": "stderr",
     "output_type": "stream",
     "text": [
      "/home/s1041549/anaconda3/envs/dlsystem/lib/python3.7/site-packages/imgaug/imgaug.py:184: DeprecationWarning: Function `Scale()` is deprecated. Use `Resize` instead. Resize has the exactly same interface as Scale.\n",
      "  warn_deprecated(msg, stacklevel=3)\n",
      "/home/s1041549/anaconda3/envs/dlsystem/lib/python3.7/site-packages/imgaug/imgaug.py:184: DeprecationWarning: Function `Scale()` is deprecated. Use `Resize` instead. Resize has the exactly same interface as Scale.\n",
      "  warn_deprecated(msg, stacklevel=3)\n",
      "/home/s1041549/anaconda3/envs/dlsystem/lib/python3.7/site-packages/imgaug/imgaug.py:184: DeprecationWarning: Function `Scale()` is deprecated. Use `Resize` instead. Resize has the exactly same interface as Scale.\n",
      "  warn_deprecated(msg, stacklevel=3)\n",
      "/home/s1041549/anaconda3/envs/dlsystem/lib/python3.7/site-packages/imgaug/imgaug.py:184: DeprecationWarning: Function `Scale()` is deprecated. Use `Resize` instead. Resize has the exactly same interface as Scale.\n",
      "  warn_deprecated(msg, stacklevel=3)\n"
     ]
    },
    {
     "name": "stdout",
     "output_type": "stream",
     "text": [
      "[92,   200] train_loss: 0.096\n",
      "[92,   200] validation_loss: 1.379\n",
      "92 epoch, training accuracy: 0.9681\n",
      "92 epoch, validation accuracy: 0.7187\n",
      "-----------------------------------------\n"
     ]
    },
    {
     "name": "stderr",
     "output_type": "stream",
     "text": [
      "/home/s1041549/anaconda3/envs/dlsystem/lib/python3.7/site-packages/imgaug/imgaug.py:184: DeprecationWarning: Function `Scale()` is deprecated. Use `Resize` instead. Resize has the exactly same interface as Scale.\n",
      "  warn_deprecated(msg, stacklevel=3)\n",
      "/home/s1041549/anaconda3/envs/dlsystem/lib/python3.7/site-packages/imgaug/imgaug.py:184: DeprecationWarning: Function `Scale()` is deprecated. Use `Resize` instead. Resize has the exactly same interface as Scale.\n",
      "  warn_deprecated(msg, stacklevel=3)\n",
      "/home/s1041549/anaconda3/envs/dlsystem/lib/python3.7/site-packages/imgaug/imgaug.py:184: DeprecationWarning: Function `Scale()` is deprecated. Use `Resize` instead. Resize has the exactly same interface as Scale.\n",
      "  warn_deprecated(msg, stacklevel=3)\n",
      "/home/s1041549/anaconda3/envs/dlsystem/lib/python3.7/site-packages/imgaug/imgaug.py:184: DeprecationWarning: Function `Scale()` is deprecated. Use `Resize` instead. Resize has the exactly same interface as Scale.\n",
      "  warn_deprecated(msg, stacklevel=3)\n"
     ]
    },
    {
     "name": "stdout",
     "output_type": "stream",
     "text": [
      "[93,   200] train_loss: 0.100\n",
      "[93,   200] validation_loss: 1.486\n",
      "93 epoch, training accuracy: 0.9660\n",
      "93 epoch, validation accuracy: 0.7076\n",
      "-----------------------------------------\n"
     ]
    },
    {
     "name": "stderr",
     "output_type": "stream",
     "text": [
      "/home/s1041549/anaconda3/envs/dlsystem/lib/python3.7/site-packages/imgaug/imgaug.py:184: DeprecationWarning: Function `Scale()` is deprecated. Use `Resize` instead. Resize has the exactly same interface as Scale.\n",
      "  warn_deprecated(msg, stacklevel=3)\n",
      "/home/s1041549/anaconda3/envs/dlsystem/lib/python3.7/site-packages/imgaug/imgaug.py:184: DeprecationWarning: Function `Scale()` is deprecated. Use `Resize` instead. Resize has the exactly same interface as Scale.\n",
      "  warn_deprecated(msg, stacklevel=3)\n",
      "/home/s1041549/anaconda3/envs/dlsystem/lib/python3.7/site-packages/imgaug/imgaug.py:184: DeprecationWarning: Function `Scale()` is deprecated. Use `Resize` instead. Resize has the exactly same interface as Scale.\n",
      "  warn_deprecated(msg, stacklevel=3)\n",
      "/home/s1041549/anaconda3/envs/dlsystem/lib/python3.7/site-packages/imgaug/imgaug.py:184: DeprecationWarning: Function `Scale()` is deprecated. Use `Resize` instead. Resize has the exactly same interface as Scale.\n",
      "  warn_deprecated(msg, stacklevel=3)\n"
     ]
    },
    {
     "name": "stdout",
     "output_type": "stream",
     "text": [
      "[94,   200] train_loss: 0.114\n",
      "[94,   200] validation_loss: 1.405\n",
      "94 epoch, training accuracy: 0.9634\n",
      "94 epoch, validation accuracy: 0.7157\n",
      "-----------------------------------------\n"
     ]
    },
    {
     "name": "stderr",
     "output_type": "stream",
     "text": [
      "/home/s1041549/anaconda3/envs/dlsystem/lib/python3.7/site-packages/imgaug/imgaug.py:184: DeprecationWarning: Function `Scale()` is deprecated. Use `Resize` instead. Resize has the exactly same interface as Scale.\n",
      "  warn_deprecated(msg, stacklevel=3)\n",
      "/home/s1041549/anaconda3/envs/dlsystem/lib/python3.7/site-packages/imgaug/imgaug.py:184: DeprecationWarning: Function `Scale()` is deprecated. Use `Resize` instead. Resize has the exactly same interface as Scale.\n",
      "  warn_deprecated(msg, stacklevel=3)\n",
      "/home/s1041549/anaconda3/envs/dlsystem/lib/python3.7/site-packages/imgaug/imgaug.py:184: DeprecationWarning: Function `Scale()` is deprecated. Use `Resize` instead. Resize has the exactly same interface as Scale.\n",
      "  warn_deprecated(msg, stacklevel=3)\n",
      "/home/s1041549/anaconda3/envs/dlsystem/lib/python3.7/site-packages/imgaug/imgaug.py:184: DeprecationWarning: Function `Scale()` is deprecated. Use `Resize` instead. Resize has the exactly same interface as Scale.\n",
      "  warn_deprecated(msg, stacklevel=3)\n"
     ]
    },
    {
     "name": "stdout",
     "output_type": "stream",
     "text": [
      "[95,   200] train_loss: 0.097\n",
      "[95,   200] validation_loss: 1.345\n",
      "95 epoch, training accuracy: 0.9662\n",
      "95 epoch, validation accuracy: 0.7187\n",
      "-----------------------------------------\n"
     ]
    },
    {
     "name": "stderr",
     "output_type": "stream",
     "text": [
      "/home/s1041549/anaconda3/envs/dlsystem/lib/python3.7/site-packages/imgaug/imgaug.py:184: DeprecationWarning: Function `Scale()` is deprecated. Use `Resize` instead. Resize has the exactly same interface as Scale.\n",
      "  warn_deprecated(msg, stacklevel=3)\n",
      "/home/s1041549/anaconda3/envs/dlsystem/lib/python3.7/site-packages/imgaug/imgaug.py:184: DeprecationWarning: Function `Scale()` is deprecated. Use `Resize` instead. Resize has the exactly same interface as Scale.\n",
      "  warn_deprecated(msg, stacklevel=3)\n",
      "/home/s1041549/anaconda3/envs/dlsystem/lib/python3.7/site-packages/imgaug/imgaug.py:184: DeprecationWarning: Function `Scale()` is deprecated. Use `Resize` instead. Resize has the exactly same interface as Scale.\n",
      "  warn_deprecated(msg, stacklevel=3)\n",
      "/home/s1041549/anaconda3/envs/dlsystem/lib/python3.7/site-packages/imgaug/imgaug.py:184: DeprecationWarning: Function `Scale()` is deprecated. Use `Resize` instead. Resize has the exactly same interface as Scale.\n",
      "  warn_deprecated(msg, stacklevel=3)\n"
     ]
    },
    {
     "name": "stdout",
     "output_type": "stream",
     "text": [
      "[96,   200] train_loss: 0.095\n",
      "[96,   200] validation_loss: 1.592\n",
      "96 epoch, training accuracy: 0.9686\n",
      "96 epoch, validation accuracy: 0.6907\n",
      "-----------------------------------------\n"
     ]
    },
    {
     "name": "stderr",
     "output_type": "stream",
     "text": [
      "/home/s1041549/anaconda3/envs/dlsystem/lib/python3.7/site-packages/imgaug/imgaug.py:184: DeprecationWarning: Function `Scale()` is deprecated. Use `Resize` instead. Resize has the exactly same interface as Scale.\n",
      "  warn_deprecated(msg, stacklevel=3)\n",
      "/home/s1041549/anaconda3/envs/dlsystem/lib/python3.7/site-packages/imgaug/imgaug.py:184: DeprecationWarning: Function `Scale()` is deprecated. Use `Resize` instead. Resize has the exactly same interface as Scale.\n",
      "  warn_deprecated(msg, stacklevel=3)\n",
      "/home/s1041549/anaconda3/envs/dlsystem/lib/python3.7/site-packages/imgaug/imgaug.py:184: DeprecationWarning: Function `Scale()` is deprecated. Use `Resize` instead. Resize has the exactly same interface as Scale.\n",
      "  warn_deprecated(msg, stacklevel=3)\n",
      "/home/s1041549/anaconda3/envs/dlsystem/lib/python3.7/site-packages/imgaug/imgaug.py:184: DeprecationWarning: Function `Scale()` is deprecated. Use `Resize` instead. Resize has the exactly same interface as Scale.\n",
      "  warn_deprecated(msg, stacklevel=3)\n"
     ]
    },
    {
     "name": "stdout",
     "output_type": "stream",
     "text": [
      "[97,   200] train_loss: 0.098\n",
      "[97,   200] validation_loss: 1.413\n",
      "97 epoch, training accuracy: 0.9654\n",
      "97 epoch, validation accuracy: 0.7157\n",
      "-----------------------------------------\n"
     ]
    },
    {
     "name": "stderr",
     "output_type": "stream",
     "text": [
      "/home/s1041549/anaconda3/envs/dlsystem/lib/python3.7/site-packages/imgaug/imgaug.py:184: DeprecationWarning: Function `Scale()` is deprecated. Use `Resize` instead. Resize has the exactly same interface as Scale.\n",
      "  warn_deprecated(msg, stacklevel=3)\n",
      "/home/s1041549/anaconda3/envs/dlsystem/lib/python3.7/site-packages/imgaug/imgaug.py:184: DeprecationWarning: Function `Scale()` is deprecated. Use `Resize` instead. Resize has the exactly same interface as Scale.\n",
      "  warn_deprecated(msg, stacklevel=3)\n",
      "/home/s1041549/anaconda3/envs/dlsystem/lib/python3.7/site-packages/imgaug/imgaug.py:184: DeprecationWarning: Function `Scale()` is deprecated. Use `Resize` instead. Resize has the exactly same interface as Scale.\n",
      "  warn_deprecated(msg, stacklevel=3)\n",
      "/home/s1041549/anaconda3/envs/dlsystem/lib/python3.7/site-packages/imgaug/imgaug.py:184: DeprecationWarning: Function `Scale()` is deprecated. Use `Resize` instead. Resize has the exactly same interface as Scale.\n",
      "  warn_deprecated(msg, stacklevel=3)\n"
     ]
    },
    {
     "name": "stdout",
     "output_type": "stream",
     "text": [
      "[98,   200] train_loss: 0.081\n",
      "[98,   200] validation_loss: 1.514\n",
      "98 epoch, training accuracy: 0.9726\n",
      "98 epoch, validation accuracy: 0.7061\n",
      "-----------------------------------------\n"
     ]
    },
    {
     "name": "stderr",
     "output_type": "stream",
     "text": [
      "/home/s1041549/anaconda3/envs/dlsystem/lib/python3.7/site-packages/imgaug/imgaug.py:184: DeprecationWarning: Function `Scale()` is deprecated. Use `Resize` instead. Resize has the exactly same interface as Scale.\n",
      "  warn_deprecated(msg, stacklevel=3)\n",
      "/home/s1041549/anaconda3/envs/dlsystem/lib/python3.7/site-packages/imgaug/imgaug.py:184: DeprecationWarning: Function `Scale()` is deprecated. Use `Resize` instead. Resize has the exactly same interface as Scale.\n",
      "  warn_deprecated(msg, stacklevel=3)\n",
      "/home/s1041549/anaconda3/envs/dlsystem/lib/python3.7/site-packages/imgaug/imgaug.py:184: DeprecationWarning: Function `Scale()` is deprecated. Use `Resize` instead. Resize has the exactly same interface as Scale.\n",
      "  warn_deprecated(msg, stacklevel=3)\n",
      "/home/s1041549/anaconda3/envs/dlsystem/lib/python3.7/site-packages/imgaug/imgaug.py:184: DeprecationWarning: Function `Scale()` is deprecated. Use `Resize` instead. Resize has the exactly same interface as Scale.\n",
      "  warn_deprecated(msg, stacklevel=3)\n"
     ]
    },
    {
     "name": "stdout",
     "output_type": "stream",
     "text": [
      "[99,   200] train_loss: 0.094\n",
      "[99,   200] validation_loss: 1.510\n",
      "99 epoch, training accuracy: 0.9690\n",
      "99 epoch, validation accuracy: 0.7102\n",
      "-----------------------------------------\n"
     ]
    },
    {
     "name": "stderr",
     "output_type": "stream",
     "text": [
      "/home/s1041549/anaconda3/envs/dlsystem/lib/python3.7/site-packages/imgaug/imgaug.py:184: DeprecationWarning: Function `Scale()` is deprecated. Use `Resize` instead. Resize has the exactly same interface as Scale.\n",
      "  warn_deprecated(msg, stacklevel=3)\n",
      "/home/s1041549/anaconda3/envs/dlsystem/lib/python3.7/site-packages/imgaug/imgaug.py:184: DeprecationWarning: Function `Scale()` is deprecated. Use `Resize` instead. Resize has the exactly same interface as Scale.\n",
      "  warn_deprecated(msg, stacklevel=3)\n",
      "/home/s1041549/anaconda3/envs/dlsystem/lib/python3.7/site-packages/imgaug/imgaug.py:184: DeprecationWarning: Function `Scale()` is deprecated. Use `Resize` instead. Resize has the exactly same interface as Scale.\n",
      "  warn_deprecated(msg, stacklevel=3)\n",
      "/home/s1041549/anaconda3/envs/dlsystem/lib/python3.7/site-packages/imgaug/imgaug.py:184: DeprecationWarning: Function `Scale()` is deprecated. Use `Resize` instead. Resize has the exactly same interface as Scale.\n",
      "  warn_deprecated(msg, stacklevel=3)\n"
     ]
    },
    {
     "name": "stdout",
     "output_type": "stream",
     "text": [
      "[100,   200] train_loss: 0.100\n",
      "[100,   200] validation_loss: 1.594\n",
      "100 epoch, training accuracy: 0.9653\n",
      "100 epoch, validation accuracy: 0.6848\n",
      "-----------------------------------------\n"
     ]
    },
    {
     "name": "stderr",
     "output_type": "stream",
     "text": [
      "/home/s1041549/anaconda3/envs/dlsystem/lib/python3.7/site-packages/imgaug/imgaug.py:184: DeprecationWarning: Function `Scale()` is deprecated. Use `Resize` instead. Resize has the exactly same interface as Scale.\n",
      "  warn_deprecated(msg, stacklevel=3)\n",
      "/home/s1041549/anaconda3/envs/dlsystem/lib/python3.7/site-packages/imgaug/imgaug.py:184: DeprecationWarning: Function `Scale()` is deprecated. Use `Resize` instead. Resize has the exactly same interface as Scale.\n",
      "  warn_deprecated(msg, stacklevel=3)\n",
      "/home/s1041549/anaconda3/envs/dlsystem/lib/python3.7/site-packages/imgaug/imgaug.py:184: DeprecationWarning: Function `Scale()` is deprecated. Use `Resize` instead. Resize has the exactly same interface as Scale.\n",
      "  warn_deprecated(msg, stacklevel=3)\n",
      "/home/s1041549/anaconda3/envs/dlsystem/lib/python3.7/site-packages/imgaug/imgaug.py:184: DeprecationWarning: Function `Scale()` is deprecated. Use `Resize` instead. Resize has the exactly same interface as Scale.\n",
      "  warn_deprecated(msg, stacklevel=3)\n"
     ]
    },
    {
     "name": "stdout",
     "output_type": "stream",
     "text": [
      "[101,   200] train_loss: 0.094\n",
      "[101,   200] validation_loss: 1.457\n",
      "101 epoch, training accuracy: 0.9686\n",
      "101 epoch, validation accuracy: 0.7082\n",
      "-----------------------------------------\n"
     ]
    },
    {
     "name": "stderr",
     "output_type": "stream",
     "text": [
      "/home/s1041549/anaconda3/envs/dlsystem/lib/python3.7/site-packages/imgaug/imgaug.py:184: DeprecationWarning: Function `Scale()` is deprecated. Use `Resize` instead. Resize has the exactly same interface as Scale.\n",
      "  warn_deprecated(msg, stacklevel=3)\n",
      "/home/s1041549/anaconda3/envs/dlsystem/lib/python3.7/site-packages/imgaug/imgaug.py:184: DeprecationWarning: Function `Scale()` is deprecated. Use `Resize` instead. Resize has the exactly same interface as Scale.\n",
      "  warn_deprecated(msg, stacklevel=3)\n",
      "/home/s1041549/anaconda3/envs/dlsystem/lib/python3.7/site-packages/imgaug/imgaug.py:184: DeprecationWarning: Function `Scale()` is deprecated. Use `Resize` instead. Resize has the exactly same interface as Scale.\n",
      "  warn_deprecated(msg, stacklevel=3)\n",
      "/home/s1041549/anaconda3/envs/dlsystem/lib/python3.7/site-packages/imgaug/imgaug.py:184: DeprecationWarning: Function `Scale()` is deprecated. Use `Resize` instead. Resize has the exactly same interface as Scale.\n",
      "  warn_deprecated(msg, stacklevel=3)\n"
     ]
    },
    {
     "name": "stdout",
     "output_type": "stream",
     "text": [
      "[102,   200] train_loss: 0.093\n",
      "[102,   200] validation_loss: 1.417\n",
      "102 epoch, training accuracy: 0.9684\n",
      "102 epoch, validation accuracy: 0.7070\n",
      "-----------------------------------------\n"
     ]
    },
    {
     "name": "stderr",
     "output_type": "stream",
     "text": [
      "/home/s1041549/anaconda3/envs/dlsystem/lib/python3.7/site-packages/imgaug/imgaug.py:184: DeprecationWarning: Function `Scale()` is deprecated. Use `Resize` instead. Resize has the exactly same interface as Scale.\n",
      "  warn_deprecated(msg, stacklevel=3)\n",
      "/home/s1041549/anaconda3/envs/dlsystem/lib/python3.7/site-packages/imgaug/imgaug.py:184: DeprecationWarning: Function `Scale()` is deprecated. Use `Resize` instead. Resize has the exactly same interface as Scale.\n",
      "  warn_deprecated(msg, stacklevel=3)\n",
      "/home/s1041549/anaconda3/envs/dlsystem/lib/python3.7/site-packages/imgaug/imgaug.py:184: DeprecationWarning: Function `Scale()` is deprecated. Use `Resize` instead. Resize has the exactly same interface as Scale.\n",
      "  warn_deprecated(msg, stacklevel=3)\n",
      "/home/s1041549/anaconda3/envs/dlsystem/lib/python3.7/site-packages/imgaug/imgaug.py:184: DeprecationWarning: Function `Scale()` is deprecated. Use `Resize` instead. Resize has the exactly same interface as Scale.\n",
      "  warn_deprecated(msg, stacklevel=3)\n"
     ]
    },
    {
     "name": "stdout",
     "output_type": "stream",
     "text": [
      "[103,   200] train_loss: 0.097\n",
      "[103,   200] validation_loss: 1.475\n",
      "103 epoch, training accuracy: 0.9690\n",
      "103 epoch, validation accuracy: 0.6948\n",
      "-----------------------------------------\n"
     ]
    },
    {
     "name": "stderr",
     "output_type": "stream",
     "text": [
      "/home/s1041549/anaconda3/envs/dlsystem/lib/python3.7/site-packages/imgaug/imgaug.py:184: DeprecationWarning: Function `Scale()` is deprecated. Use `Resize` instead. Resize has the exactly same interface as Scale.\n",
      "  warn_deprecated(msg, stacklevel=3)\n",
      "/home/s1041549/anaconda3/envs/dlsystem/lib/python3.7/site-packages/imgaug/imgaug.py:184: DeprecationWarning: Function `Scale()` is deprecated. Use `Resize` instead. Resize has the exactly same interface as Scale.\n",
      "  warn_deprecated(msg, stacklevel=3)\n",
      "/home/s1041549/anaconda3/envs/dlsystem/lib/python3.7/site-packages/imgaug/imgaug.py:184: DeprecationWarning: Function `Scale()` is deprecated. Use `Resize` instead. Resize has the exactly same interface as Scale.\n",
      "  warn_deprecated(msg, stacklevel=3)\n",
      "/home/s1041549/anaconda3/envs/dlsystem/lib/python3.7/site-packages/imgaug/imgaug.py:184: DeprecationWarning: Function `Scale()` is deprecated. Use `Resize` instead. Resize has the exactly same interface as Scale.\n",
      "  warn_deprecated(msg, stacklevel=3)\n"
     ]
    },
    {
     "name": "stdout",
     "output_type": "stream",
     "text": [
      "[104,   200] train_loss: 0.075\n",
      "[104,   200] validation_loss: 1.480\n",
      "104 epoch, training accuracy: 0.9755\n",
      "104 epoch, validation accuracy: 0.7096\n",
      "-----------------------------------------\n"
     ]
    },
    {
     "name": "stderr",
     "output_type": "stream",
     "text": [
      "/home/s1041549/anaconda3/envs/dlsystem/lib/python3.7/site-packages/imgaug/imgaug.py:184: DeprecationWarning: Function `Scale()` is deprecated. Use `Resize` instead. Resize has the exactly same interface as Scale.\n",
      "  warn_deprecated(msg, stacklevel=3)\n",
      "/home/s1041549/anaconda3/envs/dlsystem/lib/python3.7/site-packages/imgaug/imgaug.py:184: DeprecationWarning: Function `Scale()` is deprecated. Use `Resize` instead. Resize has the exactly same interface as Scale.\n",
      "  warn_deprecated(msg, stacklevel=3)\n",
      "/home/s1041549/anaconda3/envs/dlsystem/lib/python3.7/site-packages/imgaug/imgaug.py:184: DeprecationWarning: Function `Scale()` is deprecated. Use `Resize` instead. Resize has the exactly same interface as Scale.\n",
      "  warn_deprecated(msg, stacklevel=3)\n",
      "/home/s1041549/anaconda3/envs/dlsystem/lib/python3.7/site-packages/imgaug/imgaug.py:184: DeprecationWarning: Function `Scale()` is deprecated. Use `Resize` instead. Resize has the exactly same interface as Scale.\n",
      "  warn_deprecated(msg, stacklevel=3)\n"
     ]
    },
    {
     "name": "stdout",
     "output_type": "stream",
     "text": [
      "[105,   200] train_loss: 0.088\n",
      "[105,   200] validation_loss: 1.540\n",
      "105 epoch, training accuracy: 0.9695\n",
      "105 epoch, validation accuracy: 0.6988\n",
      "-----------------------------------------\n"
     ]
    },
    {
     "name": "stderr",
     "output_type": "stream",
     "text": [
      "/home/s1041549/anaconda3/envs/dlsystem/lib/python3.7/site-packages/imgaug/imgaug.py:184: DeprecationWarning: Function `Scale()` is deprecated. Use `Resize` instead. Resize has the exactly same interface as Scale.\n",
      "  warn_deprecated(msg, stacklevel=3)\n",
      "/home/s1041549/anaconda3/envs/dlsystem/lib/python3.7/site-packages/imgaug/imgaug.py:184: DeprecationWarning: Function `Scale()` is deprecated. Use `Resize` instead. Resize has the exactly same interface as Scale.\n",
      "  warn_deprecated(msg, stacklevel=3)\n",
      "/home/s1041549/anaconda3/envs/dlsystem/lib/python3.7/site-packages/imgaug/imgaug.py:184: DeprecationWarning: Function `Scale()` is deprecated. Use `Resize` instead. Resize has the exactly same interface as Scale.\n",
      "  warn_deprecated(msg, stacklevel=3)\n",
      "/home/s1041549/anaconda3/envs/dlsystem/lib/python3.7/site-packages/imgaug/imgaug.py:184: DeprecationWarning: Function `Scale()` is deprecated. Use `Resize` instead. Resize has the exactly same interface as Scale.\n",
      "  warn_deprecated(msg, stacklevel=3)\n"
     ]
    },
    {
     "name": "stdout",
     "output_type": "stream",
     "text": [
      "[106,   200] train_loss: 0.088\n",
      "[106,   200] validation_loss: 1.463\n",
      "106 epoch, training accuracy: 0.9723\n",
      "106 epoch, validation accuracy: 0.7204\n",
      "-----------------------------------------\n"
     ]
    },
    {
     "name": "stderr",
     "output_type": "stream",
     "text": [
      "/home/s1041549/anaconda3/envs/dlsystem/lib/python3.7/site-packages/imgaug/imgaug.py:184: DeprecationWarning: Function `Scale()` is deprecated. Use `Resize` instead. Resize has the exactly same interface as Scale.\n",
      "  warn_deprecated(msg, stacklevel=3)\n",
      "/home/s1041549/anaconda3/envs/dlsystem/lib/python3.7/site-packages/imgaug/imgaug.py:184: DeprecationWarning: Function `Scale()` is deprecated. Use `Resize` instead. Resize has the exactly same interface as Scale.\n",
      "  warn_deprecated(msg, stacklevel=3)\n",
      "/home/s1041549/anaconda3/envs/dlsystem/lib/python3.7/site-packages/imgaug/imgaug.py:184: DeprecationWarning: Function `Scale()` is deprecated. Use `Resize` instead. Resize has the exactly same interface as Scale.\n",
      "  warn_deprecated(msg, stacklevel=3)\n",
      "/home/s1041549/anaconda3/envs/dlsystem/lib/python3.7/site-packages/imgaug/imgaug.py:184: DeprecationWarning: Function `Scale()` is deprecated. Use `Resize` instead. Resize has the exactly same interface as Scale.\n",
      "  warn_deprecated(msg, stacklevel=3)\n"
     ]
    },
    {
     "name": "stdout",
     "output_type": "stream",
     "text": [
      "[107,   200] train_loss: 0.066\n",
      "[107,   200] validation_loss: 1.613\n",
      "107 epoch, training accuracy: 0.9770\n",
      "107 epoch, validation accuracy: 0.7070\n",
      "-----------------------------------------\n"
     ]
    },
    {
     "name": "stderr",
     "output_type": "stream",
     "text": [
      "/home/s1041549/anaconda3/envs/dlsystem/lib/python3.7/site-packages/imgaug/imgaug.py:184: DeprecationWarning: Function `Scale()` is deprecated. Use `Resize` instead. Resize has the exactly same interface as Scale.\n",
      "  warn_deprecated(msg, stacklevel=3)\n",
      "/home/s1041549/anaconda3/envs/dlsystem/lib/python3.7/site-packages/imgaug/imgaug.py:184: DeprecationWarning: Function `Scale()` is deprecated. Use `Resize` instead. Resize has the exactly same interface as Scale.\n",
      "  warn_deprecated(msg, stacklevel=3)\n",
      "/home/s1041549/anaconda3/envs/dlsystem/lib/python3.7/site-packages/imgaug/imgaug.py:184: DeprecationWarning: Function `Scale()` is deprecated. Use `Resize` instead. Resize has the exactly same interface as Scale.\n",
      "  warn_deprecated(msg, stacklevel=3)\n",
      "/home/s1041549/anaconda3/envs/dlsystem/lib/python3.7/site-packages/imgaug/imgaug.py:184: DeprecationWarning: Function `Scale()` is deprecated. Use `Resize` instead. Resize has the exactly same interface as Scale.\n",
      "  warn_deprecated(msg, stacklevel=3)\n"
     ]
    },
    {
     "name": "stdout",
     "output_type": "stream",
     "text": [
      "[108,   200] train_loss: 0.096\n",
      "[108,   200] validation_loss: 1.611\n",
      "108 epoch, training accuracy: 0.9674\n",
      "108 epoch, validation accuracy: 0.6831\n",
      "-----------------------------------------\n"
     ]
    },
    {
     "name": "stderr",
     "output_type": "stream",
     "text": [
      "/home/s1041549/anaconda3/envs/dlsystem/lib/python3.7/site-packages/imgaug/imgaug.py:184: DeprecationWarning: Function `Scale()` is deprecated. Use `Resize` instead. Resize has the exactly same interface as Scale.\n",
      "  warn_deprecated(msg, stacklevel=3)\n",
      "/home/s1041549/anaconda3/envs/dlsystem/lib/python3.7/site-packages/imgaug/imgaug.py:184: DeprecationWarning: Function `Scale()` is deprecated. Use `Resize` instead. Resize has the exactly same interface as Scale.\n",
      "  warn_deprecated(msg, stacklevel=3)\n",
      "/home/s1041549/anaconda3/envs/dlsystem/lib/python3.7/site-packages/imgaug/imgaug.py:184: DeprecationWarning: Function `Scale()` is deprecated. Use `Resize` instead. Resize has the exactly same interface as Scale.\n",
      "  warn_deprecated(msg, stacklevel=3)\n",
      "/home/s1041549/anaconda3/envs/dlsystem/lib/python3.7/site-packages/imgaug/imgaug.py:184: DeprecationWarning: Function `Scale()` is deprecated. Use `Resize` instead. Resize has the exactly same interface as Scale.\n",
      "  warn_deprecated(msg, stacklevel=3)\n"
     ]
    },
    {
     "name": "stdout",
     "output_type": "stream",
     "text": [
      "[109,   200] train_loss: 0.087\n",
      "[109,   200] validation_loss: 1.468\n",
      "109 epoch, training accuracy: 0.9699\n",
      "109 epoch, validation accuracy: 0.7108\n",
      "-----------------------------------------\n"
     ]
    },
    {
     "name": "stderr",
     "output_type": "stream",
     "text": [
      "/home/s1041549/anaconda3/envs/dlsystem/lib/python3.7/site-packages/imgaug/imgaug.py:184: DeprecationWarning: Function `Scale()` is deprecated. Use `Resize` instead. Resize has the exactly same interface as Scale.\n",
      "  warn_deprecated(msg, stacklevel=3)\n",
      "/home/s1041549/anaconda3/envs/dlsystem/lib/python3.7/site-packages/imgaug/imgaug.py:184: DeprecationWarning: Function `Scale()` is deprecated. Use `Resize` instead. Resize has the exactly same interface as Scale.\n",
      "  warn_deprecated(msg, stacklevel=3)\n",
      "/home/s1041549/anaconda3/envs/dlsystem/lib/python3.7/site-packages/imgaug/imgaug.py:184: DeprecationWarning: Function `Scale()` is deprecated. Use `Resize` instead. Resize has the exactly same interface as Scale.\n",
      "  warn_deprecated(msg, stacklevel=3)\n",
      "/home/s1041549/anaconda3/envs/dlsystem/lib/python3.7/site-packages/imgaug/imgaug.py:184: DeprecationWarning: Function `Scale()` is deprecated. Use `Resize` instead. Resize has the exactly same interface as Scale.\n",
      "  warn_deprecated(msg, stacklevel=3)\n"
     ]
    }
   ],
   "source": [
    "device = 'cuda' if torch.cuda.is_available() else 'cpu'\n",
    "train_datapath = \"./training\"\n",
    "valid_datapath = \"./validation\"\n",
    "test_datapath = \"./evaluation\"\n",
    "\n",
    "wts = [ 1.5, 3.5, 1, 1.52, 1.76, 1.13, 3.4, 5.35, 1.75, 1, 2.1 ]\n",
    "\n",
    "train_dataset = Food11Dataset(train_datapath, input_transform=input_transform, is_train=True)\n",
    "valid_dataset = Food11Dataset(valid_datapath, input_transform=not_train_transform, is_train=False)\n",
    "test_dataset = Food11Dataset(test_datapath, input_transform=not_train_transform, is_train=False)\n",
    "#train_dataset.augmentation(wts)\n",
    "\n",
    "sampler = WRSampler(train_dataset, wts)\n",
    "\n",
    "train_loader = DataLoader(dataset=train_dataset, num_workers=4, batch_size=32, sampler = sampler)\n",
    "valid_loader = DataLoader(dataset=valid_dataset, num_workers=4, batch_size=64, shuffle=False)\n",
    "test_loader = DataLoader(dataset=test_dataset, num_workers=4, batch_size=8, shuffle=False)\n",
    "\n",
    "net = models.resnet18(pretrained=False)\n",
    "net.fc = nn.Sequential(nn.Linear(512,256),nn.LeakyReLU(),nn.Linear(256,128),nn.LeakyReLU(),nn.Linear(128,11))\n",
    "net = net.to(device) \n",
    "\n",
    "learning_rate = 0.0001\n",
    "criterion = nn.CrossEntropyLoss() #定義損失函數\n",
    "optimizer = torch.optim.Adam(net.parameters(), lr=learning_rate, betas=[0.9, 0.999]) #定優化函數\n",
    "\n",
    "net.train()\n",
    "num_epoch = 200\n",
    "run_epoch = 0\n",
    "t_loss = []\n",
    "v_loss = []\n",
    "training_accuracy = []\n",
    "validation_accuracy = []\n",
    "total = 0\n",
    "\n",
    "for epoch in range(200):  # loop over the dataset multiple times\n",
    "    train_loss = 0.0\n",
    "    validation_loss = 0.0\n",
    "    correct_train = 0\n",
    "    correct_validation = 0\n",
    "    train_num = 0\n",
    "    val_num = 0\n",
    "    cls = []\n",
    "\n",
    "    for i in range(11):\n",
    "        cls.append(0)\n",
    "    \n",
    "    ########################\n",
    "    # train the model      #\n",
    "    ########################\n",
    "    \n",
    "    net.train()\n",
    "    for i, (inputs, labels) in enumerate(train_loader, 0):\n",
    "        \n",
    "        #change the type into cuda tensor \n",
    "        inputs = inputs.to(device) \n",
    "        labels = labels.to(device) \n",
    "\n",
    "        # zero the parameter gradients\n",
    "        optimizer.zero_grad()\n",
    "\n",
    "        # forward + backward + optimize\n",
    "        outputs = net(inputs)\n",
    "        # select the class with highest probability\n",
    "        _, pred = outputs.max(1)\n",
    "        # if the model predicts the same results as the true\n",
    "        # label, then the correct counter will plus 1\n",
    "        correct_train += pred.eq(labels).sum().item()\n",
    "        loss = criterion(outputs, labels)\n",
    "        loss.backward()\n",
    "        optimizer.step()\n",
    "        \n",
    "        # print statistics\n",
    "        train_loss += loss.item()\n",
    "        train_num += 1\n",
    "   \n",
    "\n",
    "        \n",
    "    ########################\n",
    "    # validate the model   #\n",
    "    ########################\n",
    "    \n",
    "    net.eval()\n",
    "    for i, (inputs, labels) in enumerate(valid_loader, 0):\n",
    "        # move tensors to GPU if CUDA is available\n",
    "        inputs = inputs.to(device) \n",
    "        labels = labels.to(device)\n",
    "        # forward pass: compute predicted outputs by passing inputs to the model\n",
    "        outputs = net(inputs)\n",
    "        _, pred = outputs.max(1)\n",
    "        correct_validation += pred.eq(labels).sum().item()\n",
    "        # calculate the batch loss\n",
    "        loss = criterion(outputs, labels)\n",
    "        # update average validation loss \n",
    "        validation_loss += loss.item()\n",
    "        val_num += 1\n",
    "        \n",
    "        \n",
    "    if epoch % 1 == 0:    # print every 200 mini-batches\n",
    "        print('[%d, %5d] train_loss: %.3f' % (epoch + 1, num_epoch, train_loss / train_num))\n",
    "        print('[%d, %5d] validation_loss: %.3f' % (epoch + 1, num_epoch, validation_loss / val_num))\n",
    "        print('%d epoch, training accuracy: %.4f' % (epoch + 1, correct_train / len(train_dataset)))\n",
    "        print('%d epoch, validation accuracy: %.4f' % (epoch + 1, correct_validation / len(valid_dataset)))\n",
    "        print('-----------------------------------------')\n",
    "        \n",
    "        t_loss.append(train_loss / train_num)\n",
    "        training_accuracy.append(correct_train / len(train_dataset))\n",
    "        validation_accuracy.append(correct_validation / len(valid_dataset))\n",
    "        running_loss = 0.0\n",
    "        validation_loss = 0.0\n",
    "        train_num = 0\n",
    "        val_num = 0\n",
    "        correct_train = 0\n",
    "        correct_validation = 0\n",
    "        total = 0\n",
    "        run_epoch += 1\n",
    "        \n",
    "        torch.save(net.state_dict(), './resnet18_no_augmentation/' + str(epoch) + '.pth')\n",
    "    \n",
    "print('Finished Training')"
   ]
  },
  {
   "cell_type": "code",
   "execution_count": null,
   "metadata": {},
   "outputs": [],
   "source": [
    "def reload_net():\n",
    "    trainednet = models.resnet18()  \n",
    "    #trainednet.fc = torch.nn.Linear(1000, 11)  \n",
    "    trainednet.fc = nn.Sequential(nn.Linear(512,256),nn.LeakyReLU(),nn.Linear(256,128),nn.LeakyReLU(),nn.Linear(128,11))\n",
    "    trainednet.load_state_dict(torch.load('./resnet18_no_augmentation/38.pth'))\n",
    "    return trainednet"
   ]
  },
  {
   "cell_type": "code",
   "execution_count": null,
   "metadata": {},
   "outputs": [],
   "source": [
    "pretrain_net = reload_net().to(device)\n",
    "test_loss = 0.0\n",
    "correct_test = 0\n",
    "test_num = 0\n",
    "cls = np.zeros(11)\n",
    "correct_top3 = 0"
   ]
  },
  {
   "cell_type": "code",
   "execution_count": null,
   "metadata": {},
   "outputs": [],
   "source": [
    "pretrain_net.eval()\n",
    "for i, (inputs, labels) in enumerate(test_loader, 0):\n",
    "    # move tensors to GPU if CUDA is available\n",
    "    inputs = inputs.to(device) \n",
    "    labels = labels.to(device)\n",
    "    # forward pass: compute predicted outputs by passing inputs to the model\n",
    "    outputs = pretrain_net(inputs)\n",
    "    _, pred = outputs.max(1)\n",
    "    correct_test += pred.eq(labels).sum().item()\n",
    "    _, top3 = outputs.topk(3)\n",
    "    correct_top3 += top3.eq(labels.view(-1,1).expand_as(top3)).sum().item()\n",
    "    \n",
    "    cls[0] += (pred.eq(0) * pred.eq(labels)).sum().item()\n",
    "    cls[1] += (pred.eq(1) * pred.eq(labels)).sum().item()\n",
    "    cls[2] += (pred.eq(2) * pred.eq(labels)).sum().item()\n",
    "    cls[3] += (pred.eq(3) * pred.eq(labels)).sum().item()\n",
    "    cls[4] += (pred.eq(4) * pred.eq(labels)).sum().item()\n",
    "    cls[5] += (pred.eq(5) * pred.eq(labels)).sum().item()\n",
    "    cls[6] += (pred.eq(6) * pred.eq(labels)).sum().item()\n",
    "    cls[7] += (pred.eq(7) * pred.eq(labels)).sum().item()\n",
    "    cls[8] += (pred.eq(8) * pred.eq(labels)).sum().item()\n",
    "    cls[9] += (pred.eq(9) * pred.eq(labels)).sum().item()\n",
    "    cls[10] += (pred.eq(10) * pred.eq(labels)).sum().item()"
   ]
  },
  {
   "cell_type": "code",
   "execution_count": null,
   "metadata": {},
   "outputs": [],
   "source": [
    "print('Test set: Top 1 Accuracy: %d/3347 (%.2f%%), Top 3 Accuracy: %d/3347 (%.2f%%)' \n",
    "      % (correct_test, correct_test / len(test_dataset)*100, correct_top3, correct_top3/ len(test_dataset)*100))\n",
    "print('%-20s : %d/%d    %10f%%' % (code2names[0], cls[0], 368, cls[0]/368*100))\n",
    "print('%-20s : %d/%d    %10f%%' % (code2names[1], cls[1], 148, cls[1]/148*100))\n",
    "print('%-20s : %d/%d    %10f%%' % (code2names[2], cls[2], 500, cls[2]/500*100))\n",
    "print('%-20s : %d/%d    %10f%%' % (code2names[3], cls[3], 335, cls[3]/335*100))\n",
    "print('%-20s : %d/%d    %10f%%' % (code2names[4], cls[4], 287, cls[4]/287*100))\n",
    "print('%-20s : %d/%d    %10f%%' % (code2names[5], cls[5], 432, cls[5]/432*100))\n",
    "print('%-20s : %d/%d    %10f%%' % (code2names[6], cls[6], 147, cls[6]/147*100))\n",
    "print('%-20s : %d/%d    %10f%%' % (code2names[7], cls[7], 96, cls[7]/96*100))\n",
    "print('%-20s : %d/%d    %10f%%' % (code2names[8], cls[8], 303, cls[8]/303*100))\n",
    "print('%-20s : %d/%d    %10f%%' % (code2names[9], cls[9], 500, cls[9]/500*100))\n",
    "print('%-20s : %d/%d    %10f%%' % (code2names[10], cls[10], 231, cls[10]/231*100))\n",
    "\n",
    "avg = []\n",
    "avg.append(cls[0]/368*100)\n",
    "avg.append(cls[1]/148*100)\n",
    "avg.append(cls[2]/500*100)\n",
    "avg.append(cls[3]/335*100)\n",
    "avg.append(cls[4]/287*100)\n",
    "avg.append(cls[5]/432*100)\n",
    "avg.append(cls[6]/147*100)\n",
    "avg.append(cls[7]/96*100)\n",
    "avg.append(cls[8]/303*100)\n",
    "avg.append(cls[9]/500*100)\n",
    "avg.append(cls[10]/231*100)\n",
    "print('Average per case accuracy: %10f%%' % (sum(avg)/len(avg)))\n",
    "print('-----------------------------------------')"
   ]
  },
  {
   "cell_type": "code",
   "execution_count": null,
   "metadata": {},
   "outputs": [],
   "source": []
  }
 ],
 "metadata": {
  "kernelspec": {
   "display_name": "Python 3",
   "language": "python",
   "name": "python3"
  },
  "language_info": {
   "codemirror_mode": {
    "name": "ipython",
    "version": 3
   },
   "file_extension": ".py",
   "mimetype": "text/x-python",
   "name": "python",
   "nbconvert_exporter": "python",
   "pygments_lexer": "ipython3",
   "version": "3.7.6"
  }
 },
 "nbformat": 4,
 "nbformat_minor": 4
}
